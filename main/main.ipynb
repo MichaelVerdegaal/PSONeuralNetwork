{
 "cells": [
  {
   "cell_type": "code",
   "execution_count": 378,
   "id": "initial_id",
   "metadata": {
    "collapsed": true,
    "ExecuteTime": {
     "end_time": "2024-06-21T14:27:22.082883Z",
     "start_time": "2024-06-21T14:27:22.079330Z"
    }
   },
   "outputs": [],
   "source": [
    "import numpy as np\n",
    "import pandas as pd\n",
    "from sklearn.metrics import r2_score\n",
    "from sklearn.model_selection import train_test_split\n",
    "from sklearn.preprocessing import OneHotEncoder, MinMaxScaler\n",
    "import torch.nn as nn\n",
    "import torch\n",
    "import torch.optim as optim\n",
    "import re\n",
    "from torch.utils.data import Dataset, DataLoader\n",
    "\n",
    "from config import DATA_FOLDER"
   ]
  },
  {
   "cell_type": "markdown",
   "source": [
    "# Data"
   ],
   "metadata": {
    "collapsed": false
   },
   "id": "4ea424b67e6bc71"
  },
  {
   "cell_type": "code",
   "outputs": [],
   "source": [
    "df = pd.read_csv(DATA_FOLDER / \"mobile phone price prediction.csv\")\n",
    "df = df.drop(\"Unnamed: 0\", axis=1)"
   ],
   "metadata": {
    "collapsed": false,
    "ExecuteTime": {
     "end_time": "2024-06-21T14:27:22.703881Z",
     "start_time": "2024-06-21T14:27:22.686404Z"
    }
   },
   "id": "f5c8f3c20ae09240",
   "execution_count": 379
  },
  {
   "cell_type": "code",
   "outputs": [
    {
     "data": {
      "text/plain": "(1370, 17)"
     },
     "execution_count": 380,
     "metadata": {},
     "output_type": "execute_result"
    }
   ],
   "source": [
    "df.shape"
   ],
   "metadata": {
    "collapsed": false,
    "ExecuteTime": {
     "end_time": "2024-06-21T14:27:22.748013Z",
     "start_time": "2024-06-21T14:27:22.743789Z"
    }
   },
   "id": "a08aa0627a229096",
   "execution_count": 380
  },
  {
   "cell_type": "code",
   "outputs": [
    {
     "data": {
      "text/plain": "                                   Name  Rating  Spec_score  \\\n0                 Samsung Galaxy F14 5G    4.65          68   \n1                    Samsung Galaxy A11    4.20          63   \n2                    Samsung Galaxy A13    4.30          75   \n3                    Samsung Galaxy F23    4.10          73   \n4  Samsung Galaxy A03s (4GB RAM + 64GB)    4.10          69   \n\n                       No_of_sim       Ram            Battery     Display  \\\n0  Dual Sim, 3G, 4G, 5G, VoLTE,   4 GB RAM  6000 mAh Battery   6.6 inches   \n1      Dual Sim, 3G, 4G, VoLTE,   2 GB RAM  4000 mAh Battery   6.4 inches   \n2      Dual Sim, 3G, 4G, VoLTE,   4 GB RAM  5000 mAh Battery   6.6 inches   \n3      Dual Sim, 3G, 4G, VoLTE,   4 GB RAM   6000 mAh Battery  6.4 inches   \n4      Dual Sim, 3G, 4G, VoLTE,   4 GB RAM  5000 mAh Battery   6.5 inches   \n\n                                              Camera  \\\n0    50 MP + 2 MP Dual Rear &amp; 13 MP Front Camera   \n1  13 MP + 5 MP + 2 MP Triple Rear &amp; 8 MP Fro...   \n2            50 MP Quad Rear &amp; 8 MP Front Camera   \n3           48 MP Quad Rear &amp; 13 MP Front Camera   \n4  13 MP + 2 MP + 2 MP Triple Rear &amp; 5 MP Fro...   \n\n                      External_Memory Android_version   Price  company  \\\n0    Memory Card Supported, upto 1 TB              13   9,999  Samsung   \n1  Memory Card Supported, upto 512 GB              10   9,990  Samsung   \n2    Memory Card Supported, upto 1 TB              12  11,999  Samsung   \n3    Memory Card Supported, upto 1 TB              12  11,999  Samsung   \n4    Memory Card Supported, upto 1 TB              11  11,999  Samsung   \n\n    Inbuilt_memory       fast_charging  \\\n0   128 GB inbuilt   25W Fast Charging   \n1    32 GB inbuilt   15W Fast Charging   \n2    64 GB inbuilt   25W Fast Charging   \n3    64 GB inbuilt                 NaN   \n4    64 GB inbuilt   15W Fast Charging   \n\n                               Screen_resolution             Processor  \\\n0   2408 x 1080 px Display with Water Drop Notch   Octa Core Processor   \n1          720 x 1560 px Display with Punch Hole     1.8 GHz Processor   \n2   1080 x 2408 px Display with Water Drop Notch       2 GHz Processor   \n3                                  720 x 1600 px             Octa Core   \n4    720 x 1600 px Display with Water Drop Notch             Octa Core   \n\n  Processor_name  \n0    Exynos 1330  \n1      Octa Core  \n2      Octa Core  \n3      Helio G88  \n4      Helio P35  ",
      "text/html": "<div>\n<style scoped>\n    .dataframe tbody tr th:only-of-type {\n        vertical-align: middle;\n    }\n\n    .dataframe tbody tr th {\n        vertical-align: top;\n    }\n\n    .dataframe thead th {\n        text-align: right;\n    }\n</style>\n<table border=\"1\" class=\"dataframe\">\n  <thead>\n    <tr style=\"text-align: right;\">\n      <th></th>\n      <th>Name</th>\n      <th>Rating</th>\n      <th>Spec_score</th>\n      <th>No_of_sim</th>\n      <th>Ram</th>\n      <th>Battery</th>\n      <th>Display</th>\n      <th>Camera</th>\n      <th>External_Memory</th>\n      <th>Android_version</th>\n      <th>Price</th>\n      <th>company</th>\n      <th>Inbuilt_memory</th>\n      <th>fast_charging</th>\n      <th>Screen_resolution</th>\n      <th>Processor</th>\n      <th>Processor_name</th>\n    </tr>\n  </thead>\n  <tbody>\n    <tr>\n      <th>0</th>\n      <td>Samsung Galaxy F14 5G</td>\n      <td>4.65</td>\n      <td>68</td>\n      <td>Dual Sim, 3G, 4G, 5G, VoLTE,</td>\n      <td>4 GB RAM</td>\n      <td>6000 mAh Battery</td>\n      <td>6.6 inches</td>\n      <td>50 MP + 2 MP Dual Rear &amp;amp; 13 MP Front Camera</td>\n      <td>Memory Card Supported, upto 1 TB</td>\n      <td>13</td>\n      <td>9,999</td>\n      <td>Samsung</td>\n      <td>128 GB inbuilt</td>\n      <td>25W Fast Charging</td>\n      <td>2408 x 1080 px Display with Water Drop Notch</td>\n      <td>Octa Core Processor</td>\n      <td>Exynos 1330</td>\n    </tr>\n    <tr>\n      <th>1</th>\n      <td>Samsung Galaxy A11</td>\n      <td>4.20</td>\n      <td>63</td>\n      <td>Dual Sim, 3G, 4G, VoLTE,</td>\n      <td>2 GB RAM</td>\n      <td>4000 mAh Battery</td>\n      <td>6.4 inches</td>\n      <td>13 MP + 5 MP + 2 MP Triple Rear &amp;amp; 8 MP Fro...</td>\n      <td>Memory Card Supported, upto 512 GB</td>\n      <td>10</td>\n      <td>9,990</td>\n      <td>Samsung</td>\n      <td>32 GB inbuilt</td>\n      <td>15W Fast Charging</td>\n      <td>720 x 1560 px Display with Punch Hole</td>\n      <td>1.8 GHz Processor</td>\n      <td>Octa Core</td>\n    </tr>\n    <tr>\n      <th>2</th>\n      <td>Samsung Galaxy A13</td>\n      <td>4.30</td>\n      <td>75</td>\n      <td>Dual Sim, 3G, 4G, VoLTE,</td>\n      <td>4 GB RAM</td>\n      <td>5000 mAh Battery</td>\n      <td>6.6 inches</td>\n      <td>50 MP Quad Rear &amp;amp; 8 MP Front Camera</td>\n      <td>Memory Card Supported, upto 1 TB</td>\n      <td>12</td>\n      <td>11,999</td>\n      <td>Samsung</td>\n      <td>64 GB inbuilt</td>\n      <td>25W Fast Charging</td>\n      <td>1080 x 2408 px Display with Water Drop Notch</td>\n      <td>2 GHz Processor</td>\n      <td>Octa Core</td>\n    </tr>\n    <tr>\n      <th>3</th>\n      <td>Samsung Galaxy F23</td>\n      <td>4.10</td>\n      <td>73</td>\n      <td>Dual Sim, 3G, 4G, VoLTE,</td>\n      <td>4 GB RAM</td>\n      <td>6000 mAh Battery</td>\n      <td>6.4 inches</td>\n      <td>48 MP Quad Rear &amp;amp; 13 MP Front Camera</td>\n      <td>Memory Card Supported, upto 1 TB</td>\n      <td>12</td>\n      <td>11,999</td>\n      <td>Samsung</td>\n      <td>64 GB inbuilt</td>\n      <td>NaN</td>\n      <td>720 x 1600 px</td>\n      <td>Octa Core</td>\n      <td>Helio G88</td>\n    </tr>\n    <tr>\n      <th>4</th>\n      <td>Samsung Galaxy A03s (4GB RAM + 64GB)</td>\n      <td>4.10</td>\n      <td>69</td>\n      <td>Dual Sim, 3G, 4G, VoLTE,</td>\n      <td>4 GB RAM</td>\n      <td>5000 mAh Battery</td>\n      <td>6.5 inches</td>\n      <td>13 MP + 2 MP + 2 MP Triple Rear &amp;amp; 5 MP Fro...</td>\n      <td>Memory Card Supported, upto 1 TB</td>\n      <td>11</td>\n      <td>11,999</td>\n      <td>Samsung</td>\n      <td>64 GB inbuilt</td>\n      <td>15W Fast Charging</td>\n      <td>720 x 1600 px Display with Water Drop Notch</td>\n      <td>Octa Core</td>\n      <td>Helio P35</td>\n    </tr>\n  </tbody>\n</table>\n</div>"
     },
     "execution_count": 381,
     "metadata": {},
     "output_type": "execute_result"
    }
   ],
   "source": [
    "df.head()"
   ],
   "metadata": {
    "collapsed": false,
    "ExecuteTime": {
     "end_time": "2024-06-21T14:27:22.846821Z",
     "start_time": "2024-06-21T14:27:22.832396Z"
    }
   },
   "id": "d0ff7d8d5e09ba61",
   "execution_count": 381
  },
  {
   "cell_type": "code",
   "outputs": [
    {
     "name": "stdout",
     "output_type": "stream",
     "text": [
      "<class 'pandas.core.frame.DataFrame'>\n",
      "RangeIndex: 1370 entries, 0 to 1369\n",
      "Data columns (total 17 columns):\n",
      " #   Column             Non-Null Count  Dtype  \n",
      "---  ------             --------------  -----  \n",
      " 0   Name               1370 non-null   object \n",
      " 1   Rating             1370 non-null   float64\n",
      " 2   Spec_score         1370 non-null   int64  \n",
      " 3   No_of_sim          1370 non-null   object \n",
      " 4   Ram                1370 non-null   object \n",
      " 5   Battery            1370 non-null   object \n",
      " 6   Display            1370 non-null   object \n",
      " 7   Camera             1370 non-null   object \n",
      " 8   External_Memory    1370 non-null   object \n",
      " 9   Android_version    927 non-null    object \n",
      " 10  Price              1370 non-null   object \n",
      " 11  company            1370 non-null   object \n",
      " 12  Inbuilt_memory     1351 non-null   object \n",
      " 13  fast_charging      1281 non-null   object \n",
      " 14  Screen_resolution  1368 non-null   object \n",
      " 15  Processor          1342 non-null   object \n",
      " 16  Processor_name     1370 non-null   object \n",
      "dtypes: float64(1), int64(1), object(15)\n",
      "memory usage: 182.1+ KB\n"
     ]
    }
   ],
   "source": [
    "df.info()"
   ],
   "metadata": {
    "collapsed": false,
    "ExecuteTime": {
     "end_time": "2024-06-21T14:27:22.896378Z",
     "start_time": "2024-06-21T14:27:22.887381Z"
    }
   },
   "id": "255cae21d0047c93",
   "execution_count": 382
  },
  {
   "cell_type": "markdown",
   "source": [
    "In the above we've loaded our datasets, and taken a first look at them.\n",
    "\n",
    "We can see that we have some relatively small datasets, with less than 1400 rows.\n",
    "\n",
    "We have 17 columns. Price is the target variable, and the rest are features. We can see that all of the features are categorical, including the target. On closer inspection, we can definitely convert some of those to numerical features. There also a small amount of missing values, which we should also fill in."
   ],
   "metadata": {
    "collapsed": false
   },
   "id": "827b32c927d2bb86"
  },
  {
   "cell_type": "markdown",
   "source": [
    "The given column description is as follows:\n",
    "\n",
    "- Name: This column contains the name of the mobile phone.\n",
    "- Rating: This column contains the ratings given to the phone. the minimum rating is 0. and maximum rating is 5.\n",
    "- Spec_score: This column contains the score given to the phone on the basic of its specifications. This minimum value is 0 and maximum value is 100.\n",
    "- No_of_sim: This column contains whether the phone is dual sim, has 3g, 4g, 5g, volte.\n",
    "- RAM: This column contains the information about the RAM of the phone\n",
    "- Battery: This column provides information about battery specification of the phone.\n",
    "- Display: This column contains information about the screen size of the phone.\n",
    "- Camera: This column provides information about the camera, rear and front.\n",
    "- External_Memory: This column contains information whether a device support external memory and\n",
    "how much.\n",
    "- Android_version: This column tells us about the android version of the phone.\n",
    "- Price: Price of the phone.\n",
    "- Company: The company to which the phone belongs.\n",
    "- Inbuilt_memory: This column provides information about the inbuilt memory of the phone.\n",
    "- fast_charging: It contains whether the device supports fast charging or not. if yes then how much.\n",
    "- Screen_resolution: This describes the screen resolution of the phone.\n",
    "- Processor: This column gives information about the processor of the phone.\n",
    "- Processor_name: This column describes the name of the processor."
   ],
   "metadata": {
    "collapsed": false
   },
   "id": "f7628cb9faedc2ab"
  },
  {
   "cell_type": "markdown",
   "source": [
    "# Cleaning"
   ],
   "metadata": {
    "collapsed": false
   },
   "id": "f21427450f1e381"
  },
  {
   "cell_type": "code",
   "outputs": [
    {
     "data": {
      "text/plain": "count                                   1370\nunique                                  1334\ntop       Realme Narzo N55 (6GB RAM + 128GB)\nfreq                                       3\nName: Name, dtype: object"
     },
     "execution_count": 383,
     "metadata": {},
     "output_type": "execute_result"
    }
   ],
   "source": [
    "df[\"Name\"].describe()"
   ],
   "metadata": {
    "collapsed": false,
    "ExecuteTime": {
     "end_time": "2024-06-21T14:27:23.009115Z",
     "start_time": "2024-06-21T14:27:23.002412Z"
    }
   },
   "id": "15c52adc0c5431c1",
   "execution_count": 383
  },
  {
   "cell_type": "code",
   "outputs": [],
   "source": [
    "df = df.drop(\"Name\", axis=1)"
   ],
   "metadata": {
    "collapsed": false,
    "ExecuteTime": {
     "end_time": "2024-06-21T14:27:23.127354Z",
     "start_time": "2024-06-21T14:27:23.121800Z"
    }
   },
   "id": "13564c87a7bb8035",
   "execution_count": 384
  },
  {
   "cell_type": "markdown",
   "source": [
    "For name, we can see that we have a unique value for almost every single row. I doubt the usefulness of this column on its own, especially since we have a company column already. So we drop it."
   ],
   "metadata": {
    "collapsed": false
   },
   "id": "104c3b0ac4f2d826"
  },
  {
   "cell_type": "code",
   "outputs": [],
   "source": [
    "df = df.astype({\"Rating\": \"float32\", \"Spec_score\": \"int32\"})"
   ],
   "metadata": {
    "collapsed": false,
    "ExecuteTime": {
     "end_time": "2024-06-21T14:27:23.354266Z",
     "start_time": "2024-06-21T14:27:23.347426Z"
    }
   },
   "id": "3429a5c210c7817",
   "execution_count": 385
  },
  {
   "cell_type": "markdown",
   "source": [
    "The features above don't need more work other than setting the data type correctly."
   ],
   "metadata": {
    "collapsed": false
   },
   "id": "5a01f9ab167f0626"
  },
  {
   "cell_type": "code",
   "outputs": [
    {
     "data": {
      "text/plain": "No_of_sim\nDual Sim, 3G, 4G, 5G, VoLTE,             818\nDual Sim, 3G, 4G, VoLTE,                 419\nDual Sim, 3G, 4G, 5G, VoLTE, Vo5G,        91\nSingle Sim, 3G, 4G, 5G, VoLTE,            20\nDual Sim, 3G, 4G,                         13\nSingle Sim, 3G, 4G, VoLTE,                 6\nNo Sim Supported,                          1\nSingle Sim, 3G, 4G, 5G, VoLTE, Vo5G,       1\nDual Sim, 3G, VoLTE,                       1\nName: count, dtype: int64"
     },
     "execution_count": 386,
     "metadata": {},
     "output_type": "execute_result"
    }
   ],
   "source": [
    "df[\"No_of_sim\"].value_counts()"
   ],
   "metadata": {
    "collapsed": false,
    "ExecuteTime": {
     "end_time": "2024-06-21T14:27:23.410222Z",
     "start_time": "2024-06-21T14:27:23.402521Z"
    }
   },
   "id": "69d7c47599d2df62",
   "execution_count": 386
  },
  {
   "cell_type": "code",
   "outputs": [],
   "source": [
    "# Remove trailing commas\n",
    "df['No_of_sim'] = df['No_of_sim'].str.replace(r'\\s*,\\s*$', '', regex=True)\n",
    "\n",
    "# Create new columns based on the presence of a feature\n",
    "df['sim'] = df['No_of_sim'].str.contains('Dual Sim').astype(int) + df['No_of_sim'].str.contains('Single Sim').astype(int)\n",
    "df['3g'] = df['No_of_sim'].str.contains('3G').astype(int)\n",
    "df['4g'] = df['No_of_sim'].str.contains('4G').astype(int)\n",
    "df['5g'] = df['No_of_sim'].str.contains('5G').astype(int)\n",
    "df['volte'] = df['No_of_sim'].str.contains('VoLTE').astype(int)\n",
    "df['vo5g'] = df['No_of_sim'].str.contains('Vo5G').astype(int)\n",
    "\n",
    "# Set all to 0 if 'No Sim Supported'\n",
    "df.loc[df['No_of_sim'].str.contains('No Sim Supported'), ['sim', '3g', '4g', '5g', 'volte', 'vo5g']] = 0\n",
    "\n",
    "# Drop the original column\n",
    "df = df.drop('No_of_sim', axis=1)"
   ],
   "metadata": {
    "collapsed": false,
    "ExecuteTime": {
     "end_time": "2024-06-21T14:27:23.537617Z",
     "start_time": "2024-06-21T14:27:23.514824Z"
    }
   },
   "id": "79d8c8ac35140b82",
   "execution_count": 387
  },
  {
   "cell_type": "markdown",
   "source": [
    "The feature above was more complicated. It contains sim card specs. I felt like this was more useful if we had them separated as new columns, so you can check for the specific features (e.g. 5G is pretty important to some)."
   ],
   "metadata": {
    "collapsed": false
   },
   "id": "9b944ea6a660b47d"
  },
  {
   "cell_type": "code",
   "outputs": [
    {
     "data": {
      "text/plain": "Ram\n8 GB RAM                                     528\n4 GB RAM                                     253\n12 GB RAM                                    246\n6 GB RAM                                     214\n16 GB RAM                                     41\n3 GB RAM                                      38\n2 GB RAM                                      22\n256 GB inbuilt                                 8\n128 GB inbuilt                                 7\n18 GB RAM                                      4\n512 GB inbuilt                                 3\n24 GB RAM                                      2\n1 GB RAM                                       1\nHelio G90T                                     1\n1.5 GB RAM                                     1\n6000 mAh Battery with 22.5W Fast Charging      1\nName: count, dtype: int64"
     },
     "execution_count": 388,
     "metadata": {},
     "output_type": "execute_result"
    }
   ],
   "source": [
    "df[\"Ram\"].value_counts()"
   ],
   "metadata": {
    "collapsed": false,
    "ExecuteTime": {
     "end_time": "2024-06-21T14:27:23.588414Z",
     "start_time": "2024-06-21T14:27:23.579502Z"
    }
   },
   "id": "97e68e309c1f866d",
   "execution_count": 388
  },
  {
   "cell_type": "code",
   "outputs": [],
   "source": [
    "# Split and take first value\n",
    "df[\"Ram\"] = df[\"Ram\"].str.split(\" \").str[0]"
   ],
   "metadata": {
    "collapsed": false,
    "ExecuteTime": {
     "end_time": "2024-06-21T14:27:23.702044Z",
     "start_time": "2024-06-21T14:27:23.694572Z"
    }
   },
   "id": "9deb3a952a3be5a7",
   "execution_count": 389
  },
  {
   "cell_type": "markdown",
   "source": [
    "The ram column contains many categories, but these can easily be numerical. After all, more RAM is just better, objectively."
   ],
   "metadata": {
    "collapsed": false
   },
   "id": "40aa37ca89d589c"
  },
  {
   "cell_type": "code",
   "outputs": [
    {
     "data": {
      "text/plain": "Camera\n50 MP + 2 MP Dual Rear &amp; 8 MP Front Camera                             81\nFoldable Display, Dual Display                                             69\n50 MP + 8 MP + 2 MP Triple Rear &amp; 16 MP Front Camera                   61\n64 MP + 8 MP + 2 MP Triple Rear &amp; 16 MP Front Camera                   40\n50 MP + 2 MP Dual Rear &amp; 16 MP Front Camera                            31\n                                                                           ..\n54 MP + 8 MP + 2 MP Triple Rear &amp; 16 MP Front Camera                    1\n160 MP + 50 MP + 2 MP Triple Rear &amp; 50 MP + 2 MP Dual Front Camera      1\n108 MP + 32 MP + 12 MP Triple Rear &amp; 50 MP + 2 MP Dual Front Camera     1\n50 MP + 16 MP + 8 MP Triple Rear &amp; 32 MP + 8 MP Dual Front Camera       1\n50 MP + 5 MP + 2 MP Triple Rear &amp; 32 MP Front Camera                    1\nName: count, Length: 347, dtype: int64"
     },
     "execution_count": 390,
     "metadata": {},
     "output_type": "execute_result"
    }
   ],
   "source": [
    "df[\"Camera\"].value_counts()"
   ],
   "metadata": {
    "collapsed": false,
    "ExecuteTime": {
     "end_time": "2024-06-21T14:27:23.817541Z",
     "start_time": "2024-06-21T14:27:23.810509Z"
    }
   },
   "id": "5950c1e97127870",
   "execution_count": 390
  },
  {
   "cell_type": "code",
   "outputs": [],
   "source": [
    "# Define a function to extract camera specs\n",
    "def extract_camera_specs(camera_str):\n",
    "    # Rear camera specs\n",
    "    rear_match = re.findall(r'(\\d+) MP', camera_str)\n",
    "    if rear_match:\n",
    "        rear_cameras = sorted(map(int, rear_match), reverse=True)\n",
    "    else:\n",
    "        rear_cameras = []\n",
    "    \n",
    "    # Front camera specs\n",
    "    front_match = re.search(r'(\\d+) MP Front Camera', camera_str)\n",
    "    front_camera = int(front_match.group(1)) if front_match else 0\n",
    "    \n",
    "    return rear_cameras, front_camera\n",
    "\n",
    "# Apply the function and create new columns\n",
    "df['Rear_Cameras'], df['Front_Camera'] = zip(*df['Camera'].apply(extract_camera_specs))\n",
    "\n",
    "# Fill new columns with the extracted values\n",
    "# Extracting up to X rear camera specs\n",
    "max_cameras = 3\n",
    "for i in range(max_cameras):\n",
    "    df[f'Rear_Camera_{i+1}'] = df['Rear_Cameras'].apply(lambda x: x[i] if i < len(x) else 0)\n",
    "\n",
    "# Drop the temporary column\n",
    "df.drop(columns=['Rear_Cameras'], inplace=True)\n",
    "df = df.drop(columns=['Camera'])"
   ],
   "metadata": {
    "collapsed": false,
    "ExecuteTime": {
     "end_time": "2024-06-21T14:27:23.894601Z",
     "start_time": "2024-06-21T14:27:23.873512Z"
    }
   },
   "id": "471b69f3b5d34a28",
   "execution_count": 391
  },
  {
   "cell_type": "markdown",
   "source": [
    "The camera column is a little tricky. We can see that it's separated into front and rear camera's, with often multiple cameras for the rear camera. We'll first split it into front and rear cameras. Then afterwards, for each instance we extract the megapixels. \n",
    "\n",
    "With absence, we set it to 0."
   ],
   "metadata": {
    "collapsed": false
   },
   "id": "a629c7e1f4b48099"
  },
  {
   "cell_type": "code",
   "outputs": [
    {
     "data": {
      "text/plain": "Battery\n5000 mAh Battery     693\n4500 mAh Battery     116\n6000 mAh Battery     102\n5000 mAh Battery      59\n4000 mAh Battery      36\n                    ... \n4821 mAh Battery       1\n4730 mAh Battery       1\n5700 mAh Battery       1\n3760 mAh Battery       1\n4500 mAh Battery       1\nName: count, Length: 89, dtype: int64"
     },
     "execution_count": 392,
     "metadata": {},
     "output_type": "execute_result"
    }
   ],
   "source": [
    "df[\"Battery\"].value_counts()"
   ],
   "metadata": {
    "collapsed": false,
    "ExecuteTime": {
     "end_time": "2024-06-21T14:27:23.950624Z",
     "start_time": "2024-06-21T14:27:23.944283Z"
    }
   },
   "id": "c4ee47ab2ce092b5",
   "execution_count": 392
  },
  {
   "cell_type": "code",
   "outputs": [],
   "source": [
    "# Split and take first value\n",
    "df[\"Battery\"] = df[\"Battery\"].str.split(\" \").str[0]"
   ],
   "metadata": {
    "collapsed": false,
    "ExecuteTime": {
     "end_time": "2024-06-21T14:27:24.017118Z",
     "start_time": "2024-06-21T14:27:24.010084Z"
    }
   },
   "id": "b0a6efa507c77b8",
   "execution_count": 393
  },
  {
   "cell_type": "markdown",
   "source": [
    "With the battery column we split and take the first value, to get the battery capacity in mAh."
   ],
   "metadata": {
    "collapsed": false
   },
   "id": "52219010a11072a"
  },
  {
   "cell_type": "code",
   "outputs": [
    {
     "data": {
      "text/plain": "Display\n6.7 inches     158\n6.67 inches    151\n6.78 inches    142\n6.5 inches     122\n6.6 inches      94\n              ... \n5.6 inches       1\n6.69 inches      1\n12.1 inches      1\n7.71 inches      1\n10 inches        1\nName: count, Length: 89, dtype: int64"
     },
     "execution_count": 394,
     "metadata": {},
     "output_type": "execute_result"
    }
   ],
   "source": [
    "df[\"Display\"].value_counts()"
   ],
   "metadata": {
    "collapsed": false,
    "ExecuteTime": {
     "end_time": "2024-06-21T14:27:24.124668Z",
     "start_time": "2024-06-21T14:27:24.116541Z"
    }
   },
   "id": "3588a5afba91f6c0",
   "execution_count": 394
  },
  {
   "cell_type": "code",
   "outputs": [],
   "source": [
    "# Split and take first value\n",
    "df[\"Display\"] = df[\"Display\"].str.split(\" \").str[0]"
   ],
   "metadata": {
    "collapsed": false,
    "ExecuteTime": {
     "end_time": "2024-06-21T14:27:24.164380Z",
     "start_time": "2024-06-21T14:27:24.159137Z"
    }
   },
   "id": "8dcbf5a4ee6605b6",
   "execution_count": 395
  },
  {
   "cell_type": "markdown",
   "source": [
    "With the display column we split and take the first value, to get the screen size in inches."
   ],
   "metadata": {
    "collapsed": false
   },
   "id": "2c1c14137194e829"
  },
  {
   "cell_type": "code",
   "outputs": [
    {
     "data": {
      "text/plain": "External_Memory\nMemory Card Supported, upto 1 TB                                               233\nMemory Card (Hybrid), upto 1 TB                                                161\nMemory Card Not Supported                                                      142\nAndroid v13                                                                    107\nAndroid v12                                                                    104\n                                                                              ... \n48 MP + 12 MP Dual Rear &amp; 10 MP Front Camera                                 1\n48 MP + 10.8 MP + 10.8 MP Triple Rear &amp; 9.5 MP + 8 MP Dual Front Camera      1\n50 MP + 10.8 MP + 10.8 MP Triple Rear &amp; 12 MP + 12 MP Dual Front Camera      1\nMemory Card Supported, upto 32 GB                                                1\n50 MP + 48 MP + 8 MP Triple Rear &amp; 32 MP Front Camera                        1\nName: count, Length: 85, dtype: int64"
     },
     "execution_count": 396,
     "metadata": {},
     "output_type": "execute_result"
    }
   ],
   "source": [
    "df[\"External_Memory\"].value_counts()"
   ],
   "metadata": {
    "collapsed": false,
    "ExecuteTime": {
     "end_time": "2024-06-21T14:27:24.278065Z",
     "start_time": "2024-06-21T14:27:24.269561Z"
    }
   },
   "id": "b602a717fe47ed37",
   "execution_count": 396
  },
  {
   "cell_type": "code",
   "outputs": [],
   "source": [
    "# if Memory Card Not Supported, set it to 0, else 1\n",
    "df[\"External_Memory\"] = df[\"External_Memory\"].str.contains(\"Memory Card Not Supported\").astype(int)"
   ],
   "metadata": {
    "collapsed": false,
    "ExecuteTime": {
     "end_time": "2024-06-21T14:27:24.323241Z",
     "start_time": "2024-06-21T14:27:24.318916Z"
    }
   },
   "id": "84638ed9ea9ba001",
   "execution_count": 397
  },
  {
   "cell_type": "markdown",
   "source": [
    "There are many categories in the external memory column. However, in the end it boils down to whether the answer to external memory support is yes or no. Most consumers probably don't pay attention to the max amount supported. So, we split it into a binary column."
   ],
   "metadata": {
    "collapsed": false
   },
   "id": "4f02e412b978f368"
  },
  {
   "cell_type": "code",
   "outputs": [
    {
     "data": {
      "text/plain": "Android_version\n13                   280\n12                   202\n14                   178\n11                   127\n10                    55\n15                    17\n10.0                  17\n9.0 (Pie)             17\n4.0                    8\n8.1 (Oreo)             5\n6.0 (Marshmallow)      3\n3.0                    3\n2.0                    3\n3.1                    2\n7.1.1 (Nougat)         2\n5.0                    1\n3.0 (Honeycomb)        1\n5.1 (Lollipop)         1\n2                      1\n3                      1\n9 (Pie)                1\n8.0 (Oreo)             1\n4.1                    1\nName: count, dtype: int64"
     },
     "execution_count": 398,
     "metadata": {},
     "output_type": "execute_result"
    }
   ],
   "source": [
    "df[\"Android_version\"].value_counts()"
   ],
   "metadata": {
    "collapsed": false,
    "ExecuteTime": {
     "end_time": "2024-06-21T14:27:24.407525Z",
     "start_time": "2024-06-21T14:27:24.399167Z"
    }
   },
   "id": "cb4274b0e7e40709",
   "execution_count": 398
  },
  {
   "cell_type": "code",
   "outputs": [],
   "source": [
    "df = df.drop(\"Android_version\", axis=1)"
   ],
   "metadata": {
    "collapsed": false,
    "ExecuteTime": {
     "end_time": "2024-06-21T14:27:24.454012Z",
     "start_time": "2024-06-21T14:27:24.448980Z"
    }
   },
   "id": "711a4360d6d2e369",
   "execution_count": 399
  },
  {
   "cell_type": "markdown",
   "source": [
    "The android version contains a few categories. It doesn't seem very relevant to the price though, so we'll drop it."
   ],
   "metadata": {
    "collapsed": false
   },
   "id": "22b558c941b699ad"
  },
  {
   "cell_type": "code",
   "outputs": [
    {
     "data": {
      "text/plain": "company\nVivo        186\nRealme      186\nSamsung     181\nMotorola    127\nXiaomi       90\nHonor        88\nPoco         75\nOnePlus      75\nHuawei       62\niQOO         57\nOPPO         38\nOppo         27\nTCL          26\nGoogle       23\nAsus         21\nPOCO         19\nLava         19\nNothing      15\nLenovo       14\nTecno        13\nitel         12\nLG            6\nGionee        5\nItel          3\nIQOO          1\nCoolpad       1\nName: count, dtype: int64"
     },
     "execution_count": 400,
     "metadata": {},
     "output_type": "execute_result"
    }
   ],
   "source": [
    "df[\"company\"].value_counts()"
   ],
   "metadata": {
    "collapsed": false,
    "ExecuteTime": {
     "end_time": "2024-06-21T14:27:24.537027Z",
     "start_time": "2024-06-21T14:27:24.530967Z"
    }
   },
   "id": "b5a492235576797d",
   "execution_count": 400
  },
  {
   "cell_type": "markdown",
   "source": [
    "This column seems fine, other than needing to be encoded."
   ],
   "metadata": {
    "collapsed": false
   },
   "id": "55027d1854e42c0b"
  },
  {
   "cell_type": "code",
   "outputs": [
    {
     "data": {
      "text/plain": "Inbuilt_memory\n128 GB inbuilt    644\n256 GB inbuilt    405\n64 GB inbuilt     184\n512 GB inbuilt     59\n32 GB inbuilt      48\n1 TB inbuilt        5\n16 GB inbuilt       3\nOcta Core           1\n258 GB inbuilt      1\n8 GB inbuilt        1\nName: count, dtype: int64"
     },
     "execution_count": 401,
     "metadata": {},
     "output_type": "execute_result"
    }
   ],
   "source": [
    "df[\"Inbuilt_memory\"].value_counts()"
   ],
   "metadata": {
    "collapsed": false,
    "ExecuteTime": {
     "end_time": "2024-06-21T14:27:24.593057Z",
     "start_time": "2024-06-21T14:27:24.587054Z"
    }
   },
   "id": "c95ca95b658d8866",
   "execution_count": 401
  },
  {
   "cell_type": "code",
   "outputs": [],
   "source": [
    "# Remove whitespace\n",
    "df['Inbuilt_memory'] = df['Inbuilt_memory'].str.strip()\n",
    "\n",
    "# Drop rows with 'Octa Core'\n",
    "df = df[df['Inbuilt_memory'].str.lower() != 'octa core']\n",
    "\n",
    "# Extract memory size by splitting and taking the first element\n",
    "df['Inbuilt_memory'] = df['Inbuilt_memory'].str.split().str[0]\n",
    "\n",
    "# Set columns with 1 (terabyte) to 1024\n",
    "df.loc[df['Inbuilt_memory'] == '1', 'Inbuilt_memory'] = 1024"
   ],
   "metadata": {
    "collapsed": false,
    "ExecuteTime": {
     "end_time": "2024-06-21T14:27:24.727968Z",
     "start_time": "2024-06-21T14:27:24.714617Z"
    }
   },
   "id": "14455f6082ac2470",
   "execution_count": 402
  },
  {
   "cell_type": "markdown",
   "source": [
    "The inbuilt memory column is mostly fine, but it contains a rogue processor value. We remove that, and then we can convert it to an integer."
   ],
   "metadata": {
    "collapsed": false
   },
   "id": "e429dabcc2acdc1f"
  },
  {
   "cell_type": "code",
   "outputs": [
    {
     "data": {
      "text/plain": "fast_charging\n18W Fast Charging      157\n33W Fast Charging      144\n67W Fast Charging      101\n25W Fast Charging       97\n80W Fast Charging       78\n100W Fast Charging      70\n66W Fast Charging       66\n120W Fast Charging      65\n15W Fast Charging       61\n44W Fast Charging       61\n45W Fast Charging       58\n65W Fast Charging       50\n30W Fast Charging       44\n10W Fast Charging       39\nFast Charging           39\n150W Fast Charging      24\n22.5W Fast Charging     20\n68W Fast Charging       20\n40W Fast Charging       17\n35W Fast Charging       14\n125W Fast Charging      12\n20W Fast Charging       11\n200W Fast Charging       7\n240W Fast Charging       3\n55W Fast Charging        3\n90W Fast Charging        3\n88W Fast Charging        3\n50W Fast Charging        2\n250W Fast Charging       2\n27W Fast Charging        2\n57W Fast Charging        1\n60W Fast Charging        1\n08W Fast Charging        1\n68.2W Fast Charging      1\n135W Fast Charging       1\n70W Fast Charging        1\nWater Drop Notch         1\n7.5W Fast Charging       1\nName: count, dtype: int64"
     },
     "execution_count": 403,
     "metadata": {},
     "output_type": "execute_result"
    }
   ],
   "source": [
    "df[\"fast_charging\"].value_counts()"
   ],
   "metadata": {
    "collapsed": false,
    "ExecuteTime": {
     "end_time": "2024-06-21T14:27:24.785963Z",
     "start_time": "2024-06-21T14:27:24.779966Z"
    }
   },
   "id": "c4c3a580ae0b336f",
   "execution_count": 403
  },
  {
   "cell_type": "code",
   "outputs": [],
   "source": [
    "# If fast charging has any value, set to 1, otherwise 0\n",
    "df[\"fast_charging\"] = df[\"fast_charging\"].apply(lambda x: 0 if pd.isna(x) else 1)"
   ],
   "metadata": {
    "collapsed": false,
    "ExecuteTime": {
     "end_time": "2024-06-21T14:27:24.882493Z",
     "start_time": "2024-06-21T14:27:24.877631Z"
    }
   },
   "id": "ce817e8542dfc52b",
   "execution_count": 404
  },
  {
   "cell_type": "markdown",
   "source": [
    "The fast charging column can be converted to a binary column."
   ],
   "metadata": {
    "collapsed": false
   },
   "id": "a74793664e314a43"
  },
  {
   "cell_type": "code",
   "outputs": [
    {
     "data": {
      "text/plain": "Screen_resolution\n1080 x 2400 px                                 357\n720 x 1600 px Display with Water Drop Notch    100\n1080 x 2412 px                                  77\n720 x 1600 px                                   65\n1080 x 2340 px                                  50\n                                              ... \n2340 x 1080 px                                   1\n1080 x 1920 px Display                           1\n720 x 1600 px Display with Large Notch           1\n540 x 960 px Display                             1\n720 x 1640 px Display with Water Drop Notch      1\nName: count, Length: 141, dtype: int64"
     },
     "execution_count": 405,
     "metadata": {},
     "output_type": "execute_result"
    }
   ],
   "source": [
    "df[\"Screen_resolution\"].value_counts()"
   ],
   "metadata": {
    "collapsed": false,
    "ExecuteTime": {
     "end_time": "2024-06-21T14:27:24.933924Z",
     "start_time": "2024-06-21T14:27:24.927567Z"
    }
   },
   "id": "c65a9b5e283230bb",
   "execution_count": 405
  },
  {
   "cell_type": "code",
   "outputs": [],
   "source": [
    "# Split on x letter\n",
    "df[\"screen_width\"] = df[\"Screen_resolution\"].str.split(\" x \").str[0]\n",
    "df[\"screen_height\"] = df[\"Screen_resolution\"].str.split(\" x \").str[1]\n",
    "df[\"screen_height\"] = df[\"screen_height\"].str.split(\" \").str[0]\n",
    "df = df.drop(\"Screen_resolution\", axis=1)"
   ],
   "metadata": {
    "collapsed": false,
    "ExecuteTime": {
     "end_time": "2024-06-21T14:27:25.029282Z",
     "start_time": "2024-06-21T14:27:25.017149Z"
    }
   },
   "id": "db1ca11fb8b31ad",
   "execution_count": 406
  },
  {
   "cell_type": "markdown",
   "source": [
    "The screen resolution column can be converted to two columns, one for the width and one for the height."
   ],
   "metadata": {
    "collapsed": false
   },
   "id": "8125f6c2481e7083"
  },
  {
   "cell_type": "code",
   "outputs": [
    {
     "data": {
      "text/plain": "Processor\nOcta Core              1237\nOcta Core Processor      75\nQuad Core                11\n1.6 GHz Processor         3\nDeca Core                 3\n2 GHz Processor           2\nNine-Cores                2\nNine Core                 2\nNine Cores                2\n1.8 GHz Processor         1\nDeca Core Processor       1\n1.3 GHz Processor         1\n2.3 GHz Processor         1\n128 GB inbuilt            1\nName: count, dtype: int64"
     },
     "execution_count": 407,
     "metadata": {},
     "output_type": "execute_result"
    }
   ],
   "source": [
    "df[\"Processor\"].value_counts()"
   ],
   "metadata": {
    "collapsed": false,
    "ExecuteTime": {
     "end_time": "2024-06-21T14:27:25.072503Z",
     "start_time": "2024-06-21T14:27:25.065567Z"
    }
   },
   "id": "4df77ce4dc3e23e8",
   "execution_count": 407
  },
  {
   "cell_type": "code",
   "outputs": [],
   "source": [
    "# Remove whitespace\n",
    "df['Processor'] = df['Processor'].str.strip()\n",
    "\n",
    "# Harmonize certain processor names\n",
    "df['Processor'] = df['Processor'].str.replace('Octa Core Processor', 'Octa Core')\n",
    "df['Processor'] = df['Processor'].str.replace('Nine-Cores', 'Nine Core')\n",
    "df['Processor'] = df['Processor'].str.replace('Nine Cores', 'Nine Core')\n",
    "df['Processor'] = df['Processor'].str.replace('Deca Core Processor', 'Deca Core')\n",
    "\n",
    "# Drop rows with invalid values\n",
    "df = df[df['Processor'].str.lower() != '128 gb inbuilt']\n",
    "df = df[df['Processor'].str.lower() != '1.3 ghz processor']\n",
    "df = df[df['Processor'].str.lower() != '1.6 ghz processor']\n",
    "df = df[df['Processor'].str.lower() != '1.8 ghz processor']\n",
    "df = df[df['Processor'].str.lower() != '2 ghz processor']\n",
    "df = df[df['Processor'].str.lower() != '2.3 ghz processor']\n",
    "\n",
    "# Convert values to core count (octa = 8, deci = 10, etc.)\n",
    "df['Processor'] = df['Processor'].str.split().str[0]\n",
    "df.loc[df['Processor'] == 'Quad', 'Processor'] = 4\n",
    "df.loc[df['Processor'] == 'Octa', 'Processor'] = 8\n",
    "df.loc[df['Processor'] == 'Deca', 'Processor'] = 10\n",
    "df.loc[df['Processor'] == 'Nine', 'Processor'] = 9\n",
    "\n",
    "# Rename\n",
    "df = df.rename(columns={'Processor': 'core_count'})"
   ],
   "metadata": {
    "collapsed": false,
    "ExecuteTime": {
     "end_time": "2024-06-21T14:27:25.152302Z",
     "start_time": "2024-06-21T14:27:25.124651Z"
    }
   },
   "id": "8d62065cf630c51b",
   "execution_count": 408
  },
  {
   "cell_type": "markdown",
   "source": [
    "In the processor column we have a bunch of categories, and all quite distinct. We also spot another rogue value, so we remove the row there.\n",
    "\n",
    "The first thing we can do is harmonize this column, as many names are similar.\n",
    "\n",
    "Secondarily, we have some cells which don't describe the core count, but the clock speed. We can remove these rows as we have no good way of infering the count."
   ],
   "metadata": {
    "collapsed": false
   },
   "id": "bf2e69e44563b827"
  },
  {
   "cell_type": "code",
   "outputs": [
    {
     "data": {
      "text/plain": "Processor_name\nSnapdragon 8+ Gen1    58\nSnapdragon 8 Gen2     55\nSnapdragon 8 Gen3     44\nSnapdragon 695        36\nSnapdragon 680        34\n                      ..\nDimensity 8000         1\nDimensity  1100        1\nDimensity 920          1\nSnapdragon  765G       1\nHelio A25              1\nName: count, Length: 272, dtype: int64"
     },
     "execution_count": 409,
     "metadata": {},
     "output_type": "execute_result"
    }
   ],
   "source": [
    "df[\"Processor_name\"].value_counts()"
   ],
   "metadata": {
    "collapsed": false,
    "ExecuteTime": {
     "end_time": "2024-06-21T14:27:25.211701Z",
     "start_time": "2024-06-21T14:27:25.203694Z"
    }
   },
   "id": "ac8336b15db0a433",
   "execution_count": 409
  },
  {
   "cell_type": "code",
   "outputs": [],
   "source": [
    "df = df.drop(\"Processor_name\", axis=1)"
   ],
   "metadata": {
    "collapsed": false,
    "ExecuteTime": {
     "end_time": "2024-06-21T14:27:25.301945Z",
     "start_time": "2024-06-21T14:27:25.296709Z"
    }
   },
   "id": "abda1d7d907c5561",
   "execution_count": 410
  },
  {
   "cell_type": "markdown",
   "source": [
    "The processor name doesn't seem useful when we have core count already. Any other processor specs would require an internet search anyway, which we'll not do here."
   ],
   "metadata": {
    "collapsed": false
   },
   "id": "55ff7ce4972a4aa3"
  },
  {
   "cell_type": "code",
   "outputs": [
    {
     "data": {
      "text/plain": "count       1360\nunique       449\ntop       29,990\nfreq          37\nName: Price, dtype: object"
     },
     "execution_count": 411,
     "metadata": {},
     "output_type": "execute_result"
    }
   ],
   "source": [
    "df[\"Price\"].describe()"
   ],
   "metadata": {
    "collapsed": false,
    "ExecuteTime": {
     "end_time": "2024-06-21T14:27:25.402384Z",
     "start_time": "2024-06-21T14:27:25.396025Z"
    }
   },
   "id": "6401200d4bb0470",
   "execution_count": 411
  },
  {
   "cell_type": "code",
   "outputs": [],
   "source": [
    "# Remove commas\n",
    "df['Price'] = df['Price'].str.replace(',', '')\n",
    "# to numeric\n",
    "df['Price'] = pd.to_numeric(df['Price'])"
   ],
   "metadata": {
    "collapsed": false,
    "ExecuteTime": {
     "end_time": "2024-06-21T14:27:25.460334Z",
     "start_time": "2024-06-21T14:27:25.454204Z"
    }
   },
   "id": "e83c1a618b5fd116",
   "execution_count": 412
  },
  {
   "cell_type": "markdown",
   "source": [
    "The price column is mostly fine, but it is in text format, seen by the commas. We quickly convert this to a numeric value."
   ],
   "metadata": {
    "collapsed": false
   },
   "id": "2f95c832b3958ac"
  },
  {
   "cell_type": "code",
   "outputs": [
    {
     "data": {
      "text/plain": "Inbuilt_memory    18\ncore_count        27\nscreen_height      1\ndtype: int64"
     },
     "execution_count": 413,
     "metadata": {},
     "output_type": "execute_result"
    }
   ],
   "source": [
    "# check for missing values\n",
    "missing = df.isnull().sum()\n",
    "missing = missing[missing > 0]\n",
    "missing"
   ],
   "metadata": {
    "collapsed": false,
    "ExecuteTime": {
     "end_time": "2024-06-21T14:27:25.564293Z",
     "start_time": "2024-06-21T14:27:25.554124Z"
    }
   },
   "id": "1c86fe484fb048ba",
   "execution_count": 413
  },
  {
   "cell_type": "code",
   "outputs": [],
   "source": [
    "# Fill in cells\n",
    "df[\"Inbuilt_memory\"] = df[\"Inbuilt_memory\"].fillna(0)\n",
    "\n",
    "# Drop rows\n",
    "df = df.dropna()"
   ],
   "metadata": {
    "collapsed": false,
    "ExecuteTime": {
     "end_time": "2024-06-21T14:27:25.591551Z",
     "start_time": "2024-06-21T14:27:25.585509Z"
    }
   },
   "id": "c13055ff7605a117",
   "execution_count": 414
  },
  {
   "cell_type": "markdown",
   "source": [
    "We now have 3 columns with missing values.\n",
    "\n",
    "In case of inbuilt memory, we can assume that this phone only supports external memory, so we'll fill the values with 0.\n",
    "\n",
    "For the others, we'll remove the rows."
   ],
   "metadata": {
    "collapsed": false
   },
   "id": "bad96a2622c4f32b"
  },
  {
   "cell_type": "code",
   "outputs": [],
   "source": [
    "# Set all column names to lower case\n",
    "df.columns = df.columns.str.lower()"
   ],
   "metadata": {
    "collapsed": false,
    "ExecuteTime": {
     "end_time": "2024-06-21T14:27:25.662358Z",
     "start_time": "2024-06-21T14:27:25.657494Z"
    }
   },
   "id": "c7a11c2e5248bcff",
   "execution_count": 415
  },
  {
   "cell_type": "code",
   "outputs": [
    {
     "name": "stdout",
     "output_type": "stream",
     "text": [
      "<class 'pandas.core.frame.DataFrame'>\n",
      "Index: 1332 entries, 0 to 1369\n",
      "Data columns (total 23 columns):\n",
      " #   Column           Non-Null Count  Dtype  \n",
      "---  ------           --------------  -----  \n",
      " 0   rating           1332 non-null   float32\n",
      " 1   spec_score       1332 non-null   int32  \n",
      " 2   ram              1332 non-null   object \n",
      " 3   battery          1332 non-null   object \n",
      " 4   display          1332 non-null   object \n",
      " 5   external_memory  1332 non-null   int32  \n",
      " 6   price            1332 non-null   int64  \n",
      " 7   company          1332 non-null   object \n",
      " 8   inbuilt_memory   1332 non-null   object \n",
      " 9   fast_charging    1332 non-null   int64  \n",
      " 10  core_count       1332 non-null   object \n",
      " 11  sim              1332 non-null   int32  \n",
      " 12  3g               1332 non-null   int32  \n",
      " 13  4g               1332 non-null   int32  \n",
      " 14  5g               1332 non-null   int32  \n",
      " 15  volte            1332 non-null   int32  \n",
      " 16  vo5g             1332 non-null   int32  \n",
      " 17  front_camera     1332 non-null   int64  \n",
      " 18  rear_camera_1    1332 non-null   int64  \n",
      " 19  rear_camera_2    1332 non-null   int64  \n",
      " 20  rear_camera_3    1332 non-null   int64  \n",
      " 21  screen_width     1332 non-null   object \n",
      " 22  screen_height    1332 non-null   object \n",
      "dtypes: float32(1), int32(8), int64(6), object(8)\n",
      "memory usage: 202.9+ KB\n"
     ]
    }
   ],
   "source": [
    "df.info()"
   ],
   "metadata": {
    "collapsed": false,
    "ExecuteTime": {
     "end_time": "2024-06-21T14:27:25.748003Z",
     "start_time": "2024-06-21T14:27:25.737732Z"
    }
   },
   "id": "f1d8aa4575f3477a",
   "execution_count": 416
  },
  {
   "cell_type": "markdown",
   "source": [],
   "metadata": {
    "collapsed": false
   },
   "id": "b925a6402ef5d89"
  },
  {
   "cell_type": "code",
   "outputs": [],
   "source": [
    "encoder = OneHotEncoder()\n",
    "\n",
    "# Lower values\n",
    "df[\"company\"] = df[\"company\"].str.lower()\n",
    "\n",
    "# Encode company column\n",
    "encoder_df = pd.DataFrame(encoder.fit_transform(df[['company']]).toarray())\n",
    "encoder_df.columns = encoder.get_feature_names_out(['company'])\n",
    "df = df.join(encoder_df)\n",
    "df = df.drop(\"company\", axis=1)"
   ],
   "metadata": {
    "collapsed": false,
    "ExecuteTime": {
     "end_time": "2024-06-21T14:27:25.832632Z",
     "start_time": "2024-06-21T14:27:25.821004Z"
    }
   },
   "id": "3f0d6bb0ee8134ee",
   "execution_count": 417
  },
  {
   "cell_type": "markdown",
   "source": [
    "We only have 1 categorical column left at this point, the company that made the phone. We perform one hot encoding, as we have no specific order to the values."
   ],
   "metadata": {
    "collapsed": false
   },
   "id": "adfc2cdfca8ea6c6"
  },
  {
   "cell_type": "code",
   "outputs": [
    {
     "name": "stderr",
     "output_type": "stream",
     "text": [
      "C:\\Users\\Michael\\AppData\\Local\\Temp\\ipykernel_16172\\908880838.py:3: FutureWarning: errors='ignore' is deprecated and will raise in a future version. Use to_numeric without passing `errors` and catch exceptions explicitly instead\n",
      "  df[col] = pd.to_numeric(df[col], errors='ignore')\n"
     ]
    }
   ],
   "source": [
    "# Convert object columns to numeric\n",
    "for col in df.select_dtypes(include='object').columns:\n",
    "    df[col] = pd.to_numeric(df[col], errors='ignore')\n",
    "    \n",
    "# Set to 32 bit float\n",
    "df = df.astype(\"float32\")"
   ],
   "metadata": {
    "collapsed": false,
    "ExecuteTime": {
     "end_time": "2024-06-21T14:27:25.865785Z",
     "start_time": "2024-06-21T14:27:25.853770Z"
    }
   },
   "id": "a1b1077b9e3c89d4",
   "execution_count": 418
  },
  {
   "cell_type": "markdown",
   "source": [
    "We do some more dtype and name cleaning on the columns, and then we move on to encoding."
   ],
   "metadata": {
    "collapsed": false
   },
   "id": "8178c92eaec81765"
  },
  {
   "cell_type": "code",
   "outputs": [
    {
     "data": {
      "text/plain": "   rating  spec_score       ram   battery   display  external_memory  \\\n0    0.90    0.464286  0.005871  0.476744  0.276316              0.0   \n1    0.35    0.553571  0.005871  0.476744  0.250000              0.0   \n2    0.35    0.482143  0.005871  0.360465  0.263158              0.0   \n\n      price  inbuilt_memory  fast_charging  core_count  ...  company_nothing  \\\n0  0.014656          0.1250            1.0    0.666667  ...              0.0   \n1  0.024269          0.0625            0.0    0.666667  ...              0.0   \n2  0.024269          0.0625            1.0    0.666667  ...              0.0   \n\n   company_oneplus  company_oppo  company_poco  company_realme  \\\n0              0.0           0.0           0.0             0.0   \n1              0.0           0.0           0.0             0.0   \n2              0.0           0.0           0.0             0.0   \n\n   company_samsung  company_tcl  company_tecno  company_vivo  company_xiaomi  \n0              1.0          0.0            0.0           0.0             0.0  \n1              1.0          0.0            0.0           0.0             0.0  \n2              1.0          0.0            0.0           0.0             0.0  \n\n[3 rows x 44 columns]",
      "text/html": "<div>\n<style scoped>\n    .dataframe tbody tr th:only-of-type {\n        vertical-align: middle;\n    }\n\n    .dataframe tbody tr th {\n        vertical-align: top;\n    }\n\n    .dataframe thead th {\n        text-align: right;\n    }\n</style>\n<table border=\"1\" class=\"dataframe\">\n  <thead>\n    <tr style=\"text-align: right;\">\n      <th></th>\n      <th>rating</th>\n      <th>spec_score</th>\n      <th>ram</th>\n      <th>battery</th>\n      <th>display</th>\n      <th>external_memory</th>\n      <th>price</th>\n      <th>inbuilt_memory</th>\n      <th>fast_charging</th>\n      <th>core_count</th>\n      <th>...</th>\n      <th>company_nothing</th>\n      <th>company_oneplus</th>\n      <th>company_oppo</th>\n      <th>company_poco</th>\n      <th>company_realme</th>\n      <th>company_samsung</th>\n      <th>company_tcl</th>\n      <th>company_tecno</th>\n      <th>company_vivo</th>\n      <th>company_xiaomi</th>\n    </tr>\n  </thead>\n  <tbody>\n    <tr>\n      <th>0</th>\n      <td>0.90</td>\n      <td>0.464286</td>\n      <td>0.005871</td>\n      <td>0.476744</td>\n      <td>0.276316</td>\n      <td>0.0</td>\n      <td>0.014656</td>\n      <td>0.1250</td>\n      <td>1.0</td>\n      <td>0.666667</td>\n      <td>...</td>\n      <td>0.0</td>\n      <td>0.0</td>\n      <td>0.0</td>\n      <td>0.0</td>\n      <td>0.0</td>\n      <td>1.0</td>\n      <td>0.0</td>\n      <td>0.0</td>\n      <td>0.0</td>\n      <td>0.0</td>\n    </tr>\n    <tr>\n      <th>1</th>\n      <td>0.35</td>\n      <td>0.553571</td>\n      <td>0.005871</td>\n      <td>0.476744</td>\n      <td>0.250000</td>\n      <td>0.0</td>\n      <td>0.024269</td>\n      <td>0.0625</td>\n      <td>0.0</td>\n      <td>0.666667</td>\n      <td>...</td>\n      <td>0.0</td>\n      <td>0.0</td>\n      <td>0.0</td>\n      <td>0.0</td>\n      <td>0.0</td>\n      <td>1.0</td>\n      <td>0.0</td>\n      <td>0.0</td>\n      <td>0.0</td>\n      <td>0.0</td>\n    </tr>\n    <tr>\n      <th>2</th>\n      <td>0.35</td>\n      <td>0.482143</td>\n      <td>0.005871</td>\n      <td>0.360465</td>\n      <td>0.263158</td>\n      <td>0.0</td>\n      <td>0.024269</td>\n      <td>0.0625</td>\n      <td>1.0</td>\n      <td>0.666667</td>\n      <td>...</td>\n      <td>0.0</td>\n      <td>0.0</td>\n      <td>0.0</td>\n      <td>0.0</td>\n      <td>0.0</td>\n      <td>1.0</td>\n      <td>0.0</td>\n      <td>0.0</td>\n      <td>0.0</td>\n      <td>0.0</td>\n    </tr>\n  </tbody>\n</table>\n<p>3 rows × 44 columns</p>\n</div>"
     },
     "execution_count": 419,
     "metadata": {},
     "output_type": "execute_result"
    }
   ],
   "source": [
    "scaler = MinMaxScaler()\n",
    "\n",
    "df = pd.DataFrame(scaler.fit_transform(df), columns=df.columns)\n",
    "df.head(3)"
   ],
   "metadata": {
    "collapsed": false,
    "ExecuteTime": {
     "end_time": "2024-06-21T14:27:26.000091Z",
     "start_time": "2024-06-21T14:27:25.964093Z"
    }
   },
   "id": "25b1e2539e439d6d",
   "execution_count": 419
  },
  {
   "cell_type": "markdown",
   "source": [
    "Lastly we normalize the data, as some of our values are quite large, which can cause issues during training."
   ],
   "metadata": {
    "collapsed": false
   },
   "id": "5a481c243832e984"
  },
  {
   "cell_type": "code",
   "outputs": [],
   "source": [
    "# reset index\n",
    "df = df.reset_index(drop=True)"
   ],
   "metadata": {
    "collapsed": false,
    "ExecuteTime": {
     "end_time": "2024-06-21T14:27:26.027627Z",
     "start_time": "2024-06-21T14:27:26.021624Z"
    }
   },
   "id": "f852ceab0b0b96d2",
   "execution_count": 420
  },
  {
   "cell_type": "code",
   "outputs": [
    {
     "name": "stdout",
     "output_type": "stream",
     "text": [
      "<class 'pandas.core.frame.DataFrame'>\n",
      "RangeIndex: 1332 entries, 0 to 1331\n",
      "Data columns (total 44 columns):\n",
      " #   Column            Non-Null Count  Dtype  \n",
      "---  ------            --------------  -----  \n",
      " 0   rating            1332 non-null   float32\n",
      " 1   spec_score        1332 non-null   float32\n",
      " 2   ram               1332 non-null   float32\n",
      " 3   battery           1332 non-null   float32\n",
      " 4   display           1332 non-null   float32\n",
      " 5   external_memory   1332 non-null   float32\n",
      " 6   price             1332 non-null   float32\n",
      " 7   inbuilt_memory    1332 non-null   float32\n",
      " 8   fast_charging     1332 non-null   float32\n",
      " 9   core_count        1332 non-null   float32\n",
      " 10  sim               1332 non-null   float32\n",
      " 11  3g                1332 non-null   float32\n",
      " 12  4g                1332 non-null   float32\n",
      " 13  5g                1332 non-null   float32\n",
      " 14  volte             1332 non-null   float32\n",
      " 15  vo5g              1332 non-null   float32\n",
      " 16  front_camera      1332 non-null   float32\n",
      " 17  rear_camera_1     1332 non-null   float32\n",
      " 18  rear_camera_2     1332 non-null   float32\n",
      " 19  rear_camera_3     1332 non-null   float32\n",
      " 20  screen_width      1332 non-null   float32\n",
      " 21  screen_height     1332 non-null   float32\n",
      " 22  company_asus      1295 non-null   float32\n",
      " 23  company_coolpad   1295 non-null   float32\n",
      " 24  company_gionee    1295 non-null   float32\n",
      " 25  company_google    1295 non-null   float32\n",
      " 26  company_honor     1295 non-null   float32\n",
      " 27  company_huawei    1295 non-null   float32\n",
      " 28  company_iqoo      1295 non-null   float32\n",
      " 29  company_itel      1295 non-null   float32\n",
      " 30  company_lava      1295 non-null   float32\n",
      " 31  company_lenovo    1295 non-null   float32\n",
      " 32  company_lg        1295 non-null   float32\n",
      " 33  company_motorola  1295 non-null   float32\n",
      " 34  company_nothing   1295 non-null   float32\n",
      " 35  company_oneplus   1295 non-null   float32\n",
      " 36  company_oppo      1295 non-null   float32\n",
      " 37  company_poco      1295 non-null   float32\n",
      " 38  company_realme    1295 non-null   float32\n",
      " 39  company_samsung   1295 non-null   float32\n",
      " 40  company_tcl       1295 non-null   float32\n",
      " 41  company_tecno     1295 non-null   float32\n",
      " 42  company_vivo      1295 non-null   float32\n",
      " 43  company_xiaomi    1295 non-null   float32\n",
      "dtypes: float32(44)\n",
      "memory usage: 229.1 KB\n"
     ]
    }
   ],
   "source": [
    "df.info()"
   ],
   "metadata": {
    "collapsed": false,
    "ExecuteTime": {
     "end_time": "2024-06-21T14:27:26.130851Z",
     "start_time": "2024-06-21T14:27:26.120758Z"
    }
   },
   "id": "2ef1351a6df7c673",
   "execution_count": 421
  },
  {
   "cell_type": "markdown",
   "source": [
    "Our dataset is now cleaned."
   ],
   "metadata": {
    "collapsed": false
   },
   "id": "d560d5b87607986"
  },
  {
   "cell_type": "markdown",
   "source": [
    "# Model"
   ],
   "metadata": {
    "collapsed": false
   },
   "id": "6141ca49d5562ea3"
  },
  {
   "cell_type": "markdown",
   "source": [
    "## Preparation"
   ],
   "metadata": {
    "collapsed": false
   },
   "id": "5699180f55138c24"
  },
  {
   "cell_type": "code",
   "outputs": [],
   "source": [
    "EPOCHS = 100\n",
    "BATCH_SIZE = 12"
   ],
   "metadata": {
    "collapsed": false,
    "ExecuteTime": {
     "end_time": "2024-06-21T14:27:26.261211Z",
     "start_time": "2024-06-21T14:27:26.257832Z"
    }
   },
   "id": "6c983f2d3dc59d08",
   "execution_count": 422
  },
  {
   "cell_type": "markdown",
   "source": [
    "We have now cleaned our dataset quite a bit. Next is splitting it into features and target. "
   ],
   "metadata": {
    "collapsed": false
   },
   "id": "75121f423299cac9"
  },
  {
   "cell_type": "code",
   "outputs": [],
   "source": [
    "train, test = train_test_split(df, test_size=0.2, random_state=42)"
   ],
   "metadata": {
    "collapsed": false,
    "ExecuteTime": {
     "end_time": "2024-06-21T14:27:26.361327Z",
     "start_time": "2024-06-21T14:27:26.355168Z"
    }
   },
   "id": "a10f613e89bf2d81",
   "execution_count": 423
  },
  {
   "cell_type": "code",
   "outputs": [],
   "source": [
    "y_train = train[\"price\"]\n",
    "y_test = test[\"price\"]\n",
    "X_train = train.drop(\"price\", axis=1)\n",
    "X_test = test.drop(\"price\", axis=1)"
   ],
   "metadata": {
    "collapsed": false,
    "ExecuteTime": {
     "end_time": "2024-06-21T14:27:26.539321Z",
     "start_time": "2024-06-21T14:27:26.534906Z"
    }
   },
   "id": "6953b20606dfbde4",
   "execution_count": 424
  },
  {
   "cell_type": "code",
   "outputs": [],
   "source": [
    "# convert to torch dataset\n",
    "class PhoneDataset(Dataset):\n",
    "    def __init__(self, X: pd.Series, y: pd.Series):\n",
    "        self.X = torch.from_numpy(X.to_numpy()).float()\n",
    "        self.y = torch.from_numpy(y.to_numpy()).float().unsqueeze(1)\n",
    "        \n",
    "    def __len__(self):\n",
    "        return len(self.X)\n",
    "    \n",
    "    def __getitem__(self, idx):\n",
    "        return self.X[idx], self.y[idx]\n"
   ],
   "metadata": {
    "collapsed": false,
    "ExecuteTime": {
     "end_time": "2024-06-21T14:27:26.616806Z",
     "start_time": "2024-06-21T14:27:26.612808Z"
    }
   },
   "id": "614ae47889102e9c",
   "execution_count": 425
  },
  {
   "cell_type": "code",
   "outputs": [],
   "source": [
    "train_dataset = PhoneDataset(X_train, y_train)\n",
    "test_dataset = PhoneDataset(X_test, y_test)"
   ],
   "metadata": {
    "collapsed": false,
    "ExecuteTime": {
     "end_time": "2024-06-21T14:27:26.657918Z",
     "start_time": "2024-06-21T14:27:26.654359Z"
    }
   },
   "id": "acfc0773950bd7bd",
   "execution_count": 426
  },
  {
   "cell_type": "code",
   "outputs": [],
   "source": [
    "train_loader = DataLoader(train_dataset, batch_size=BATCH_SIZE, shuffle=True)\n",
    "test_loader = DataLoader(test_dataset, batch_size=BATCH_SIZE, shuffle=True)"
   ],
   "metadata": {
    "collapsed": false,
    "ExecuteTime": {
     "end_time": "2024-06-21T14:27:26.696453Z",
     "start_time": "2024-06-21T14:27:26.691801Z"
    }
   },
   "id": "e63279821a3803e2",
   "execution_count": 427
  },
  {
   "cell_type": "markdown",
   "source": [
    "We now have all of our variables, and we'll be ready to train our model."
   ],
   "metadata": {
    "collapsed": false
   },
   "id": "e5345bb2f93aa058"
  },
  {
   "cell_type": "markdown",
   "source": [
    "## Model"
   ],
   "metadata": {
    "collapsed": false
   },
   "id": "2029dfc30e307848"
  },
  {
   "cell_type": "code",
   "outputs": [],
   "source": [
    "class MyModel(nn.Module):\n",
    "    def __init__(self, input_size):\n",
    "        super().__init__()\n",
    "        self.fc1 = nn.Linear(input_size, 128)\n",
    "        self.fc2 = nn.Linear(128, 64)\n",
    "        self.fc3 = nn.Linear(64, 1)\n",
    "        \n",
    "    def forward(self, x):\n",
    "        x = torch.relu(self.fc1(x))\n",
    "        x = torch.relu(self.fc2(x))\n",
    "        x = self.fc3(x)\n",
    "        return x"
   ],
   "metadata": {
    "collapsed": false,
    "ExecuteTime": {
     "end_time": "2024-06-21T14:27:26.763079Z",
     "start_time": "2024-06-21T14:27:26.758181Z"
    }
   },
   "id": "422599993bc7030c",
   "execution_count": 428
  },
  {
   "cell_type": "markdown",
   "source": [
    "Above is a simple deep regression model. It consists of 4 fully connected layers, with ReLU activation functions."
   ],
   "metadata": {
    "collapsed": false
   },
   "id": "f02ce17f9efd7fd0"
  },
  {
   "cell_type": "code",
   "outputs": [],
   "source": [
    "input_dim = X_train.shape[1]\n",
    "model = MyModel(input_dim)\n",
    "\n",
    "loss_fun =  nn.MSELoss()\n",
    "optimizer = optim.Adam(model.parameters(), lr=0.0001)"
   ],
   "metadata": {
    "collapsed": false,
    "ExecuteTime": {
     "end_time": "2024-06-21T14:27:26.819339Z",
     "start_time": "2024-06-21T14:27:26.814311Z"
    }
   },
   "id": "5d61708bc9191024",
   "execution_count": 429
  },
  {
   "cell_type": "markdown",
   "source": [
    "## Training"
   ],
   "metadata": {
    "collapsed": false
   },
   "id": "2f34477a19d553e9"
  },
  {
   "cell_type": "code",
   "outputs": [
    {
     "name": "stdout",
     "output_type": "stream",
     "text": [
      "[0.25, 0.6785714030265808, 0.013698630034923553, 0.3604651689529419, 0.3026316165924072, 0.0, 0.125, 1.0, 0.6666666865348816, 1.0, 1.0, 1.0, 0.0, 0.0, 0.0, 0.2666666805744171, 0.23999999463558197, 0.25, 0.03999999910593033, 0.3030303120613098, 0.5380645394325256, 0.0, 0.0, 0.0, 0.0, 0.0, 1.0, 0.0, 0.0, 0.0, 0.0, 0.0, 0.0, 0.0, 0.0, 0.0, 0.0, 0.0, 0.0, 0.0, 0.0, 0.0, 0.0]\n",
      "[0.08195057511329651]\n"
     ]
    }
   ],
   "source": [
    "for i, (X_batch, y_batch) in enumerate(train_loader):\n",
    "    if i > 0:\n",
    "        break\n",
    "    print(X_batch[0].tolist())\n",
    "    print(y_batch[0].tolist())"
   ],
   "metadata": {
    "collapsed": false,
    "ExecuteTime": {
     "end_time": "2024-06-21T14:27:26.907257Z",
     "start_time": "2024-06-21T14:27:26.901842Z"
    }
   },
   "id": "2db78aba2bdf46a3",
   "execution_count": 430
  },
  {
   "cell_type": "code",
   "outputs": [
    {
     "name": "stderr",
     "output_type": "stream",
     "text": [
      "C:\\Users\\Michael\\AppData\\Local\\Temp\\ipykernel_16172\\3550085746.py:25: RuntimeWarning: Mean of empty slice\n",
      "  print(f\"Epoch: {epoch}, loss: {np.nanmean(loss_list)}, val_loss: {np.nanmean(val_loss_list)}\")\n"
     ]
    },
    {
     "name": "stdout",
     "output_type": "stream",
     "text": [
      "Epoch: 0, loss: 0.052331630140542984, val_loss: nan\n",
      "Epoch: 1, loss: nan, val_loss: nan\n",
      "Epoch: 2, loss: nan, val_loss: nan\n",
      "Epoch: 3, loss: nan, val_loss: nan\n",
      "Epoch: 4, loss: nan, val_loss: nan\n",
      "Epoch: 5, loss: nan, val_loss: nan\n",
      "Epoch: 6, loss: nan, val_loss: nan\n",
      "Epoch: 7, loss: nan, val_loss: nan\n",
      "Epoch: 8, loss: nan, val_loss: nan\n",
      "Epoch: 9, loss: nan, val_loss: nan\n",
      "Epoch: 10, loss: nan, val_loss: nan\n",
      "Epoch: 11, loss: nan, val_loss: nan\n",
      "Epoch: 12, loss: nan, val_loss: nan\n",
      "Epoch: 13, loss: nan, val_loss: nan\n",
      "Epoch: 14, loss: nan, val_loss: nan\n",
      "Epoch: 15, loss: nan, val_loss: nan\n",
      "Epoch: 16, loss: nan, val_loss: nan\n",
      "Epoch: 17, loss: nan, val_loss: nan\n",
      "Epoch: 18, loss: nan, val_loss: nan\n",
      "Epoch: 19, loss: nan, val_loss: nan\n",
      "Epoch: 20, loss: nan, val_loss: nan\n",
      "Epoch: 21, loss: nan, val_loss: nan\n",
      "Epoch: 22, loss: nan, val_loss: nan\n",
      "Epoch: 23, loss: nan, val_loss: nan\n",
      "Epoch: 24, loss: nan, val_loss: nan\n",
      "Epoch: 25, loss: nan, val_loss: nan\n",
      "Epoch: 26, loss: nan, val_loss: nan\n",
      "Epoch: 27, loss: nan, val_loss: nan\n",
      "Epoch: 28, loss: nan, val_loss: nan\n",
      "Epoch: 29, loss: nan, val_loss: nan\n",
      "Epoch: 30, loss: nan, val_loss: nan\n",
      "Epoch: 31, loss: nan, val_loss: nan\n",
      "Epoch: 32, loss: nan, val_loss: nan\n",
      "Epoch: 33, loss: nan, val_loss: nan\n",
      "Epoch: 34, loss: nan, val_loss: nan\n",
      "Epoch: 35, loss: nan, val_loss: nan\n",
      "Epoch: 36, loss: nan, val_loss: nan\n",
      "Epoch: 37, loss: nan, val_loss: nan\n",
      "Epoch: 38, loss: nan, val_loss: nan\n",
      "Epoch: 39, loss: nan, val_loss: nan\n",
      "Epoch: 40, loss: nan, val_loss: nan\n",
      "Epoch: 41, loss: nan, val_loss: nan\n",
      "Epoch: 42, loss: nan, val_loss: nan\n",
      "Epoch: 43, loss: nan, val_loss: nan\n",
      "Epoch: 44, loss: nan, val_loss: nan\n",
      "Epoch: 45, loss: nan, val_loss: nan\n",
      "Epoch: 46, loss: nan, val_loss: nan\n",
      "Epoch: 47, loss: nan, val_loss: nan\n",
      "Epoch: 48, loss: nan, val_loss: nan\n",
      "Epoch: 49, loss: nan, val_loss: nan\n",
      "Epoch: 50, loss: nan, val_loss: nan\n",
      "Epoch: 51, loss: nan, val_loss: nan\n",
      "Epoch: 52, loss: nan, val_loss: nan\n",
      "Epoch: 53, loss: nan, val_loss: nan\n",
      "Epoch: 54, loss: nan, val_loss: nan\n",
      "Epoch: 55, loss: nan, val_loss: nan\n",
      "Epoch: 56, loss: nan, val_loss: nan\n",
      "Epoch: 57, loss: nan, val_loss: nan\n",
      "Epoch: 58, loss: nan, val_loss: nan\n",
      "Epoch: 59, loss: nan, val_loss: nan\n",
      "Epoch: 60, loss: nan, val_loss: nan\n",
      "Epoch: 61, loss: nan, val_loss: nan\n",
      "Epoch: 62, loss: nan, val_loss: nan\n",
      "Epoch: 63, loss: nan, val_loss: nan\n",
      "Epoch: 64, loss: nan, val_loss: nan\n",
      "Epoch: 65, loss: nan, val_loss: nan\n",
      "Epoch: 66, loss: nan, val_loss: nan\n",
      "Epoch: 67, loss: nan, val_loss: nan\n",
      "Epoch: 68, loss: nan, val_loss: nan\n",
      "Epoch: 69, loss: nan, val_loss: nan\n",
      "Epoch: 70, loss: nan, val_loss: nan\n",
      "Epoch: 71, loss: nan, val_loss: nan\n",
      "Epoch: 72, loss: nan, val_loss: nan\n",
      "Epoch: 73, loss: nan, val_loss: nan\n",
      "Epoch: 74, loss: nan, val_loss: nan\n",
      "Epoch: 75, loss: nan, val_loss: nan\n",
      "Epoch: 76, loss: nan, val_loss: nan\n",
      "Epoch: 77, loss: nan, val_loss: nan\n",
      "Epoch: 78, loss: nan, val_loss: nan\n",
      "Epoch: 79, loss: nan, val_loss: nan\n",
      "Epoch: 80, loss: nan, val_loss: nan\n",
      "Epoch: 81, loss: nan, val_loss: nan\n",
      "Epoch: 82, loss: nan, val_loss: nan\n",
      "Epoch: 83, loss: nan, val_loss: nan\n",
      "Epoch: 84, loss: nan, val_loss: nan\n",
      "Epoch: 85, loss: nan, val_loss: nan\n",
      "Epoch: 86, loss: nan, val_loss: nan\n",
      "Epoch: 87, loss: nan, val_loss: nan\n",
      "Epoch: 88, loss: nan, val_loss: nan\n",
      "Epoch: 89, loss: nan, val_loss: nan\n",
      "Epoch: 90, loss: nan, val_loss: nan\n",
      "Epoch: 91, loss: nan, val_loss: nan\n",
      "Epoch: 92, loss: nan, val_loss: nan\n",
      "Epoch: 93, loss: nan, val_loss: nan\n",
      "Epoch: 94, loss: nan, val_loss: nan\n",
      "Epoch: 95, loss: nan, val_loss: nan\n",
      "Epoch: 96, loss: nan, val_loss: nan\n",
      "Epoch: 97, loss: nan, val_loss: nan\n",
      "Epoch: 98, loss: nan, val_loss: nan\n",
      "Epoch: 99, loss: nan, val_loss: nan\n"
     ]
    }
   ],
   "source": [
    "for epoch in range(EPOCHS):\n",
    "    loss_list = []\n",
    "    val_loss_list = []\n",
    "\n",
    "    # training\n",
    "    model.train()\n",
    "    for X_batch, y_batch in train_loader:\n",
    "        optimizer.zero_grad()\n",
    "        y_pred = model(X_batch)\n",
    "        \n",
    "        loss = loss_fun(y_pred, y_batch)\n",
    "        loss_list.append(loss.item())\n",
    "        \n",
    "        loss.backward()\n",
    "        optimizer.step()\n",
    "\n",
    "    # testing\n",
    "    model.eval()\n",
    "    with torch.no_grad():\n",
    "        for X_batch, y_batch in test_loader:\n",
    "            y_pred = model(X_batch)\n",
    "            val_loss = loss_fun(y_pred, y_batch)\n",
    "            val_loss_list.append(val_loss.item())\n",
    "        \n",
    "    print(f\"Epoch: {epoch}, loss: {np.nanmean(loss_list)}, val_loss: {np.nanmean(val_loss_list)}\")\n",
    "        "
   ],
   "metadata": {
    "collapsed": false,
    "ExecuteTime": {
     "end_time": "2024-06-21T14:27:49.164788Z",
     "start_time": "2024-06-21T14:27:26.947151Z"
    }
   },
   "id": "4608a4c3ad8390f2",
   "execution_count": 431
  },
  {
   "cell_type": "code",
   "outputs": [
    {
     "ename": "ValueError",
     "evalue": "Input contains NaN.",
     "output_type": "error",
     "traceback": [
      "\u001B[1;31m---------------------------------------------------------------------------\u001B[0m",
      "\u001B[1;31mValueError\u001B[0m                                Traceback (most recent call last)",
      "Cell \u001B[1;32mIn[432], line 10\u001B[0m\n\u001B[0;32m      7\u001B[0m y_test \u001B[38;5;241m=\u001B[39m torch\u001B[38;5;241m.\u001B[39mfrom_numpy(y_test\u001B[38;5;241m.\u001B[39mto_numpy())\n\u001B[0;32m      9\u001B[0m y_pred \u001B[38;5;241m=\u001B[39m model(X_test)\n\u001B[1;32m---> 10\u001B[0m r2 \u001B[38;5;241m=\u001B[39m \u001B[43mr2_score\u001B[49m\u001B[43m(\u001B[49m\u001B[43my_test\u001B[49m\u001B[43m,\u001B[49m\u001B[43m \u001B[49m\u001B[43my_pred\u001B[49m\u001B[43m)\u001B[49m\n\u001B[0;32m     11\u001B[0m \u001B[38;5;28mprint\u001B[39m(\u001B[38;5;124mf\u001B[39m\u001B[38;5;124m\"\u001B[39m\u001B[38;5;124mR2 Score: \u001B[39m\u001B[38;5;132;01m{\u001B[39;00mr2\u001B[38;5;132;01m}\u001B[39;00m\u001B[38;5;124m\"\u001B[39m)\n",
      "File \u001B[1;32mA:\\Software\\Coding projects\\PSONeuralNetwork\\.venv\\Lib\\site-packages\\sklearn\\utils\\_param_validation.py:213\u001B[0m, in \u001B[0;36mvalidate_params.<locals>.decorator.<locals>.wrapper\u001B[1;34m(*args, **kwargs)\u001B[0m\n\u001B[0;32m    207\u001B[0m \u001B[38;5;28;01mtry\u001B[39;00m:\n\u001B[0;32m    208\u001B[0m     \u001B[38;5;28;01mwith\u001B[39;00m config_context(\n\u001B[0;32m    209\u001B[0m         skip_parameter_validation\u001B[38;5;241m=\u001B[39m(\n\u001B[0;32m    210\u001B[0m             prefer_skip_nested_validation \u001B[38;5;129;01mor\u001B[39;00m global_skip_validation\n\u001B[0;32m    211\u001B[0m         )\n\u001B[0;32m    212\u001B[0m     ):\n\u001B[1;32m--> 213\u001B[0m         \u001B[38;5;28;01mreturn\u001B[39;00m \u001B[43mfunc\u001B[49m\u001B[43m(\u001B[49m\u001B[38;5;241;43m*\u001B[39;49m\u001B[43margs\u001B[49m\u001B[43m,\u001B[49m\u001B[43m \u001B[49m\u001B[38;5;241;43m*\u001B[39;49m\u001B[38;5;241;43m*\u001B[39;49m\u001B[43mkwargs\u001B[49m\u001B[43m)\u001B[49m\n\u001B[0;32m    214\u001B[0m \u001B[38;5;28;01mexcept\u001B[39;00m InvalidParameterError \u001B[38;5;28;01mas\u001B[39;00m e:\n\u001B[0;32m    215\u001B[0m     \u001B[38;5;66;03m# When the function is just a wrapper around an estimator, we allow\u001B[39;00m\n\u001B[0;32m    216\u001B[0m     \u001B[38;5;66;03m# the function to delegate validation to the estimator, but we replace\u001B[39;00m\n\u001B[0;32m    217\u001B[0m     \u001B[38;5;66;03m# the name of the estimator by the name of the function in the error\u001B[39;00m\n\u001B[0;32m    218\u001B[0m     \u001B[38;5;66;03m# message to avoid confusion.\u001B[39;00m\n\u001B[0;32m    219\u001B[0m     msg \u001B[38;5;241m=\u001B[39m re\u001B[38;5;241m.\u001B[39msub(\n\u001B[0;32m    220\u001B[0m         \u001B[38;5;124mr\u001B[39m\u001B[38;5;124m\"\u001B[39m\u001B[38;5;124mparameter of \u001B[39m\u001B[38;5;124m\\\u001B[39m\u001B[38;5;124mw+ must be\u001B[39m\u001B[38;5;124m\"\u001B[39m,\n\u001B[0;32m    221\u001B[0m         \u001B[38;5;124mf\u001B[39m\u001B[38;5;124m\"\u001B[39m\u001B[38;5;124mparameter of \u001B[39m\u001B[38;5;132;01m{\u001B[39;00mfunc\u001B[38;5;241m.\u001B[39m\u001B[38;5;18m__qualname__\u001B[39m\u001B[38;5;132;01m}\u001B[39;00m\u001B[38;5;124m must be\u001B[39m\u001B[38;5;124m\"\u001B[39m,\n\u001B[0;32m    222\u001B[0m         \u001B[38;5;28mstr\u001B[39m(e),\n\u001B[0;32m    223\u001B[0m     )\n",
      "File \u001B[1;32mA:\\Software\\Coding projects\\PSONeuralNetwork\\.venv\\Lib\\site-packages\\sklearn\\metrics\\_regression.py:1204\u001B[0m, in \u001B[0;36mr2_score\u001B[1;34m(y_true, y_pred, sample_weight, multioutput, force_finite)\u001B[0m\n\u001B[0;32m   1198\u001B[0m xp, _, device_ \u001B[38;5;241m=\u001B[39m get_namespace_and_device(\n\u001B[0;32m   1199\u001B[0m     y_true, y_pred, sample_weight, multioutput\n\u001B[0;32m   1200\u001B[0m )\n\u001B[0;32m   1202\u001B[0m dtype \u001B[38;5;241m=\u001B[39m _find_matching_floating_dtype(y_true, y_pred, sample_weight, xp\u001B[38;5;241m=\u001B[39mxp)\n\u001B[1;32m-> 1204\u001B[0m _, y_true, y_pred, multioutput \u001B[38;5;241m=\u001B[39m \u001B[43m_check_reg_targets\u001B[49m\u001B[43m(\u001B[49m\n\u001B[0;32m   1205\u001B[0m \u001B[43m    \u001B[49m\u001B[43my_true\u001B[49m\u001B[43m,\u001B[49m\u001B[43m \u001B[49m\u001B[43my_pred\u001B[49m\u001B[43m,\u001B[49m\u001B[43m \u001B[49m\u001B[43mmultioutput\u001B[49m\u001B[43m,\u001B[49m\u001B[43m \u001B[49m\u001B[43mdtype\u001B[49m\u001B[38;5;241;43m=\u001B[39;49m\u001B[43mdtype\u001B[49m\u001B[43m,\u001B[49m\u001B[43m \u001B[49m\u001B[43mxp\u001B[49m\u001B[38;5;241;43m=\u001B[39;49m\u001B[43mxp\u001B[49m\n\u001B[0;32m   1206\u001B[0m \u001B[43m\u001B[49m\u001B[43m)\u001B[49m\n\u001B[0;32m   1207\u001B[0m check_consistent_length(y_true, y_pred, sample_weight)\n\u001B[0;32m   1209\u001B[0m \u001B[38;5;28;01mif\u001B[39;00m _num_samples(y_pred) \u001B[38;5;241m<\u001B[39m \u001B[38;5;241m2\u001B[39m:\n",
      "File \u001B[1;32mA:\\Software\\Coding projects\\PSONeuralNetwork\\.venv\\Lib\\site-packages\\sklearn\\metrics\\_regression.py:113\u001B[0m, in \u001B[0;36m_check_reg_targets\u001B[1;34m(y_true, y_pred, multioutput, dtype, xp)\u001B[0m\n\u001B[0;32m    111\u001B[0m check_consistent_length(y_true, y_pred)\n\u001B[0;32m    112\u001B[0m y_true \u001B[38;5;241m=\u001B[39m check_array(y_true, ensure_2d\u001B[38;5;241m=\u001B[39m\u001B[38;5;28;01mFalse\u001B[39;00m, dtype\u001B[38;5;241m=\u001B[39mdtype)\n\u001B[1;32m--> 113\u001B[0m y_pred \u001B[38;5;241m=\u001B[39m \u001B[43mcheck_array\u001B[49m\u001B[43m(\u001B[49m\u001B[43my_pred\u001B[49m\u001B[43m,\u001B[49m\u001B[43m \u001B[49m\u001B[43mensure_2d\u001B[49m\u001B[38;5;241;43m=\u001B[39;49m\u001B[38;5;28;43;01mFalse\u001B[39;49;00m\u001B[43m,\u001B[49m\u001B[43m \u001B[49m\u001B[43mdtype\u001B[49m\u001B[38;5;241;43m=\u001B[39;49m\u001B[43mdtype\u001B[49m\u001B[43m)\u001B[49m\n\u001B[0;32m    115\u001B[0m \u001B[38;5;28;01mif\u001B[39;00m y_true\u001B[38;5;241m.\u001B[39mndim \u001B[38;5;241m==\u001B[39m \u001B[38;5;241m1\u001B[39m:\n\u001B[0;32m    116\u001B[0m     y_true \u001B[38;5;241m=\u001B[39m xp\u001B[38;5;241m.\u001B[39mreshape(y_true, (\u001B[38;5;241m-\u001B[39m\u001B[38;5;241m1\u001B[39m, \u001B[38;5;241m1\u001B[39m))\n",
      "File \u001B[1;32mA:\\Software\\Coding projects\\PSONeuralNetwork\\.venv\\Lib\\site-packages\\sklearn\\utils\\validation.py:1059\u001B[0m, in \u001B[0;36mcheck_array\u001B[1;34m(array, accept_sparse, accept_large_sparse, dtype, order, copy, force_all_finite, ensure_2d, allow_nd, ensure_min_samples, ensure_min_features, estimator, input_name)\u001B[0m\n\u001B[0;32m   1053\u001B[0m     \u001B[38;5;28;01mraise\u001B[39;00m \u001B[38;5;167;01mValueError\u001B[39;00m(\n\u001B[0;32m   1054\u001B[0m         \u001B[38;5;124m\"\u001B[39m\u001B[38;5;124mFound array with dim \u001B[39m\u001B[38;5;132;01m%d\u001B[39;00m\u001B[38;5;124m. \u001B[39m\u001B[38;5;132;01m%s\u001B[39;00m\u001B[38;5;124m expected <= 2.\u001B[39m\u001B[38;5;124m\"\u001B[39m\n\u001B[0;32m   1055\u001B[0m         \u001B[38;5;241m%\u001B[39m (array\u001B[38;5;241m.\u001B[39mndim, estimator_name)\n\u001B[0;32m   1056\u001B[0m     )\n\u001B[0;32m   1058\u001B[0m \u001B[38;5;28;01mif\u001B[39;00m force_all_finite:\n\u001B[1;32m-> 1059\u001B[0m     \u001B[43m_assert_all_finite\u001B[49m\u001B[43m(\u001B[49m\n\u001B[0;32m   1060\u001B[0m \u001B[43m        \u001B[49m\u001B[43marray\u001B[49m\u001B[43m,\u001B[49m\n\u001B[0;32m   1061\u001B[0m \u001B[43m        \u001B[49m\u001B[43minput_name\u001B[49m\u001B[38;5;241;43m=\u001B[39;49m\u001B[43minput_name\u001B[49m\u001B[43m,\u001B[49m\n\u001B[0;32m   1062\u001B[0m \u001B[43m        \u001B[49m\u001B[43mestimator_name\u001B[49m\u001B[38;5;241;43m=\u001B[39;49m\u001B[43mestimator_name\u001B[49m\u001B[43m,\u001B[49m\n\u001B[0;32m   1063\u001B[0m \u001B[43m        \u001B[49m\u001B[43mallow_nan\u001B[49m\u001B[38;5;241;43m=\u001B[39;49m\u001B[43mforce_all_finite\u001B[49m\u001B[43m \u001B[49m\u001B[38;5;241;43m==\u001B[39;49m\u001B[43m \u001B[49m\u001B[38;5;124;43m\"\u001B[39;49m\u001B[38;5;124;43mallow-nan\u001B[39;49m\u001B[38;5;124;43m\"\u001B[39;49m\u001B[43m,\u001B[49m\n\u001B[0;32m   1064\u001B[0m \u001B[43m    \u001B[49m\u001B[43m)\u001B[49m\n\u001B[0;32m   1066\u001B[0m \u001B[38;5;28;01mif\u001B[39;00m copy:\n\u001B[0;32m   1067\u001B[0m     \u001B[38;5;28;01mif\u001B[39;00m _is_numpy_namespace(xp):\n\u001B[0;32m   1068\u001B[0m         \u001B[38;5;66;03m# only make a copy if `array` and `array_orig` may share memory`\u001B[39;00m\n",
      "File \u001B[1;32mA:\\Software\\Coding projects\\PSONeuralNetwork\\.venv\\Lib\\site-packages\\sklearn\\utils\\validation.py:126\u001B[0m, in \u001B[0;36m_assert_all_finite\u001B[1;34m(X, allow_nan, msg_dtype, estimator_name, input_name)\u001B[0m\n\u001B[0;32m    123\u001B[0m \u001B[38;5;28;01mif\u001B[39;00m first_pass_isfinite:\n\u001B[0;32m    124\u001B[0m     \u001B[38;5;28;01mreturn\u001B[39;00m\n\u001B[1;32m--> 126\u001B[0m \u001B[43m_assert_all_finite_element_wise\u001B[49m\u001B[43m(\u001B[49m\n\u001B[0;32m    127\u001B[0m \u001B[43m    \u001B[49m\u001B[43mX\u001B[49m\u001B[43m,\u001B[49m\n\u001B[0;32m    128\u001B[0m \u001B[43m    \u001B[49m\u001B[43mxp\u001B[49m\u001B[38;5;241;43m=\u001B[39;49m\u001B[43mxp\u001B[49m\u001B[43m,\u001B[49m\n\u001B[0;32m    129\u001B[0m \u001B[43m    \u001B[49m\u001B[43mallow_nan\u001B[49m\u001B[38;5;241;43m=\u001B[39;49m\u001B[43mallow_nan\u001B[49m\u001B[43m,\u001B[49m\n\u001B[0;32m    130\u001B[0m \u001B[43m    \u001B[49m\u001B[43mmsg_dtype\u001B[49m\u001B[38;5;241;43m=\u001B[39;49m\u001B[43mmsg_dtype\u001B[49m\u001B[43m,\u001B[49m\n\u001B[0;32m    131\u001B[0m \u001B[43m    \u001B[49m\u001B[43mestimator_name\u001B[49m\u001B[38;5;241;43m=\u001B[39;49m\u001B[43mestimator_name\u001B[49m\u001B[43m,\u001B[49m\n\u001B[0;32m    132\u001B[0m \u001B[43m    \u001B[49m\u001B[43minput_name\u001B[49m\u001B[38;5;241;43m=\u001B[39;49m\u001B[43minput_name\u001B[49m\u001B[43m,\u001B[49m\n\u001B[0;32m    133\u001B[0m \u001B[43m\u001B[49m\u001B[43m)\u001B[49m\n",
      "File \u001B[1;32mA:\\Software\\Coding projects\\PSONeuralNetwork\\.venv\\Lib\\site-packages\\sklearn\\utils\\validation.py:175\u001B[0m, in \u001B[0;36m_assert_all_finite_element_wise\u001B[1;34m(X, xp, allow_nan, msg_dtype, estimator_name, input_name)\u001B[0m\n\u001B[0;32m    158\u001B[0m \u001B[38;5;28;01mif\u001B[39;00m estimator_name \u001B[38;5;129;01mand\u001B[39;00m input_name \u001B[38;5;241m==\u001B[39m \u001B[38;5;124m\"\u001B[39m\u001B[38;5;124mX\u001B[39m\u001B[38;5;124m\"\u001B[39m \u001B[38;5;129;01mand\u001B[39;00m has_nan_error:\n\u001B[0;32m    159\u001B[0m     \u001B[38;5;66;03m# Improve the error message on how to handle missing values in\u001B[39;00m\n\u001B[0;32m    160\u001B[0m     \u001B[38;5;66;03m# scikit-learn.\u001B[39;00m\n\u001B[0;32m    161\u001B[0m     msg_err \u001B[38;5;241m+\u001B[39m\u001B[38;5;241m=\u001B[39m (\n\u001B[0;32m    162\u001B[0m         \u001B[38;5;124mf\u001B[39m\u001B[38;5;124m\"\u001B[39m\u001B[38;5;130;01m\\n\u001B[39;00m\u001B[38;5;132;01m{\u001B[39;00mestimator_name\u001B[38;5;132;01m}\u001B[39;00m\u001B[38;5;124m does not accept missing values\u001B[39m\u001B[38;5;124m\"\u001B[39m\n\u001B[0;32m    163\u001B[0m         \u001B[38;5;124m\"\u001B[39m\u001B[38;5;124m encoded as NaN natively. For supervised learning, you might want\u001B[39m\u001B[38;5;124m\"\u001B[39m\n\u001B[1;32m   (...)\u001B[0m\n\u001B[0;32m    173\u001B[0m         \u001B[38;5;124m\"\u001B[39m\u001B[38;5;124m#estimators-that-handle-nan-values\u001B[39m\u001B[38;5;124m\"\u001B[39m\n\u001B[0;32m    174\u001B[0m     )\n\u001B[1;32m--> 175\u001B[0m \u001B[38;5;28;01mraise\u001B[39;00m \u001B[38;5;167;01mValueError\u001B[39;00m(msg_err)\n",
      "\u001B[1;31mValueError\u001B[0m: Input contains NaN."
     ]
    }
   ],
   "source": [
    "# R2 Score\n",
    "with torch.no_grad():\n",
    "    model.eval()\n",
    "    \n",
    "    # convert to torch tensor\n",
    "    X_test = torch.from_numpy(X_test.to_numpy())\n",
    "    y_test = torch.from_numpy(y_test.to_numpy())\n",
    "    \n",
    "    y_pred = model(X_test)\n",
    "    r2 = r2_score(y_test, y_pred)\n",
    "    print(f\"R2 Score: {r2}\")"
   ],
   "metadata": {
    "collapsed": false,
    "ExecuteTime": {
     "end_time": "2024-06-21T14:27:49.318349Z",
     "start_time": "2024-06-21T14:27:49.166791Z"
    }
   },
   "id": "20ad00fed7f92f77",
   "execution_count": 432
  }
 ],
 "metadata": {
  "kernelspec": {
   "display_name": "Python 3",
   "language": "python",
   "name": "python3"
  },
  "language_info": {
   "codemirror_mode": {
    "name": "ipython",
    "version": 2
   },
   "file_extension": ".py",
   "mimetype": "text/x-python",
   "name": "python",
   "nbconvert_exporter": "python",
   "pygments_lexer": "ipython2",
   "version": "2.7.6"
  }
 },
 "nbformat": 4,
 "nbformat_minor": 5
}
