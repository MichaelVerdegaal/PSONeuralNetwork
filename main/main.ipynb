{
 "cells": [
  {
   "cell_type": "code",
   "execution_count": 131,
   "id": "initial_id",
   "metadata": {
    "collapsed": true,
    "ExecuteTime": {
     "end_time": "2024-06-26T10:42:59.844388Z",
     "start_time": "2024-06-26T10:42:59.839385Z"
    }
   },
   "outputs": [],
   "source": [
    "import numpy as np\n",
    "import pandas as pd\n",
    "from matplotlib import pyplot as plt\n",
    "from sklearn.metrics import r2_score\n",
    "from sklearn.model_selection import train_test_split\n",
    "from sklearn.preprocessing import OneHotEncoder, MinMaxScaler\n",
    "import torch.nn as nn\n",
    "import torch\n",
    "import torch.optim as optim\n",
    "import re\n",
    "from torch.utils.data import Dataset, DataLoader\n",
    "\n",
    "from config import DATA_FOLDER"
   ]
  },
  {
   "cell_type": "markdown",
   "source": [
    "# Data"
   ],
   "metadata": {
    "collapsed": false
   },
   "id": "4ea424b67e6bc71"
  },
  {
   "cell_type": "code",
   "outputs": [],
   "source": [
    "df = pd.read_csv(DATA_FOLDER / \"mobile phone price prediction.csv\")\n",
    "df = df.drop(\"Unnamed: 0\", axis=1)"
   ],
   "metadata": {
    "collapsed": false,
    "ExecuteTime": {
     "end_time": "2024-06-26T10:43:01.214059Z",
     "start_time": "2024-06-26T10:43:01.195914Z"
    }
   },
   "id": "f5c8f3c20ae09240",
   "execution_count": 132
  },
  {
   "cell_type": "code",
   "outputs": [
    {
     "data": {
      "text/plain": "(1370, 17)"
     },
     "execution_count": 133,
     "metadata": {},
     "output_type": "execute_result"
    }
   ],
   "source": [
    "df.shape"
   ],
   "metadata": {
    "collapsed": false,
    "ExecuteTime": {
     "end_time": "2024-06-26T10:43:01.331733Z",
     "start_time": "2024-06-26T10:43:01.325401Z"
    }
   },
   "id": "a08aa0627a229096",
   "execution_count": 133
  },
  {
   "cell_type": "code",
   "outputs": [
    {
     "data": {
      "text/plain": "                                   Name  Rating  Spec_score  \\\n0                 Samsung Galaxy F14 5G    4.65          68   \n1                    Samsung Galaxy A11    4.20          63   \n2                    Samsung Galaxy A13    4.30          75   \n3                    Samsung Galaxy F23    4.10          73   \n4  Samsung Galaxy A03s (4GB RAM + 64GB)    4.10          69   \n\n                       No_of_sim       Ram            Battery     Display  \\\n0  Dual Sim, 3G, 4G, 5G, VoLTE,   4 GB RAM  6000 mAh Battery   6.6 inches   \n1      Dual Sim, 3G, 4G, VoLTE,   2 GB RAM  4000 mAh Battery   6.4 inches   \n2      Dual Sim, 3G, 4G, VoLTE,   4 GB RAM  5000 mAh Battery   6.6 inches   \n3      Dual Sim, 3G, 4G, VoLTE,   4 GB RAM   6000 mAh Battery  6.4 inches   \n4      Dual Sim, 3G, 4G, VoLTE,   4 GB RAM  5000 mAh Battery   6.5 inches   \n\n                                              Camera  \\\n0    50 MP + 2 MP Dual Rear &amp; 13 MP Front Camera   \n1  13 MP + 5 MP + 2 MP Triple Rear &amp; 8 MP Fro...   \n2            50 MP Quad Rear &amp; 8 MP Front Camera   \n3           48 MP Quad Rear &amp; 13 MP Front Camera   \n4  13 MP + 2 MP + 2 MP Triple Rear &amp; 5 MP Fro...   \n\n                      External_Memory Android_version   Price  company  \\\n0    Memory Card Supported, upto 1 TB              13   9,999  Samsung   \n1  Memory Card Supported, upto 512 GB              10   9,990  Samsung   \n2    Memory Card Supported, upto 1 TB              12  11,999  Samsung   \n3    Memory Card Supported, upto 1 TB              12  11,999  Samsung   \n4    Memory Card Supported, upto 1 TB              11  11,999  Samsung   \n\n    Inbuilt_memory       fast_charging  \\\n0   128 GB inbuilt   25W Fast Charging   \n1    32 GB inbuilt   15W Fast Charging   \n2    64 GB inbuilt   25W Fast Charging   \n3    64 GB inbuilt                 NaN   \n4    64 GB inbuilt   15W Fast Charging   \n\n                               Screen_resolution             Processor  \\\n0   2408 x 1080 px Display with Water Drop Notch   Octa Core Processor   \n1          720 x 1560 px Display with Punch Hole     1.8 GHz Processor   \n2   1080 x 2408 px Display with Water Drop Notch       2 GHz Processor   \n3                                  720 x 1600 px             Octa Core   \n4    720 x 1600 px Display with Water Drop Notch             Octa Core   \n\n  Processor_name  \n0    Exynos 1330  \n1      Octa Core  \n2      Octa Core  \n3      Helio G88  \n4      Helio P35  ",
      "text/html": "<div>\n<style scoped>\n    .dataframe tbody tr th:only-of-type {\n        vertical-align: middle;\n    }\n\n    .dataframe tbody tr th {\n        vertical-align: top;\n    }\n\n    .dataframe thead th {\n        text-align: right;\n    }\n</style>\n<table border=\"1\" class=\"dataframe\">\n  <thead>\n    <tr style=\"text-align: right;\">\n      <th></th>\n      <th>Name</th>\n      <th>Rating</th>\n      <th>Spec_score</th>\n      <th>No_of_sim</th>\n      <th>Ram</th>\n      <th>Battery</th>\n      <th>Display</th>\n      <th>Camera</th>\n      <th>External_Memory</th>\n      <th>Android_version</th>\n      <th>Price</th>\n      <th>company</th>\n      <th>Inbuilt_memory</th>\n      <th>fast_charging</th>\n      <th>Screen_resolution</th>\n      <th>Processor</th>\n      <th>Processor_name</th>\n    </tr>\n  </thead>\n  <tbody>\n    <tr>\n      <th>0</th>\n      <td>Samsung Galaxy F14 5G</td>\n      <td>4.65</td>\n      <td>68</td>\n      <td>Dual Sim, 3G, 4G, 5G, VoLTE,</td>\n      <td>4 GB RAM</td>\n      <td>6000 mAh Battery</td>\n      <td>6.6 inches</td>\n      <td>50 MP + 2 MP Dual Rear &amp;amp; 13 MP Front Camera</td>\n      <td>Memory Card Supported, upto 1 TB</td>\n      <td>13</td>\n      <td>9,999</td>\n      <td>Samsung</td>\n      <td>128 GB inbuilt</td>\n      <td>25W Fast Charging</td>\n      <td>2408 x 1080 px Display with Water Drop Notch</td>\n      <td>Octa Core Processor</td>\n      <td>Exynos 1330</td>\n    </tr>\n    <tr>\n      <th>1</th>\n      <td>Samsung Galaxy A11</td>\n      <td>4.20</td>\n      <td>63</td>\n      <td>Dual Sim, 3G, 4G, VoLTE,</td>\n      <td>2 GB RAM</td>\n      <td>4000 mAh Battery</td>\n      <td>6.4 inches</td>\n      <td>13 MP + 5 MP + 2 MP Triple Rear &amp;amp; 8 MP Fro...</td>\n      <td>Memory Card Supported, upto 512 GB</td>\n      <td>10</td>\n      <td>9,990</td>\n      <td>Samsung</td>\n      <td>32 GB inbuilt</td>\n      <td>15W Fast Charging</td>\n      <td>720 x 1560 px Display with Punch Hole</td>\n      <td>1.8 GHz Processor</td>\n      <td>Octa Core</td>\n    </tr>\n    <tr>\n      <th>2</th>\n      <td>Samsung Galaxy A13</td>\n      <td>4.30</td>\n      <td>75</td>\n      <td>Dual Sim, 3G, 4G, VoLTE,</td>\n      <td>4 GB RAM</td>\n      <td>5000 mAh Battery</td>\n      <td>6.6 inches</td>\n      <td>50 MP Quad Rear &amp;amp; 8 MP Front Camera</td>\n      <td>Memory Card Supported, upto 1 TB</td>\n      <td>12</td>\n      <td>11,999</td>\n      <td>Samsung</td>\n      <td>64 GB inbuilt</td>\n      <td>25W Fast Charging</td>\n      <td>1080 x 2408 px Display with Water Drop Notch</td>\n      <td>2 GHz Processor</td>\n      <td>Octa Core</td>\n    </tr>\n    <tr>\n      <th>3</th>\n      <td>Samsung Galaxy F23</td>\n      <td>4.10</td>\n      <td>73</td>\n      <td>Dual Sim, 3G, 4G, VoLTE,</td>\n      <td>4 GB RAM</td>\n      <td>6000 mAh Battery</td>\n      <td>6.4 inches</td>\n      <td>48 MP Quad Rear &amp;amp; 13 MP Front Camera</td>\n      <td>Memory Card Supported, upto 1 TB</td>\n      <td>12</td>\n      <td>11,999</td>\n      <td>Samsung</td>\n      <td>64 GB inbuilt</td>\n      <td>NaN</td>\n      <td>720 x 1600 px</td>\n      <td>Octa Core</td>\n      <td>Helio G88</td>\n    </tr>\n    <tr>\n      <th>4</th>\n      <td>Samsung Galaxy A03s (4GB RAM + 64GB)</td>\n      <td>4.10</td>\n      <td>69</td>\n      <td>Dual Sim, 3G, 4G, VoLTE,</td>\n      <td>4 GB RAM</td>\n      <td>5000 mAh Battery</td>\n      <td>6.5 inches</td>\n      <td>13 MP + 2 MP + 2 MP Triple Rear &amp;amp; 5 MP Fro...</td>\n      <td>Memory Card Supported, upto 1 TB</td>\n      <td>11</td>\n      <td>11,999</td>\n      <td>Samsung</td>\n      <td>64 GB inbuilt</td>\n      <td>15W Fast Charging</td>\n      <td>720 x 1600 px Display with Water Drop Notch</td>\n      <td>Octa Core</td>\n      <td>Helio P35</td>\n    </tr>\n  </tbody>\n</table>\n</div>"
     },
     "execution_count": 134,
     "metadata": {},
     "output_type": "execute_result"
    }
   ],
   "source": [
    "df.head()"
   ],
   "metadata": {
    "collapsed": false,
    "ExecuteTime": {
     "end_time": "2024-06-26T10:43:01.486696Z",
     "start_time": "2024-06-26T10:43:01.471696Z"
    }
   },
   "id": "d0ff7d8d5e09ba61",
   "execution_count": 134
  },
  {
   "cell_type": "code",
   "outputs": [
    {
     "name": "stdout",
     "output_type": "stream",
     "text": [
      "<class 'pandas.core.frame.DataFrame'>\n",
      "RangeIndex: 1370 entries, 0 to 1369\n",
      "Data columns (total 17 columns):\n",
      " #   Column             Non-Null Count  Dtype  \n",
      "---  ------             --------------  -----  \n",
      " 0   Name               1370 non-null   object \n",
      " 1   Rating             1370 non-null   float64\n",
      " 2   Spec_score         1370 non-null   int64  \n",
      " 3   No_of_sim          1370 non-null   object \n",
      " 4   Ram                1370 non-null   object \n",
      " 5   Battery            1370 non-null   object \n",
      " 6   Display            1370 non-null   object \n",
      " 7   Camera             1370 non-null   object \n",
      " 8   External_Memory    1370 non-null   object \n",
      " 9   Android_version    927 non-null    object \n",
      " 10  Price              1370 non-null   object \n",
      " 11  company            1370 non-null   object \n",
      " 12  Inbuilt_memory     1351 non-null   object \n",
      " 13  fast_charging      1281 non-null   object \n",
      " 14  Screen_resolution  1368 non-null   object \n",
      " 15  Processor          1342 non-null   object \n",
      " 16  Processor_name     1370 non-null   object \n",
      "dtypes: float64(1), int64(1), object(15)\n",
      "memory usage: 182.1+ KB\n"
     ]
    }
   ],
   "source": [
    "df.info()"
   ],
   "metadata": {
    "collapsed": false,
    "ExecuteTime": {
     "end_time": "2024-06-26T10:43:01.638074Z",
     "start_time": "2024-06-26T10:43:01.624392Z"
    }
   },
   "id": "255cae21d0047c93",
   "execution_count": 135
  },
  {
   "cell_type": "markdown",
   "source": [
    "In the above we've loaded our datasets, and taken a first look at them.\n",
    "\n",
    "We can see that we have some relatively small datasets, with less than 1400 rows.\n",
    "\n",
    "We have 17 columns. Price is the target variable, and the rest are features. We can see that all of the features are categorical, including the target. On closer inspection, we can definitely convert some of those to numerical features. There also a small amount of missing values, which we should also fill in."
   ],
   "metadata": {
    "collapsed": false
   },
   "id": "827b32c927d2bb86"
  },
  {
   "cell_type": "markdown",
   "source": [
    "The given column description is as follows:\n",
    "\n",
    "- Name: This column contains the name of the mobile phone.\n",
    "- Rating: This column contains the ratings given to the phone. the minimum rating is 0. and maximum rating is 5.\n",
    "- Spec_score: This column contains the score given to the phone on the basic of its specifications. This minimum value is 0 and maximum value is 100.\n",
    "- No_of_sim: This column contains whether the phone is dual sim, has 3g, 4g, 5g, volte.\n",
    "- RAM: This column contains the information about the RAM of the phone\n",
    "- Battery: This column provides information about battery specification of the phone.\n",
    "- Display: This column contains information about the screen size of the phone.\n",
    "- Camera: This column provides information about the camera, rear and front.\n",
    "- External_Memory: This column contains information whether a device support external memory and\n",
    "how much.\n",
    "- Android_version: This column tells us about the android version of the phone.\n",
    "- Price: Price of the phone.\n",
    "- Company: The company to which the phone belongs.\n",
    "- Inbuilt_memory: This column provides information about the inbuilt memory of the phone.\n",
    "- fast_charging: It contains whether the device supports fast charging or not. if yes then how much.\n",
    "- Screen_resolution: This describes the screen resolution of the phone.\n",
    "- Processor: This column gives information about the processor of the phone.\n",
    "- Processor_name: This column describes the name of the processor."
   ],
   "metadata": {
    "collapsed": false
   },
   "id": "f7628cb9faedc2ab"
  },
  {
   "cell_type": "markdown",
   "source": [
    "# Cleaning"
   ],
   "metadata": {
    "collapsed": false
   },
   "id": "f21427450f1e381"
  },
  {
   "cell_type": "code",
   "outputs": [
    {
     "data": {
      "text/plain": "count                                   1370\nunique                                  1334\ntop       Realme Narzo N55 (6GB RAM + 128GB)\nfreq                                       3\nName: Name, dtype: object"
     },
     "execution_count": 136,
     "metadata": {},
     "output_type": "execute_result"
    }
   ],
   "source": [
    "df[\"Name\"].describe()"
   ],
   "metadata": {
    "collapsed": false,
    "ExecuteTime": {
     "end_time": "2024-06-26T10:43:01.724538Z",
     "start_time": "2024-06-26T10:43:01.716767Z"
    }
   },
   "id": "15c52adc0c5431c1",
   "execution_count": 136
  },
  {
   "cell_type": "code",
   "outputs": [],
   "source": [
    "df = df.drop(\"Name\", axis=1)"
   ],
   "metadata": {
    "collapsed": false,
    "ExecuteTime": {
     "end_time": "2024-06-26T10:43:01.921080Z",
     "start_time": "2024-06-26T10:43:01.916122Z"
    }
   },
   "id": "13564c87a7bb8035",
   "execution_count": 137
  },
  {
   "cell_type": "markdown",
   "source": [
    "For name, we can see that we have a unique value for almost every single row. I doubt the usefulness of this column on its own, especially since we have a company column already. So we drop it."
   ],
   "metadata": {
    "collapsed": false
   },
   "id": "104c3b0ac4f2d826"
  },
  {
   "cell_type": "code",
   "outputs": [],
   "source": [
    "df = df.astype({\"Rating\": \"float32\", \"Spec_score\": \"int32\"})"
   ],
   "metadata": {
    "collapsed": false,
    "ExecuteTime": {
     "end_time": "2024-06-26T10:43:02.039591Z",
     "start_time": "2024-06-26T10:43:02.031471Z"
    }
   },
   "id": "3429a5c210c7817",
   "execution_count": 138
  },
  {
   "cell_type": "markdown",
   "source": [
    "The features above don't need more work other than setting the data type correctly."
   ],
   "metadata": {
    "collapsed": false
   },
   "id": "5a01f9ab167f0626"
  },
  {
   "cell_type": "code",
   "outputs": [
    {
     "data": {
      "text/plain": "No_of_sim\nDual Sim, 3G, 4G, 5G, VoLTE,             818\nDual Sim, 3G, 4G, VoLTE,                 419\nDual Sim, 3G, 4G, 5G, VoLTE, Vo5G,        91\nSingle Sim, 3G, 4G, 5G, VoLTE,            20\nDual Sim, 3G, 4G,                         13\nSingle Sim, 3G, 4G, VoLTE,                 6\nNo Sim Supported,                          1\nSingle Sim, 3G, 4G, 5G, VoLTE, Vo5G,       1\nDual Sim, 3G, VoLTE,                       1\nName: count, dtype: int64"
     },
     "execution_count": 139,
     "metadata": {},
     "output_type": "execute_result"
    }
   ],
   "source": [
    "df[\"No_of_sim\"].value_counts()"
   ],
   "metadata": {
    "collapsed": false,
    "ExecuteTime": {
     "end_time": "2024-06-26T10:43:02.339920Z",
     "start_time": "2024-06-26T10:43:02.333164Z"
    }
   },
   "id": "69d7c47599d2df62",
   "execution_count": 139
  },
  {
   "cell_type": "code",
   "outputs": [],
   "source": [
    "# Remove trailing commas\n",
    "df['No_of_sim'] = df['No_of_sim'].str.replace(r'\\s*,\\s*$', '', regex=True)\n",
    "\n",
    "# Create new columns based on the presence of a feature\n",
    "df['sim'] = df['No_of_sim'].str.contains('Dual Sim').astype(int) + df['No_of_sim'].str.contains('Single Sim').astype(int)\n",
    "df['3g'] = df['No_of_sim'].str.contains('3G').astype(int)\n",
    "df['4g'] = df['No_of_sim'].str.contains('4G').astype(int)\n",
    "df['5g'] = df['No_of_sim'].str.contains('5G').astype(int)\n",
    "df['volte'] = df['No_of_sim'].str.contains('VoLTE').astype(int)\n",
    "df['vo5g'] = df['No_of_sim'].str.contains('Vo5G').astype(int)\n",
    "\n",
    "# Set all to 0 if 'No Sim Supported'\n",
    "df.loc[df['No_of_sim'].str.contains('No Sim Supported'), ['sim', '3g', '4g', '5g', 'volte', 'vo5g']] = 0\n",
    "\n",
    "# Drop the original column\n",
    "df = df.drop('No_of_sim', axis=1)"
   ],
   "metadata": {
    "collapsed": false,
    "ExecuteTime": {
     "end_time": "2024-06-26T10:43:02.482620Z",
     "start_time": "2024-06-26T10:43:02.460541Z"
    }
   },
   "id": "79d8c8ac35140b82",
   "execution_count": 140
  },
  {
   "cell_type": "markdown",
   "source": [
    "The feature above was more complicated. It contains sim card specs. I felt like this was more useful if we had them separated as new columns, so you can check for the specific features (e.g. 5G is pretty important to some)."
   ],
   "metadata": {
    "collapsed": false
   },
   "id": "9b944ea6a660b47d"
  },
  {
   "cell_type": "code",
   "outputs": [
    {
     "data": {
      "text/plain": "Ram\n8 GB RAM                                     528\n4 GB RAM                                     253\n12 GB RAM                                    246\n6 GB RAM                                     214\n16 GB RAM                                     41\n3 GB RAM                                      38\n2 GB RAM                                      22\n256 GB inbuilt                                 8\n128 GB inbuilt                                 7\n18 GB RAM                                      4\n512 GB inbuilt                                 3\n24 GB RAM                                      2\n1 GB RAM                                       1\nHelio G90T                                     1\n1.5 GB RAM                                     1\n6000 mAh Battery with 22.5W Fast Charging      1\nName: count, dtype: int64"
     },
     "execution_count": 141,
     "metadata": {},
     "output_type": "execute_result"
    }
   ],
   "source": [
    "df[\"Ram\"].value_counts()"
   ],
   "metadata": {
    "collapsed": false,
    "ExecuteTime": {
     "end_time": "2024-06-26T10:43:02.609713Z",
     "start_time": "2024-06-26T10:43:02.600535Z"
    }
   },
   "id": "97e68e309c1f866d",
   "execution_count": 141
  },
  {
   "cell_type": "code",
   "outputs": [],
   "source": [
    "# Split and take first value\n",
    "df[\"Ram\"] = df[\"Ram\"].str.split(\" \").str[0]"
   ],
   "metadata": {
    "collapsed": false,
    "ExecuteTime": {
     "end_time": "2024-06-26T10:43:02.659032Z",
     "start_time": "2024-06-26T10:43:02.651227Z"
    }
   },
   "id": "9deb3a952a3be5a7",
   "execution_count": 142
  },
  {
   "cell_type": "markdown",
   "source": [
    "The ram column contains many categories, but these can easily be numerical. After all, more RAM is just better, objectively."
   ],
   "metadata": {
    "collapsed": false
   },
   "id": "40aa37ca89d589c"
  },
  {
   "cell_type": "code",
   "outputs": [
    {
     "data": {
      "text/plain": "Camera\n50 MP + 2 MP Dual Rear &amp; 8 MP Front Camera                             81\nFoldable Display, Dual Display                                             69\n50 MP + 8 MP + 2 MP Triple Rear &amp; 16 MP Front Camera                   61\n64 MP + 8 MP + 2 MP Triple Rear &amp; 16 MP Front Camera                   40\n50 MP + 2 MP Dual Rear &amp; 16 MP Front Camera                            31\n                                                                           ..\n54 MP + 8 MP + 2 MP Triple Rear &amp; 16 MP Front Camera                    1\n160 MP + 50 MP + 2 MP Triple Rear &amp; 50 MP + 2 MP Dual Front Camera      1\n108 MP + 32 MP + 12 MP Triple Rear &amp; 50 MP + 2 MP Dual Front Camera     1\n50 MP + 16 MP + 8 MP Triple Rear &amp; 32 MP + 8 MP Dual Front Camera       1\n50 MP + 5 MP + 2 MP Triple Rear &amp; 32 MP Front Camera                    1\nName: count, Length: 347, dtype: int64"
     },
     "execution_count": 143,
     "metadata": {},
     "output_type": "execute_result"
    }
   ],
   "source": [
    "df[\"Camera\"].value_counts()"
   ],
   "metadata": {
    "collapsed": false,
    "ExecuteTime": {
     "end_time": "2024-06-26T10:43:02.838695Z",
     "start_time": "2024-06-26T10:43:02.831104Z"
    }
   },
   "id": "5950c1e97127870",
   "execution_count": 143
  },
  {
   "cell_type": "code",
   "outputs": [],
   "source": [
    "# Define a function to extract camera specs\n",
    "def extract_camera_specs(camera_str):\n",
    "    # Rear camera specs\n",
    "    rear_match = re.findall(r'(\\d+) MP', camera_str)\n",
    "    if rear_match:\n",
    "        rear_cameras = sorted(map(int, rear_match), reverse=True)\n",
    "    else:\n",
    "        rear_cameras = []\n",
    "    \n",
    "    # Front camera specs\n",
    "    front_match = re.search(r'(\\d+) MP Front Camera', camera_str)\n",
    "    front_camera = int(front_match.group(1)) if front_match else 0\n",
    "    \n",
    "    return rear_cameras, front_camera\n",
    "\n",
    "# Apply the function and create new columns\n",
    "df['Rear_Cameras'], df['Front_Camera'] = zip(*df['Camera'].apply(extract_camera_specs))\n",
    "\n",
    "# Fill new columns with the extracted values\n",
    "# Extracting up to X rear camera specs\n",
    "max_cameras = 3\n",
    "for i in range(max_cameras):\n",
    "    df[f'Rear_Camera_{i+1}'] = df['Rear_Cameras'].apply(lambda x: x[i] if i < len(x) else 0)\n",
    "\n",
    "# Drop the temporary column\n",
    "df.drop(columns=['Rear_Cameras'], inplace=True)\n",
    "df = df.drop(columns=['Camera'])"
   ],
   "metadata": {
    "collapsed": false,
    "ExecuteTime": {
     "end_time": "2024-06-26T10:43:02.960690Z",
     "start_time": "2024-06-26T10:43:02.937235Z"
    }
   },
   "id": "471b69f3b5d34a28",
   "execution_count": 144
  },
  {
   "cell_type": "markdown",
   "source": [
    "The camera column is a little tricky. We can see that it's separated into front and rear camera's, with often multiple cameras for the rear camera. We'll first split it into front and rear cameras. Then afterwards, for each instance we extract the megapixels. \n",
    "\n",
    "With absence, we set it to 0."
   ],
   "metadata": {
    "collapsed": false
   },
   "id": "a629c7e1f4b48099"
  },
  {
   "cell_type": "code",
   "outputs": [
    {
     "data": {
      "text/plain": "Battery\n5000 mAh Battery     693\n4500 mAh Battery     116\n6000 mAh Battery     102\n5000 mAh Battery      59\n4000 mAh Battery      36\n                    ... \n4821 mAh Battery       1\n4730 mAh Battery       1\n5700 mAh Battery       1\n3760 mAh Battery       1\n4500 mAh Battery       1\nName: count, Length: 89, dtype: int64"
     },
     "execution_count": 145,
     "metadata": {},
     "output_type": "execute_result"
    }
   ],
   "source": [
    "df[\"Battery\"].value_counts()"
   ],
   "metadata": {
    "collapsed": false,
    "ExecuteTime": {
     "end_time": "2024-06-26T10:43:03.136395Z",
     "start_time": "2024-06-26T10:43:03.125392Z"
    }
   },
   "id": "c4ee47ab2ce092b5",
   "execution_count": 145
  },
  {
   "cell_type": "code",
   "outputs": [],
   "source": [
    "# Split and take first value\n",
    "df[\"Battery\"] = df[\"Battery\"].str.split(\" \").str[0]"
   ],
   "metadata": {
    "collapsed": false,
    "ExecuteTime": {
     "end_time": "2024-06-26T10:43:03.278646Z",
     "start_time": "2024-06-26T10:43:03.272091Z"
    }
   },
   "id": "b0a6efa507c77b8",
   "execution_count": 146
  },
  {
   "cell_type": "markdown",
   "source": [
    "With the battery column we split and take the first value, to get the battery capacity in mAh."
   ],
   "metadata": {
    "collapsed": false
   },
   "id": "52219010a11072a"
  },
  {
   "cell_type": "code",
   "outputs": [
    {
     "data": {
      "text/plain": "Display\n6.7 inches     158\n6.67 inches    151\n6.78 inches    142\n6.5 inches     122\n6.6 inches      94\n              ... \n5.6 inches       1\n6.69 inches      1\n12.1 inches      1\n7.71 inches      1\n10 inches        1\nName: count, Length: 89, dtype: int64"
     },
     "execution_count": 147,
     "metadata": {},
     "output_type": "execute_result"
    }
   ],
   "source": [
    "df[\"Display\"].value_counts()"
   ],
   "metadata": {
    "collapsed": false,
    "ExecuteTime": {
     "end_time": "2024-06-26T10:43:03.421171Z",
     "start_time": "2024-06-26T10:43:03.414350Z"
    }
   },
   "id": "3588a5afba91f6c0",
   "execution_count": 147
  },
  {
   "cell_type": "code",
   "outputs": [],
   "source": [
    "# Split and take first value\n",
    "df[\"Display\"] = df[\"Display\"].str.split(\" \").str[0]"
   ],
   "metadata": {
    "collapsed": false,
    "ExecuteTime": {
     "end_time": "2024-06-26T10:43:03.484360Z",
     "start_time": "2024-06-26T10:43:03.478661Z"
    }
   },
   "id": "8dcbf5a4ee6605b6",
   "execution_count": 148
  },
  {
   "cell_type": "markdown",
   "source": [
    "With the display column we split and take the first value, to get the screen size in inches."
   ],
   "metadata": {
    "collapsed": false
   },
   "id": "2c1c14137194e829"
  },
  {
   "cell_type": "code",
   "outputs": [
    {
     "data": {
      "text/plain": "External_Memory\nMemory Card Supported, upto 1 TB                                               233\nMemory Card (Hybrid), upto 1 TB                                                161\nMemory Card Not Supported                                                      142\nAndroid v13                                                                    107\nAndroid v12                                                                    104\n                                                                              ... \n48 MP + 12 MP Dual Rear &amp; 10 MP Front Camera                                 1\n48 MP + 10.8 MP + 10.8 MP Triple Rear &amp; 9.5 MP + 8 MP Dual Front Camera      1\n50 MP + 10.8 MP + 10.8 MP Triple Rear &amp; 12 MP + 12 MP Dual Front Camera      1\nMemory Card Supported, upto 32 GB                                                1\n50 MP + 48 MP + 8 MP Triple Rear &amp; 32 MP Front Camera                        1\nName: count, Length: 85, dtype: int64"
     },
     "execution_count": 149,
     "metadata": {},
     "output_type": "execute_result"
    }
   ],
   "source": [
    "df[\"External_Memory\"].value_counts()"
   ],
   "metadata": {
    "collapsed": false,
    "ExecuteTime": {
     "end_time": "2024-06-26T10:43:03.662663Z",
     "start_time": "2024-06-26T10:43:03.649361Z"
    }
   },
   "id": "b602a717fe47ed37",
   "execution_count": 149
  },
  {
   "cell_type": "code",
   "outputs": [],
   "source": [
    "# if Memory Card Not Supported, set it to 0, else 1\n",
    "df[\"External_Memory\"] = df[\"External_Memory\"].str.contains(\"Memory Card Not Supported\").astype(int)"
   ],
   "metadata": {
    "collapsed": false,
    "ExecuteTime": {
     "end_time": "2024-06-26T10:43:03.723508Z",
     "start_time": "2024-06-26T10:43:03.718825Z"
    }
   },
   "id": "84638ed9ea9ba001",
   "execution_count": 150
  },
  {
   "cell_type": "markdown",
   "source": [
    "There are many categories in the external memory column. However, in the end it boils down to whether the answer to external memory support is yes or no. Most consumers probably don't pay attention to the max amount supported. So, we split it into a binary column."
   ],
   "metadata": {
    "collapsed": false
   },
   "id": "4f02e412b978f368"
  },
  {
   "cell_type": "code",
   "outputs": [
    {
     "data": {
      "text/plain": "Android_version\n13                   280\n12                   202\n14                   178\n11                   127\n10                    55\n15                    17\n10.0                  17\n9.0 (Pie)             17\n4.0                    8\n8.1 (Oreo)             5\n6.0 (Marshmallow)      3\n3.0                    3\n2.0                    3\n3.1                    2\n7.1.1 (Nougat)         2\n5.0                    1\n3.0 (Honeycomb)        1\n5.1 (Lollipop)         1\n2                      1\n3                      1\n9 (Pie)                1\n8.0 (Oreo)             1\n4.1                    1\nName: count, dtype: int64"
     },
     "execution_count": 151,
     "metadata": {},
     "output_type": "execute_result"
    }
   ],
   "source": [
    "df[\"Android_version\"].value_counts()"
   ],
   "metadata": {
    "collapsed": false,
    "ExecuteTime": {
     "end_time": "2024-06-26T10:43:03.827161Z",
     "start_time": "2024-06-26T10:43:03.819866Z"
    }
   },
   "id": "cb4274b0e7e40709",
   "execution_count": 151
  },
  {
   "cell_type": "code",
   "outputs": [],
   "source": [
    "df = df.drop(\"Android_version\", axis=1)"
   ],
   "metadata": {
    "collapsed": false,
    "ExecuteTime": {
     "end_time": "2024-06-26T10:43:03.932826Z",
     "start_time": "2024-06-26T10:43:03.927383Z"
    }
   },
   "id": "711a4360d6d2e369",
   "execution_count": 152
  },
  {
   "cell_type": "markdown",
   "source": [
    "The android version contains a few categories. It doesn't seem very relevant to the price though, so we'll drop it."
   ],
   "metadata": {
    "collapsed": false
   },
   "id": "22b558c941b699ad"
  },
  {
   "cell_type": "code",
   "outputs": [
    {
     "data": {
      "text/plain": "company\nVivo        186\nRealme      186\nSamsung     181\nMotorola    127\nXiaomi       90\nHonor        88\nPoco         75\nOnePlus      75\nHuawei       62\niQOO         57\nOPPO         38\nOppo         27\nTCL          26\nGoogle       23\nAsus         21\nPOCO         19\nLava         19\nNothing      15\nLenovo       14\nTecno        13\nitel         12\nLG            6\nGionee        5\nItel          3\nIQOO          1\nCoolpad       1\nName: count, dtype: int64"
     },
     "execution_count": 153,
     "metadata": {},
     "output_type": "execute_result"
    }
   ],
   "source": [
    "df[\"company\"].value_counts()"
   ],
   "metadata": {
    "collapsed": false,
    "ExecuteTime": {
     "end_time": "2024-06-26T10:43:04.076396Z",
     "start_time": "2024-06-26T10:43:04.068389Z"
    }
   },
   "id": "b5a492235576797d",
   "execution_count": 153
  },
  {
   "cell_type": "markdown",
   "source": [
    "This column seems fine, other than needing to be encoded."
   ],
   "metadata": {
    "collapsed": false
   },
   "id": "55027d1854e42c0b"
  },
  {
   "cell_type": "code",
   "outputs": [
    {
     "data": {
      "text/plain": "Inbuilt_memory\n128 GB inbuilt    644\n256 GB inbuilt    405\n64 GB inbuilt     184\n512 GB inbuilt     59\n32 GB inbuilt      48\n1 TB inbuilt        5\n16 GB inbuilt       3\nOcta Core           1\n258 GB inbuilt      1\n8 GB inbuilt        1\nName: count, dtype: int64"
     },
     "execution_count": 154,
     "metadata": {},
     "output_type": "execute_result"
    }
   ],
   "source": [
    "df[\"Inbuilt_memory\"].value_counts()"
   ],
   "metadata": {
    "collapsed": false,
    "ExecuteTime": {
     "end_time": "2024-06-26T10:43:04.154014Z",
     "start_time": "2024-06-26T10:43:04.147389Z"
    }
   },
   "id": "c95ca95b658d8866",
   "execution_count": 154
  },
  {
   "cell_type": "code",
   "outputs": [],
   "source": [
    "# Remove whitespace\n",
    "df['Inbuilt_memory'] = df['Inbuilt_memory'].str.strip()\n",
    "\n",
    "# Drop rows with 'Octa Core'\n",
    "df = df[df['Inbuilt_memory'].str.lower() != 'octa core']\n",
    "\n",
    "# Extract memory size by splitting and taking the first element\n",
    "df['Inbuilt_memory'] = df['Inbuilt_memory'].str.split().str[0]\n",
    "\n",
    "# Set columns with 1 (terabyte) to 1024\n",
    "df.loc[df['Inbuilt_memory'] == '1', 'Inbuilt_memory'] = 1024"
   ],
   "metadata": {
    "collapsed": false,
    "ExecuteTime": {
     "end_time": "2024-06-26T10:43:04.297629Z",
     "start_time": "2024-06-26T10:43:04.281746Z"
    }
   },
   "id": "14455f6082ac2470",
   "execution_count": 155
  },
  {
   "cell_type": "markdown",
   "source": [
    "The inbuilt memory column is mostly fine, but it contains a rogue processor value. We remove that, and then we can convert it to an integer."
   ],
   "metadata": {
    "collapsed": false
   },
   "id": "e429dabcc2acdc1f"
  },
  {
   "cell_type": "code",
   "outputs": [
    {
     "data": {
      "text/plain": "fast_charging\n18W Fast Charging      157\n33W Fast Charging      144\n67W Fast Charging      101\n25W Fast Charging       97\n80W Fast Charging       78\n100W Fast Charging      70\n66W Fast Charging       66\n120W Fast Charging      65\n15W Fast Charging       61\n44W Fast Charging       61\n45W Fast Charging       58\n65W Fast Charging       50\n30W Fast Charging       44\n10W Fast Charging       39\nFast Charging           39\n150W Fast Charging      24\n22.5W Fast Charging     20\n68W Fast Charging       20\n40W Fast Charging       17\n35W Fast Charging       14\n125W Fast Charging      12\n20W Fast Charging       11\n200W Fast Charging       7\n240W Fast Charging       3\n55W Fast Charging        3\n90W Fast Charging        3\n88W Fast Charging        3\n50W Fast Charging        2\n250W Fast Charging       2\n27W Fast Charging        2\n57W Fast Charging        1\n60W Fast Charging        1\n08W Fast Charging        1\n68.2W Fast Charging      1\n135W Fast Charging       1\n70W Fast Charging        1\nWater Drop Notch         1\n7.5W Fast Charging       1\nName: count, dtype: int64"
     },
     "execution_count": 156,
     "metadata": {},
     "output_type": "execute_result"
    }
   ],
   "source": [
    "df[\"fast_charging\"].value_counts()"
   ],
   "metadata": {
    "collapsed": false,
    "ExecuteTime": {
     "end_time": "2024-06-26T10:43:04.335904Z",
     "start_time": "2024-06-26T10:43:04.326902Z"
    }
   },
   "id": "c4c3a580ae0b336f",
   "execution_count": 156
  },
  {
   "cell_type": "code",
   "outputs": [],
   "source": [
    "# If fast charging has any value, set to 1, otherwise 0\n",
    "df[\"fast_charging\"] = df[\"fast_charging\"].apply(lambda x: 0 if pd.isna(x) else 1)"
   ],
   "metadata": {
    "collapsed": false,
    "ExecuteTime": {
     "end_time": "2024-06-26T10:43:04.475763Z",
     "start_time": "2024-06-26T10:43:04.470198Z"
    }
   },
   "id": "ce817e8542dfc52b",
   "execution_count": 157
  },
  {
   "cell_type": "markdown",
   "source": [
    "The fast charging column can be converted to a binary column."
   ],
   "metadata": {
    "collapsed": false
   },
   "id": "a74793664e314a43"
  },
  {
   "cell_type": "code",
   "outputs": [
    {
     "data": {
      "text/plain": "Screen_resolution\n1080 x 2400 px                                 357\n720 x 1600 px Display with Water Drop Notch    100\n1080 x 2412 px                                  77\n720 x 1600 px                                   65\n1080 x 2340 px                                  50\n                                              ... \n2340 x 1080 px                                   1\n1080 x 1920 px Display                           1\n720 x 1600 px Display with Large Notch           1\n540 x 960 px Display                             1\n720 x 1640 px Display with Water Drop Notch      1\nName: count, Length: 141, dtype: int64"
     },
     "execution_count": 158,
     "metadata": {},
     "output_type": "execute_result"
    }
   ],
   "source": [
    "df[\"Screen_resolution\"].value_counts()"
   ],
   "metadata": {
    "collapsed": false,
    "ExecuteTime": {
     "end_time": "2024-06-26T10:43:04.571795Z",
     "start_time": "2024-06-26T10:43:04.565025Z"
    }
   },
   "id": "c65a9b5e283230bb",
   "execution_count": 158
  },
  {
   "cell_type": "code",
   "outputs": [],
   "source": [
    "# Split on x letter\n",
    "df[\"screen_width\"] = df[\"Screen_resolution\"].str.split(\" x \").str[0]\n",
    "df[\"screen_height\"] = df[\"Screen_resolution\"].str.split(\" x \").str[1]\n",
    "df[\"screen_height\"] = df[\"screen_height\"].str.split(\" \").str[0]\n",
    "df = df.drop(\"Screen_resolution\", axis=1)"
   ],
   "metadata": {
    "collapsed": false,
    "ExecuteTime": {
     "end_time": "2024-06-26T10:43:04.686421Z",
     "start_time": "2024-06-26T10:43:04.669422Z"
    }
   },
   "id": "db1ca11fb8b31ad",
   "execution_count": 159
  },
  {
   "cell_type": "markdown",
   "source": [
    "The screen resolution column can be converted to two columns, one for the width and one for the height."
   ],
   "metadata": {
    "collapsed": false
   },
   "id": "8125f6c2481e7083"
  },
  {
   "cell_type": "code",
   "outputs": [
    {
     "data": {
      "text/plain": "Processor\nOcta Core              1237\nOcta Core Processor      75\nQuad Core                11\n1.6 GHz Processor         3\nDeca Core                 3\n2 GHz Processor           2\nNine-Cores                2\nNine Core                 2\nNine Cores                2\n1.8 GHz Processor         1\nDeca Core Processor       1\n1.3 GHz Processor         1\n2.3 GHz Processor         1\n128 GB inbuilt            1\nName: count, dtype: int64"
     },
     "execution_count": 160,
     "metadata": {},
     "output_type": "execute_result"
    }
   ],
   "source": [
    "df[\"Processor\"].value_counts()"
   ],
   "metadata": {
    "collapsed": false,
    "ExecuteTime": {
     "end_time": "2024-06-26T10:43:04.733307Z",
     "start_time": "2024-06-26T10:43:04.726433Z"
    }
   },
   "id": "4df77ce4dc3e23e8",
   "execution_count": 160
  },
  {
   "cell_type": "code",
   "outputs": [],
   "source": [
    "# Remove whitespace\n",
    "df['Processor'] = df['Processor'].str.strip()\n",
    "\n",
    "# Harmonize certain processor names\n",
    "df['Processor'] = df['Processor'].str.replace('Octa Core Processor', 'Octa Core')\n",
    "df['Processor'] = df['Processor'].str.replace('Nine-Cores', 'Nine Core')\n",
    "df['Processor'] = df['Processor'].str.replace('Nine Cores', 'Nine Core')\n",
    "df['Processor'] = df['Processor'].str.replace('Deca Core Processor', 'Deca Core')\n",
    "\n",
    "# Drop rows with invalid values\n",
    "df = df[df['Processor'].str.lower() != '128 gb inbuilt']\n",
    "df = df[df['Processor'].str.lower() != '1.3 ghz processor']\n",
    "df = df[df['Processor'].str.lower() != '1.6 ghz processor']\n",
    "df = df[df['Processor'].str.lower() != '1.8 ghz processor']\n",
    "df = df[df['Processor'].str.lower() != '2 ghz processor']\n",
    "df = df[df['Processor'].str.lower() != '2.3 ghz processor']\n",
    "\n",
    "# Convert values to core count (octa = 8, deci = 10, etc.)\n",
    "df['Processor'] = df['Processor'].str.split().str[0]\n",
    "df.loc[df['Processor'] == 'Quad', 'Processor'] = 4\n",
    "df.loc[df['Processor'] == 'Octa', 'Processor'] = 8\n",
    "df.loc[df['Processor'] == 'Deca', 'Processor'] = 10\n",
    "df.loc[df['Processor'] == 'Nine', 'Processor'] = 9\n",
    "\n",
    "# Rename\n",
    "df = df.rename(columns={'Processor': 'core_count'})"
   ],
   "metadata": {
    "collapsed": false,
    "ExecuteTime": {
     "end_time": "2024-06-26T10:43:04.880652Z",
     "start_time": "2024-06-26T10:43:04.851850Z"
    }
   },
   "id": "8d62065cf630c51b",
   "execution_count": 161
  },
  {
   "cell_type": "markdown",
   "source": [
    "In the processor column we have a bunch of categories, and all quite distinct. We also spot another rogue value, so we remove the row there.\n",
    "\n",
    "The first thing we can do is harmonize this column, as many names are similar.\n",
    "\n",
    "Secondarily, we have some cells which don't describe the core count, but the clock speed. We can remove these rows as we have no good way of infering the count."
   ],
   "metadata": {
    "collapsed": false
   },
   "id": "bf2e69e44563b827"
  },
  {
   "cell_type": "code",
   "outputs": [
    {
     "data": {
      "text/plain": "Processor_name\nSnapdragon 8+ Gen1    58\nSnapdragon 8 Gen2     55\nSnapdragon 8 Gen3     44\nSnapdragon 695        36\nSnapdragon 680        34\n                      ..\nDimensity 8000         1\nDimensity  1100        1\nDimensity 920          1\nSnapdragon  765G       1\nHelio A25              1\nName: count, Length: 272, dtype: int64"
     },
     "execution_count": 162,
     "metadata": {},
     "output_type": "execute_result"
    }
   ],
   "source": [
    "df[\"Processor_name\"].value_counts()"
   ],
   "metadata": {
    "collapsed": false,
    "ExecuteTime": {
     "end_time": "2024-06-26T10:43:05.001921Z",
     "start_time": "2024-06-26T10:43:04.992807Z"
    }
   },
   "id": "ac8336b15db0a433",
   "execution_count": 162
  },
  {
   "cell_type": "code",
   "outputs": [],
   "source": [
    "df = df.drop(\"Processor_name\", axis=1)"
   ],
   "metadata": {
    "collapsed": false,
    "ExecuteTime": {
     "end_time": "2024-06-26T10:43:05.067392Z",
     "start_time": "2024-06-26T10:43:05.062392Z"
    }
   },
   "id": "abda1d7d907c5561",
   "execution_count": 163
  },
  {
   "cell_type": "markdown",
   "source": [
    "The processor name doesn't seem useful when we have core count already. Any other processor specs would require an internet search anyway, which we'll not do here."
   ],
   "metadata": {
    "collapsed": false
   },
   "id": "55ff7ce4972a4aa3"
  },
  {
   "cell_type": "code",
   "outputs": [
    {
     "data": {
      "text/plain": "count       1360\nunique       449\ntop       29,990\nfreq          37\nName: Price, dtype: object"
     },
     "execution_count": 164,
     "metadata": {},
     "output_type": "execute_result"
    }
   ],
   "source": [
    "df[\"Price\"].describe()"
   ],
   "metadata": {
    "collapsed": false,
    "ExecuteTime": {
     "end_time": "2024-06-26T10:43:05.166979Z",
     "start_time": "2024-06-26T10:43:05.158852Z"
    }
   },
   "id": "6401200d4bb0470",
   "execution_count": 164
  },
  {
   "cell_type": "code",
   "outputs": [],
   "source": [
    "# Remove commas\n",
    "df['Price'] = df['Price'].str.replace(',', '')\n",
    "# to numeric\n",
    "df['Price'] = pd.to_numeric(df['Price'])"
   ],
   "metadata": {
    "collapsed": false,
    "ExecuteTime": {
     "end_time": "2024-06-26T10:43:05.231838Z",
     "start_time": "2024-06-26T10:43:05.225911Z"
    }
   },
   "id": "e83c1a618b5fd116",
   "execution_count": 165
  },
  {
   "cell_type": "markdown",
   "source": [
    "The price column is mostly fine, but it is in text format, seen by the commas. We quickly convert this to a numeric value."
   ],
   "metadata": {
    "collapsed": false
   },
   "id": "2f95c832b3958ac"
  },
  {
   "cell_type": "code",
   "outputs": [
    {
     "data": {
      "text/plain": "Inbuilt_memory    18\ncore_count        27\nscreen_height      1\ndtype: int64"
     },
     "execution_count": 166,
     "metadata": {},
     "output_type": "execute_result"
    }
   ],
   "source": [
    "# check for missing values\n",
    "missing = df.isnull().sum()\n",
    "missing = missing[missing > 0]\n",
    "missing"
   ],
   "metadata": {
    "collapsed": false,
    "ExecuteTime": {
     "end_time": "2024-06-26T10:43:05.357152Z",
     "start_time": "2024-06-26T10:43:05.348014Z"
    }
   },
   "id": "1c86fe484fb048ba",
   "execution_count": 166
  },
  {
   "cell_type": "code",
   "outputs": [],
   "source": [
    "# Fill in cells\n",
    "df[\"Inbuilt_memory\"] = df[\"Inbuilt_memory\"].fillna(0)\n",
    "\n",
    "# Drop rows\n",
    "df = df.dropna()"
   ],
   "metadata": {
    "collapsed": false,
    "ExecuteTime": {
     "end_time": "2024-06-26T10:43:05.432083Z",
     "start_time": "2024-06-26T10:43:05.425515Z"
    }
   },
   "id": "c13055ff7605a117",
   "execution_count": 167
  },
  {
   "cell_type": "markdown",
   "source": [
    "We now have 3 columns with missing values.\n",
    "\n",
    "In case of inbuilt memory, we can assume that this phone only supports external memory, so we'll fill the values with 0.\n",
    "\n",
    "For the others, we'll remove the rows."
   ],
   "metadata": {
    "collapsed": false
   },
   "id": "bad96a2622c4f32b"
  },
  {
   "cell_type": "code",
   "outputs": [],
   "source": [
    "# Set all column names to lower case\n",
    "df.columns = df.columns.str.lower()"
   ],
   "metadata": {
    "collapsed": false,
    "ExecuteTime": {
     "end_time": "2024-06-26T10:43:05.510222Z",
     "start_time": "2024-06-26T10:43:05.506521Z"
    }
   },
   "id": "c7a11c2e5248bcff",
   "execution_count": 168
  },
  {
   "cell_type": "code",
   "outputs": [
    {
     "name": "stdout",
     "output_type": "stream",
     "text": [
      "<class 'pandas.core.frame.DataFrame'>\n",
      "Index: 1332 entries, 0 to 1369\n",
      "Data columns (total 23 columns):\n",
      " #   Column           Non-Null Count  Dtype  \n",
      "---  ------           --------------  -----  \n",
      " 0   rating           1332 non-null   float32\n",
      " 1   spec_score       1332 non-null   int32  \n",
      " 2   ram              1332 non-null   object \n",
      " 3   battery          1332 non-null   object \n",
      " 4   display          1332 non-null   object \n",
      " 5   external_memory  1332 non-null   int32  \n",
      " 6   price            1332 non-null   int64  \n",
      " 7   company          1332 non-null   object \n",
      " 8   inbuilt_memory   1332 non-null   object \n",
      " 9   fast_charging    1332 non-null   int64  \n",
      " 10  core_count       1332 non-null   object \n",
      " 11  sim              1332 non-null   int32  \n",
      " 12  3g               1332 non-null   int32  \n",
      " 13  4g               1332 non-null   int32  \n",
      " 14  5g               1332 non-null   int32  \n",
      " 15  volte            1332 non-null   int32  \n",
      " 16  vo5g             1332 non-null   int32  \n",
      " 17  front_camera     1332 non-null   int64  \n",
      " 18  rear_camera_1    1332 non-null   int64  \n",
      " 19  rear_camera_2    1332 non-null   int64  \n",
      " 20  rear_camera_3    1332 non-null   int64  \n",
      " 21  screen_width     1332 non-null   object \n",
      " 22  screen_height    1332 non-null   object \n",
      "dtypes: float32(1), int32(8), int64(6), object(8)\n",
      "memory usage: 202.9+ KB\n"
     ]
    }
   ],
   "source": [
    "df.info()"
   ],
   "metadata": {
    "collapsed": false,
    "ExecuteTime": {
     "end_time": "2024-06-26T10:43:05.589751Z",
     "start_time": "2024-06-26T10:43:05.580028Z"
    }
   },
   "id": "f1d8aa4575f3477a",
   "execution_count": 169
  },
  {
   "cell_type": "markdown",
   "source": [],
   "metadata": {
    "collapsed": false
   },
   "id": "b925a6402ef5d89"
  },
  {
   "cell_type": "code",
   "outputs": [],
   "source": [
    "encoder = OneHotEncoder()\n",
    "\n",
    "# Lower values\n",
    "df[\"company\"] = df[\"company\"].str.lower()\n",
    "\n",
    "# Encode company column\n",
    "encoder_df = pd.DataFrame(encoder.fit_transform(df[['company']]).toarray())\n",
    "encoder_df.columns = encoder.get_feature_names_out(['company'])\n",
    "df = df.join(encoder_df)\n",
    "df = df.drop(\"company\", axis=1)"
   ],
   "metadata": {
    "collapsed": false,
    "ExecuteTime": {
     "end_time": "2024-06-26T10:43:05.713119Z",
     "start_time": "2024-06-26T10:43:05.700896Z"
    }
   },
   "id": "3f0d6bb0ee8134ee",
   "execution_count": 170
  },
  {
   "cell_type": "markdown",
   "source": [
    "We only have 1 categorical column left at this point, the company that made the phone. We perform one hot encoding, as we have no specific order to the values."
   ],
   "metadata": {
    "collapsed": false
   },
   "id": "adfc2cdfca8ea6c6"
  },
  {
   "cell_type": "code",
   "outputs": [
    {
     "name": "stderr",
     "output_type": "stream",
     "text": [
      "C:\\Users\\Michael\\AppData\\Local\\Temp\\ipykernel_15412\\908880838.py:3: FutureWarning: errors='ignore' is deprecated and will raise in a future version. Use to_numeric without passing `errors` and catch exceptions explicitly instead\n",
      "  df[col] = pd.to_numeric(df[col], errors='ignore')\n"
     ]
    }
   ],
   "source": [
    "# Convert object columns to numeric\n",
    "for col in df.select_dtypes(include='object').columns:\n",
    "    df[col] = pd.to_numeric(df[col], errors='ignore')\n",
    "    \n",
    "# Set to 32 bit float\n",
    "df = df.astype(\"float32\")"
   ],
   "metadata": {
    "collapsed": false,
    "ExecuteTime": {
     "end_time": "2024-06-26T10:43:05.752389Z",
     "start_time": "2024-06-26T10:43:05.738574Z"
    }
   },
   "id": "a1b1077b9e3c89d4",
   "execution_count": 171
  },
  {
   "cell_type": "markdown",
   "source": [
    "We do some more dtype and name cleaning on the columns, and then we move on to encoding."
   ],
   "metadata": {
    "collapsed": false
   },
   "id": "8178c92eaec81765"
  },
  {
   "cell_type": "code",
   "outputs": [
    {
     "data": {
      "text/plain": "   rating  spec_score       ram   battery   display  external_memory  \\\n0    0.90    0.464286  0.005871  0.476744  0.276316              0.0   \n1    0.35    0.553571  0.005871  0.476744  0.250000              0.0   \n2    0.35    0.482143  0.005871  0.360465  0.263158              0.0   \n\n      price  inbuilt_memory  fast_charging  core_count  ...  company_nothing  \\\n0  0.014656          0.1250            1.0    0.666667  ...              0.0   \n1  0.024269          0.0625            0.0    0.666667  ...              0.0   \n2  0.024269          0.0625            1.0    0.666667  ...              0.0   \n\n   company_oneplus  company_oppo  company_poco  company_realme  \\\n0              0.0           0.0           0.0             0.0   \n1              0.0           0.0           0.0             0.0   \n2              0.0           0.0           0.0             0.0   \n\n   company_samsung  company_tcl  company_tecno  company_vivo  company_xiaomi  \n0              1.0          0.0            0.0           0.0             0.0  \n1              1.0          0.0            0.0           0.0             0.0  \n2              1.0          0.0            0.0           0.0             0.0  \n\n[3 rows x 44 columns]",
      "text/html": "<div>\n<style scoped>\n    .dataframe tbody tr th:only-of-type {\n        vertical-align: middle;\n    }\n\n    .dataframe tbody tr th {\n        vertical-align: top;\n    }\n\n    .dataframe thead th {\n        text-align: right;\n    }\n</style>\n<table border=\"1\" class=\"dataframe\">\n  <thead>\n    <tr style=\"text-align: right;\">\n      <th></th>\n      <th>rating</th>\n      <th>spec_score</th>\n      <th>ram</th>\n      <th>battery</th>\n      <th>display</th>\n      <th>external_memory</th>\n      <th>price</th>\n      <th>inbuilt_memory</th>\n      <th>fast_charging</th>\n      <th>core_count</th>\n      <th>...</th>\n      <th>company_nothing</th>\n      <th>company_oneplus</th>\n      <th>company_oppo</th>\n      <th>company_poco</th>\n      <th>company_realme</th>\n      <th>company_samsung</th>\n      <th>company_tcl</th>\n      <th>company_tecno</th>\n      <th>company_vivo</th>\n      <th>company_xiaomi</th>\n    </tr>\n  </thead>\n  <tbody>\n    <tr>\n      <th>0</th>\n      <td>0.90</td>\n      <td>0.464286</td>\n      <td>0.005871</td>\n      <td>0.476744</td>\n      <td>0.276316</td>\n      <td>0.0</td>\n      <td>0.014656</td>\n      <td>0.1250</td>\n      <td>1.0</td>\n      <td>0.666667</td>\n      <td>...</td>\n      <td>0.0</td>\n      <td>0.0</td>\n      <td>0.0</td>\n      <td>0.0</td>\n      <td>0.0</td>\n      <td>1.0</td>\n      <td>0.0</td>\n      <td>0.0</td>\n      <td>0.0</td>\n      <td>0.0</td>\n    </tr>\n    <tr>\n      <th>1</th>\n      <td>0.35</td>\n      <td>0.553571</td>\n      <td>0.005871</td>\n      <td>0.476744</td>\n      <td>0.250000</td>\n      <td>0.0</td>\n      <td>0.024269</td>\n      <td>0.0625</td>\n      <td>0.0</td>\n      <td>0.666667</td>\n      <td>...</td>\n      <td>0.0</td>\n      <td>0.0</td>\n      <td>0.0</td>\n      <td>0.0</td>\n      <td>0.0</td>\n      <td>1.0</td>\n      <td>0.0</td>\n      <td>0.0</td>\n      <td>0.0</td>\n      <td>0.0</td>\n    </tr>\n    <tr>\n      <th>2</th>\n      <td>0.35</td>\n      <td>0.482143</td>\n      <td>0.005871</td>\n      <td>0.360465</td>\n      <td>0.263158</td>\n      <td>0.0</td>\n      <td>0.024269</td>\n      <td>0.0625</td>\n      <td>1.0</td>\n      <td>0.666667</td>\n      <td>...</td>\n      <td>0.0</td>\n      <td>0.0</td>\n      <td>0.0</td>\n      <td>0.0</td>\n      <td>0.0</td>\n      <td>1.0</td>\n      <td>0.0</td>\n      <td>0.0</td>\n      <td>0.0</td>\n      <td>0.0</td>\n    </tr>\n  </tbody>\n</table>\n<p>3 rows × 44 columns</p>\n</div>"
     },
     "execution_count": 172,
     "metadata": {},
     "output_type": "execute_result"
    }
   ],
   "source": [
    "scaler = MinMaxScaler()\n",
    "\n",
    "df = pd.DataFrame(scaler.fit_transform(df), columns=df.columns)\n",
    "df.head(3)"
   ],
   "metadata": {
    "collapsed": false,
    "ExecuteTime": {
     "end_time": "2024-06-26T10:43:05.914424Z",
     "start_time": "2024-06-26T10:43:05.886558Z"
    }
   },
   "id": "25b1e2539e439d6d",
   "execution_count": 172
  },
  {
   "cell_type": "markdown",
   "source": [
    "Lastly we normalize the data, as some of our values are quite large, which can cause issues during training."
   ],
   "metadata": {
    "collapsed": false
   },
   "id": "5a481c243832e984"
  },
  {
   "cell_type": "code",
   "outputs": [],
   "source": [
    "# reset index\n",
    "df = df.reset_index(drop=True)"
   ],
   "metadata": {
    "collapsed": false,
    "ExecuteTime": {
     "end_time": "2024-06-26T10:43:05.948667Z",
     "start_time": "2024-06-26T10:43:05.945103Z"
    }
   },
   "id": "f852ceab0b0b96d2",
   "execution_count": 173
  },
  {
   "cell_type": "code",
   "outputs": [],
   "source": [
    "# fill nan with 0\n",
    "df = df.fillna(0)"
   ],
   "metadata": {
    "collapsed": false,
    "ExecuteTime": {
     "end_time": "2024-06-26T10:43:06.071037Z",
     "start_time": "2024-06-26T10:43:06.067566Z"
    }
   },
   "id": "74c90dc741e77f6e",
   "execution_count": 174
  },
  {
   "cell_type": "code",
   "outputs": [
    {
     "name": "stdout",
     "output_type": "stream",
     "text": [
      "<class 'pandas.core.frame.DataFrame'>\n",
      "RangeIndex: 1332 entries, 0 to 1331\n",
      "Data columns (total 44 columns):\n",
      " #   Column            Non-Null Count  Dtype  \n",
      "---  ------            --------------  -----  \n",
      " 0   rating            1332 non-null   float32\n",
      " 1   spec_score        1332 non-null   float32\n",
      " 2   ram               1332 non-null   float32\n",
      " 3   battery           1332 non-null   float32\n",
      " 4   display           1332 non-null   float32\n",
      " 5   external_memory   1332 non-null   float32\n",
      " 6   price             1332 non-null   float32\n",
      " 7   inbuilt_memory    1332 non-null   float32\n",
      " 8   fast_charging     1332 non-null   float32\n",
      " 9   core_count        1332 non-null   float32\n",
      " 10  sim               1332 non-null   float32\n",
      " 11  3g                1332 non-null   float32\n",
      " 12  4g                1332 non-null   float32\n",
      " 13  5g                1332 non-null   float32\n",
      " 14  volte             1332 non-null   float32\n",
      " 15  vo5g              1332 non-null   float32\n",
      " 16  front_camera      1332 non-null   float32\n",
      " 17  rear_camera_1     1332 non-null   float32\n",
      " 18  rear_camera_2     1332 non-null   float32\n",
      " 19  rear_camera_3     1332 non-null   float32\n",
      " 20  screen_width      1332 non-null   float32\n",
      " 21  screen_height     1332 non-null   float32\n",
      " 22  company_asus      1332 non-null   float32\n",
      " 23  company_coolpad   1332 non-null   float32\n",
      " 24  company_gionee    1332 non-null   float32\n",
      " 25  company_google    1332 non-null   float32\n",
      " 26  company_honor     1332 non-null   float32\n",
      " 27  company_huawei    1332 non-null   float32\n",
      " 28  company_iqoo      1332 non-null   float32\n",
      " 29  company_itel      1332 non-null   float32\n",
      " 30  company_lava      1332 non-null   float32\n",
      " 31  company_lenovo    1332 non-null   float32\n",
      " 32  company_lg        1332 non-null   float32\n",
      " 33  company_motorola  1332 non-null   float32\n",
      " 34  company_nothing   1332 non-null   float32\n",
      " 35  company_oneplus   1332 non-null   float32\n",
      " 36  company_oppo      1332 non-null   float32\n",
      " 37  company_poco      1332 non-null   float32\n",
      " 38  company_realme    1332 non-null   float32\n",
      " 39  company_samsung   1332 non-null   float32\n",
      " 40  company_tcl       1332 non-null   float32\n",
      " 41  company_tecno     1332 non-null   float32\n",
      " 42  company_vivo      1332 non-null   float32\n",
      " 43  company_xiaomi    1332 non-null   float32\n",
      "dtypes: float32(44)\n",
      "memory usage: 229.1 KB\n"
     ]
    }
   ],
   "source": [
    "df.info()"
   ],
   "metadata": {
    "collapsed": false,
    "ExecuteTime": {
     "end_time": "2024-06-26T10:43:06.213960Z",
     "start_time": "2024-06-26T10:43:06.202286Z"
    }
   },
   "id": "2ef1351a6df7c673",
   "execution_count": 175
  },
  {
   "cell_type": "markdown",
   "source": [
    "Our dataset is now cleaned."
   ],
   "metadata": {
    "collapsed": false
   },
   "id": "d560d5b87607986"
  },
  {
   "cell_type": "markdown",
   "source": [
    "# Model"
   ],
   "metadata": {
    "collapsed": false
   },
   "id": "6141ca49d5562ea3"
  },
  {
   "cell_type": "markdown",
   "source": [
    "## Preparation"
   ],
   "metadata": {
    "collapsed": false
   },
   "id": "5699180f55138c24"
  },
  {
   "cell_type": "code",
   "outputs": [],
   "source": [
    "EPOCHS = 60\n",
    "BATCH_SIZE = 12"
   ],
   "metadata": {
    "collapsed": false,
    "ExecuteTime": {
     "end_time": "2024-06-26T10:43:06.367812Z",
     "start_time": "2024-06-26T10:43:06.364499Z"
    }
   },
   "id": "6c983f2d3dc59d08",
   "execution_count": 176
  },
  {
   "cell_type": "markdown",
   "source": [
    "We have now cleaned our dataset quite a bit. Next is splitting it into features and target. "
   ],
   "metadata": {
    "collapsed": false
   },
   "id": "75121f423299cac9"
  },
  {
   "cell_type": "code",
   "outputs": [],
   "source": [
    "train, test = train_test_split(df, test_size=0.2, random_state=42)"
   ],
   "metadata": {
    "collapsed": false,
    "ExecuteTime": {
     "end_time": "2024-06-26T10:43:06.550485Z",
     "start_time": "2024-06-26T10:43:06.543945Z"
    }
   },
   "id": "a10f613e89bf2d81",
   "execution_count": 177
  },
  {
   "cell_type": "code",
   "outputs": [],
   "source": [
    "y_train = train[\"price\"]\n",
    "y_test = test[\"price\"]\n",
    "X_train = train.drop(\"price\", axis=1)\n",
    "X_test = test.drop(\"price\", axis=1)"
   ],
   "metadata": {
    "collapsed": false,
    "ExecuteTime": {
     "end_time": "2024-06-26T10:43:06.646873Z",
     "start_time": "2024-06-26T10:43:06.638811Z"
    }
   },
   "id": "6953b20606dfbde4",
   "execution_count": 178
  },
  {
   "cell_type": "code",
   "outputs": [],
   "source": [
    "# convert to torch dataset\n",
    "class PhoneDataset(Dataset):\n",
    "    def __init__(self, X: pd.Series, y: pd.Series):\n",
    "        self.X = torch.from_numpy(X.to_numpy()).float()\n",
    "        self.y = torch.from_numpy(y.to_numpy()).float().unsqueeze(1)\n",
    "        \n",
    "    def __len__(self):\n",
    "        return len(self.X)\n",
    "    \n",
    "    def __getitem__(self, idx):\n",
    "        return self.X[idx], self.y[idx]\n"
   ],
   "metadata": {
    "collapsed": false,
    "ExecuteTime": {
     "end_time": "2024-06-26T10:43:06.729886Z",
     "start_time": "2024-06-26T10:43:06.725027Z"
    }
   },
   "id": "614ae47889102e9c",
   "execution_count": 179
  },
  {
   "cell_type": "code",
   "outputs": [],
   "source": [
    "train_dataset = PhoneDataset(X_train, y_train)\n",
    "test_dataset = PhoneDataset(X_test, y_test)"
   ],
   "metadata": {
    "collapsed": false,
    "ExecuteTime": {
     "end_time": "2024-06-26T10:43:06.828181Z",
     "start_time": "2024-06-26T10:43:06.823278Z"
    }
   },
   "id": "acfc0773950bd7bd",
   "execution_count": 180
  },
  {
   "cell_type": "code",
   "outputs": [],
   "source": [
    "train_loader = DataLoader(train_dataset, batch_size=BATCH_SIZE, shuffle=True)\n",
    "test_loader = DataLoader(test_dataset, batch_size=BATCH_SIZE, shuffle=True)"
   ],
   "metadata": {
    "collapsed": false,
    "ExecuteTime": {
     "end_time": "2024-06-26T10:43:06.978886Z",
     "start_time": "2024-06-26T10:43:06.973880Z"
    }
   },
   "id": "e63279821a3803e2",
   "execution_count": 181
  },
  {
   "cell_type": "markdown",
   "source": [
    "We now have all of our variables, and we'll be ready to train our model."
   ],
   "metadata": {
    "collapsed": false
   },
   "id": "e5345bb2f93aa058"
  },
  {
   "cell_type": "markdown",
   "source": [
    "## Model"
   ],
   "metadata": {
    "collapsed": false
   },
   "id": "2029dfc30e307848"
  },
  {
   "cell_type": "code",
   "outputs": [],
   "source": [
    "class MyModel(nn.Module):\n",
    "    def __init__(self, input_size):\n",
    "        super().__init__()\n",
    "        self.fc1 = nn.Linear(input_size, 128)\n",
    "        self.fc2 = nn.Linear(128, 64)\n",
    "        self.fc3 = nn.Linear(64, 1)\n",
    "        \n",
    "    def forward(self, x):\n",
    "        x = torch.relu(self.fc1(x))\n",
    "        x = torch.relu(self.fc2(x))\n",
    "        x = self.fc3(x)\n",
    "        return x"
   ],
   "metadata": {
    "collapsed": false,
    "ExecuteTime": {
     "end_time": "2024-06-26T10:43:07.031300Z",
     "start_time": "2024-06-26T10:43:07.026822Z"
    }
   },
   "id": "422599993bc7030c",
   "execution_count": 182
  },
  {
   "cell_type": "markdown",
   "source": [
    "Above is a simple deep regression model. It consists of 4 fully connected layers, with ReLU activation functions."
   ],
   "metadata": {
    "collapsed": false
   },
   "id": "f02ce17f9efd7fd0"
  },
  {
   "cell_type": "code",
   "outputs": [],
   "source": [
    "input_dim = X_train.shape[1]\n",
    "model = MyModel(input_dim)\n",
    "\n",
    "loss_fun =  nn.MSELoss()\n",
    "optimizer = optim.Adam(model.parameters(), lr=0.0001)"
   ],
   "metadata": {
    "collapsed": false,
    "ExecuteTime": {
     "end_time": "2024-06-26T10:43:07.110277Z",
     "start_time": "2024-06-26T10:43:07.105715Z"
    }
   },
   "id": "5d61708bc9191024",
   "execution_count": 183
  },
  {
   "cell_type": "markdown",
   "source": [
    "## Training"
   ],
   "metadata": {
    "collapsed": false
   },
   "id": "2f34477a19d553e9"
  },
  {
   "cell_type": "code",
   "outputs": [
    {
     "name": "stdout",
     "output_type": "stream",
     "text": [
      "[0.5500001907348633, 0.7321428656578064, 0.02152641862630844, 0.26744186878204346, 0.2723684310913086, 1.0, 0.25, 1.0, 0.6666666865348816, 1.0, 1.0, 1.0, 0.0, 1.0, 0.0, 0.0, 0.3199999928474426, 0.5, 0.1599999964237213, 0.3030303120613098, 0.5419355034828186, 0.0, 0.0, 0.0, 0.0, 0.0, 0.0, 0.0, 0.0, 0.0, 0.0, 0.0, 0.0, 0.0, 0.0, 0.0, 0.0, 1.0, 0.0, 0.0, 0.0, 0.0, 0.0]\n",
      "[0.13482503592967987]\n"
     ]
    }
   ],
   "source": [
    "for i, (X_batch, y_batch) in enumerate(train_loader):\n",
    "    if i > 0:\n",
    "        break\n",
    "    print(X_batch[0].tolist())\n",
    "    print(y_batch[0].tolist())"
   ],
   "metadata": {
    "collapsed": false,
    "ExecuteTime": {
     "end_time": "2024-06-26T10:43:07.159400Z",
     "start_time": "2024-06-26T10:43:07.153405Z"
    }
   },
   "id": "2db78aba2bdf46a3",
   "execution_count": 184
  },
  {
   "cell_type": "code",
   "outputs": [
    {
     "name": "stdout",
     "output_type": "stream",
     "text": [
      "Epoch: 0, loss: 0.01928710045418545, val_loss: 0.018417344266629738\n",
      "Epoch: 1, loss: 0.016257433823749338, val_loss: 0.015526951300790128\n",
      "Epoch: 2, loss: 0.01404336812445538, val_loss: 0.012176606227117389\n",
      "Epoch: 3, loss: 0.012326647094555533, val_loss: 0.010298508922974377\n",
      "Epoch: 4, loss: 0.010877176841951153, val_loss: 0.008527522428345907\n",
      "Epoch: 5, loss: 0.00998282244460385, val_loss: 0.007419789498469428\n",
      "Epoch: 6, loss: 0.008785799493636476, val_loss: 0.006915253703482449\n",
      "Epoch: 7, loss: 0.00803561956919939, val_loss: 0.006267136468997468\n",
      "Epoch: 8, loss: 0.007329443083772582, val_loss: 0.005428355764192732\n",
      "Epoch: 9, loss: 0.006885861592063827, val_loss: 0.004982903263146948\n",
      "Epoch: 10, loss: 0.0066593309787227615, val_loss: 0.004681668841563489\n",
      "Epoch: 11, loss: 0.0062231253963382395, val_loss: 0.004375891691660913\n",
      "Epoch: 12, loss: 0.005934404188327575, val_loss: 0.004446885857285689\n",
      "Epoch: 13, loss: 0.005670850122023081, val_loss: 0.004206333066458287\n",
      "Epoch: 14, loss: 0.005541794430438346, val_loss: 0.00398431559164158\n",
      "Epoch: 15, loss: 0.005347060783258691, val_loss: 0.0037570450728273263\n",
      "Epoch: 16, loss: 0.005152077035745606, val_loss: 0.003596937901380917\n",
      "Epoch: 17, loss: 0.005009009103222719, val_loss: 0.0035234580484583325\n",
      "Epoch: 18, loss: 0.004934102631359769, val_loss: 0.0035990643183417296\n",
      "Epoch: 19, loss: 0.004686616232299529, val_loss: 0.0033430207328384986\n",
      "Epoch: 20, loss: 0.004614074806698462, val_loss: 0.003622056481064014\n",
      "Epoch: 21, loss: 0.004468682989886219, val_loss: 0.003176726820959669\n",
      "Epoch: 22, loss: 0.004362083866203392, val_loss: 0.003312694635140993\n",
      "Epoch: 23, loss: 0.0042173412953519125, val_loss: 0.0031108800929201684\n",
      "Epoch: 24, loss: 0.00419324898753535, val_loss: 0.003298332669225562\n",
      "Epoch: 25, loss: 0.004064001435979029, val_loss: 0.003104506650149984\n",
      "Epoch: 26, loss: 0.0040560240230753265, val_loss: 0.003091547015608977\n",
      "Epoch: 27, loss: 0.00396284487574581, val_loss: 0.0030429677394947603\n",
      "Epoch: 28, loss: 0.0038193926915625802, val_loss: 0.002950329832105047\n",
      "Epoch: 29, loss: 0.0037744534250971433, val_loss: 0.002852018334163839\n",
      "Epoch: 30, loss: 0.0037218645114315612, val_loss: 0.003291060986078304\n",
      "Epoch: 31, loss: 0.003669115784708829, val_loss: 0.0033203148379233544\n",
      "Epoch: 32, loss: 0.0036080797118516745, val_loss: 0.0028803808350146383\n",
      "Epoch: 33, loss: 0.0036048361435768016, val_loss: 0.0030739614259168184\n",
      "Epoch: 34, loss: 0.0034388552260914756, val_loss: 0.0027333777840755392\n",
      "Epoch: 35, loss: 0.0033783498674688672, val_loss: 0.002725179550749169\n",
      "Epoch: 36, loss: 0.0033764831866974826, val_loss: 0.003262742245367364\n",
      "Epoch: 37, loss: 0.003358317310843366, val_loss: 0.0027515928997435485\n",
      "Epoch: 38, loss: 0.0032502480934954803, val_loss: 0.002692642474911459\n",
      "Epoch: 39, loss: 0.003233392847495237, val_loss: 0.0030509864901313963\n",
      "Epoch: 40, loss: 0.003173273247391969, val_loss: 0.002682726331682795\n",
      "Epoch: 41, loss: 0.0031021296925021315, val_loss: 0.002675365962837215\n",
      "Epoch: 42, loss: 0.0030567733174598033, val_loss: 0.0029832753631205337\n",
      "Epoch: 43, loss: 0.0031741122421520772, val_loss: 0.002769005707586589\n",
      "Epoch: 44, loss: 0.0031052600024032585, val_loss: 0.0032767234800342958\n",
      "Epoch: 45, loss: 0.0029563264099860126, val_loss: 0.002887918077328283\n",
      "Epoch: 46, loss: 0.0029097142474976984, val_loss: 0.0029001391022061202\n",
      "Epoch: 47, loss: 0.0028987763923059187, val_loss: 0.0028422728191008387\n",
      "Epoch: 48, loss: 0.0028289651772559336, val_loss: 0.0027080003587205124\n",
      "Epoch: 49, loss: 0.002807248967145099, val_loss: 0.0026619218937728715\n",
      "Epoch: 50, loss: 0.002779678877160539, val_loss: 0.0029230082822639656\n",
      "Epoch: 51, loss: 0.0027685219257170064, val_loss: 0.0030579321648237174\n",
      "Epoch: 52, loss: 0.00270747551576789, val_loss: 0.0029949702211129275\n",
      "Epoch: 53, loss: 0.002700267406703716, val_loss: 0.0028735669962454426\n",
      "Epoch: 54, loss: 0.002660470535446304, val_loss: 0.0028357166498292076\n",
      "Epoch: 55, loss: 0.002635882877655788, val_loss: 0.0030459418953598843\n",
      "Epoch: 56, loss: 0.002676317103997166, val_loss: 0.0028920501834996367\n",
      "Epoch: 57, loss: 0.0026116093883573424, val_loss: 0.0027807901167999144\n",
      "Epoch: 58, loss: 0.0025998740577991802, val_loss: 0.002722295236510589\n",
      "Epoch: 59, loss: 0.0025921327207797324, val_loss: 0.0027595164909776622\n"
     ]
    }
   ],
   "source": [
    "loss_epoch = []\n",
    "val_loss_epoch = []\n",
    "for epoch in range(EPOCHS):\n",
    "    loss_list = []\n",
    "    val_loss_list = []\n",
    "\n",
    "    # training\n",
    "    model.train()\n",
    "    for X_batch, y_batch in train_loader:\n",
    "        optimizer.zero_grad()\n",
    "        y_pred = model(X_batch)\n",
    "        \n",
    "        loss = loss_fun(y_pred, y_batch)\n",
    "        loss_list.append(loss.item())\n",
    "        \n",
    "        loss.backward()\n",
    "        optimizer.step()\n",
    "        \n",
    "    # testing\n",
    "    model.eval()\n",
    "    with torch.no_grad():\n",
    "        for X_batch, y_batch in test_loader:\n",
    "            y_pred = model(X_batch)\n",
    "            val_loss = loss_fun(y_pred, y_batch)\n",
    "            val_loss_list.append(val_loss.item())\n",
    "        \n",
    "    print(f\"Epoch: {epoch}, loss: {np.nanmean(loss_list)}, val_loss: {np.nanmean(val_loss_list)}\")\n",
    "    loss_epoch.append(np.nanmean(loss_list))\n",
    "    val_loss_epoch.append(np.nanmean(val_loss_list))\n",
    "        "
   ],
   "metadata": {
    "collapsed": false,
    "ExecuteTime": {
     "end_time": "2024-06-26T10:43:21.267631Z",
     "start_time": "2024-06-26T10:43:07.273121Z"
    }
   },
   "id": "4608a4c3ad8390f2",
   "execution_count": 185
  },
  {
   "cell_type": "code",
   "outputs": [
    {
     "data": {
      "text/plain": "<Figure size 640x480 with 1 Axes>",
      "image/png": "[encoded data removed]"
     },
     "metadata": {},
     "output_type": "display_data"
    }
   ],
   "source": [
    "# Loss curves\n",
    "plt.plot(loss_epoch, label=\"train\")\n",
    "plt.plot(val_loss_epoch, label=\"val\")\n",
    "plt.legend()\n",
    "plt.title(\"Loss curve\")\n",
    "plt.show()"
   ],
   "metadata": {
    "collapsed": false,
    "ExecuteTime": {
     "end_time": "2024-06-26T10:43:21.451624Z",
     "start_time": "2024-06-26T10:43:21.269631Z"
    }
   },
   "id": "abb2389c32ec116d",
   "execution_count": 186
  },
  {
   "cell_type": "code",
   "outputs": [
    {
     "name": "stdout",
     "output_type": "stream",
     "text": [
      "R2 Score: 0.7361068207284679\n"
     ]
    }
   ],
   "source": [
    "# R2 Score\n",
    "scores = []\n",
    "model.eval()\n",
    "with torch.no_grad():\n",
    "\n",
    "    for X_batch, y_batch in test_loader:\n",
    "        y_pred = model(X_batch)\n",
    "        \n",
    "        y_pred = y_pred.numpy().reshape(-1)\n",
    "        y_batch = y_batch.numpy().reshape(-1)\n",
    "        scores.append(r2_score(y_batch, y_pred))\n",
    "    \n",
    "    r2_total = np.mean(scores)\n",
    "    print(f\"R2 Score: {r2_total}\")"
   ],
   "metadata": {
    "collapsed": false,
    "ExecuteTime": {
     "end_time": "2024-06-26T10:43:21.480193Z",
     "start_time": "2024-06-26T10:43:21.452618Z"
    }
   },
   "id": "20ad00fed7f92f77",
   "execution_count": 187
  },
  {
   "cell_type": "markdown",
   "source": [
    "We now have a trained model! It's not very good however, but that's fine, as it wasn't the point anyway. "
   ],
   "metadata": {
    "collapsed": false
   },
   "id": "9ef0e91b28d4e06b"
  },
  {
   "cell_type": "markdown",
   "source": [
    "# PSO model"
   ],
   "metadata": {
    "collapsed": false
   },
   "id": "a93cf1d60a487939"
  },
  {
   "cell_type": "code",
   "outputs": [],
   "source": [
    "EPOCHS = 60\n",
    "BATCH_SIZE = 12"
   ],
   "metadata": {
    "collapsed": false,
    "ExecuteTime": {
     "end_time": "2024-06-26T10:43:21.487170Z",
     "start_time": "2024-06-26T10:43:21.482169Z"
    }
   },
   "id": "6b96d049060c0fca",
   "execution_count": 188
  },
  {
   "cell_type": "code",
   "outputs": [],
   "source": [
    "model_pso = MyModel(input_dim)"
   ],
   "metadata": {
    "collapsed": false,
    "ExecuteTime": {
     "end_time": "2024-06-26T10:43:21.493881Z",
     "start_time": "2024-06-26T10:43:21.488170Z"
    }
   },
   "id": "a1b3746edafe7fad",
   "execution_count": 189
  },
  {
   "cell_type": "code",
   "outputs": [],
   "source": [
    "def fitness_function(model, loader, loss_fn):\n",
    "    model.eval()\n",
    "    total_loss = 0\n",
    "    total_samples = 0\n",
    "    with torch.no_grad():\n",
    "        for X_batch, y_batch in loader:\n",
    "            output = model(X_batch)\n",
    "            loss = loss_fn(output, y_batch)\n",
    "            total_loss += loss.item() * X_batch.size(0)\n",
    "            total_samples += X_batch.size(0)\n",
    "    return total_loss / total_samples"
   ],
   "metadata": {
    "collapsed": false,
    "ExecuteTime": {
     "end_time": "2024-06-26T10:43:21.500870Z",
     "start_time": "2024-06-26T10:43:21.494870Z"
    }
   },
   "id": "37e5e988c189378c",
   "execution_count": 190
  },
  {
   "cell_type": "code",
   "outputs": [],
   "source": [
    "# PSO Parameters\n",
    "n_particles = 30\n",
    "n_iterations = 50\n",
    "w = 0.5  # Inertia weight\n",
    "c1 = 1.5  # Cognitive coefficient\n",
    "c2 = 1.5  # Social coefficient"
   ],
   "metadata": {
    "collapsed": false,
    "ExecuteTime": {
     "end_time": "2024-06-26T10:43:21.523596Z",
     "start_time": "2024-06-26T10:43:21.501870Z"
    }
   },
   "id": "dfda1a0caf6b22ea",
   "execution_count": 191
  },
  {
   "cell_type": "code",
   "outputs": [],
   "source": [
    "# Generate initial particle swarm\n",
    "particles = [MyModel(input_dim) for _ in range(n_particles)]\n",
    "velocities = [MyModel(input_dim) for _ in range(n_particles)]\n",
    "p_best_positions = [MyModel(input_dim) for _ in range(n_particles)]\n",
    "p_best_scores = [float('inf')] * n_particles\n",
    "g_best_position = MyModel(input_dim)\n",
    "g_best_score = float('inf')"
   ],
   "metadata": {
    "collapsed": false,
    "ExecuteTime": {
     "end_time": "2024-06-26T10:43:21.571117Z",
     "start_time": "2024-06-26T10:43:21.525595Z"
    }
   },
   "id": "81a76d2db24b1f8b",
   "execution_count": 192
  },
  {
   "cell_type": "code",
   "outputs": [
    {
     "name": "stdout",
     "output_type": "stream",
     "text": [
      "Iteration 1/50, Best Fitness: 0.020397885867827373\n",
      "Iteration 2/50, Best Fitness: 0.01887284612781565\n",
      "Iteration 3/50, Best Fitness: 0.01887284612781565\n",
      "Iteration 4/50, Best Fitness: 0.01887284612781565\n",
      "Iteration 5/50, Best Fitness: 0.018612102054479256\n",
      "Iteration 6/50, Best Fitness: 0.01826161378863412\n",
      "Iteration 7/50, Best Fitness: 0.01791456906570935\n",
      "Iteration 8/50, Best Fitness: 0.01791456906570935\n",
      "Iteration 9/50, Best Fitness: 0.01747043361546288\n",
      "Iteration 10/50, Best Fitness: 0.01747043361546288\n",
      "Iteration 11/50, Best Fitness: 0.017085936686522526\n",
      "Iteration 12/50, Best Fitness: 0.016731694444331903\n",
      "Iteration 13/50, Best Fitness: 0.016616583300728193\n",
      "Iteration 14/50, Best Fitness: 0.016616583300728193\n",
      "Iteration 15/50, Best Fitness: 0.016418324626037772\n",
      "Iteration 16/50, Best Fitness: 0.016335594206786073\n",
      "Iteration 17/50, Best Fitness: 0.016321360802566503\n",
      "Iteration 18/50, Best Fitness: 0.016290239928106607\n",
      "Iteration 19/50, Best Fitness: 0.01613477610287742\n",
      "Iteration 20/50, Best Fitness: 0.01604410598356224\n",
      "Iteration 21/50, Best Fitness: 0.01582524182248703\n",
      "Iteration 22/50, Best Fitness: 0.01550508612294642\n",
      "Iteration 23/50, Best Fitness: 0.01549268913074908\n",
      "Iteration 24/50, Best Fitness: 0.01549268913074908\n",
      "Iteration 25/50, Best Fitness: 0.015342466209188733\n",
      "Iteration 26/50, Best Fitness: 0.015342466209188733\n",
      "Iteration 27/50, Best Fitness: 0.015308671210512098\n",
      "Iteration 28/50, Best Fitness: 0.015161316881192401\n",
      "Iteration 29/50, Best Fitness: 0.015087691422971622\n",
      "Iteration 30/50, Best Fitness: 0.014918617515916556\n",
      "Iteration 31/50, Best Fitness: 0.014773006573266967\n",
      "Iteration 32/50, Best Fitness: 0.014729754788092745\n",
      "Iteration 33/50, Best Fitness: 0.014683277208462988\n",
      "Iteration 34/50, Best Fitness: 0.014618719788924069\n",
      "Iteration 35/50, Best Fitness: 0.014501078891187487\n",
      "Iteration 36/50, Best Fitness: 0.014446549057225946\n",
      "Iteration 37/50, Best Fitness: 0.014425203348444382\n",
      "Iteration 38/50, Best Fitness: 0.01437900076213647\n",
      "Iteration 39/50, Best Fitness: 0.014361648190714104\n",
      "Iteration 40/50, Best Fitness: 0.014339344006713847\n",
      "Iteration 41/50, Best Fitness: 0.014278008599936123\n",
      "Iteration 42/50, Best Fitness: 0.014244717438246162\n",
      "Iteration 43/50, Best Fitness: 0.014233307777838388\n",
      "Iteration 44/50, Best Fitness: 0.014179180460181875\n",
      "Iteration 45/50, Best Fitness: 0.014179180460181875\n",
      "Iteration 46/50, Best Fitness: 0.01415616821392741\n",
      "Iteration 47/50, Best Fitness: 0.014139089182438985\n",
      "Iteration 48/50, Best Fitness: 0.014139089182438985\n",
      "Iteration 49/50, Best Fitness: 0.014106434192770804\n",
      "Iteration 50/50, Best Fitness: 0.014068562608264702\n"
     ]
    }
   ],
   "source": [
    "# PSO Optimization\n",
    "for iteration in range(n_iterations):\n",
    "    for i, particle in enumerate(particles):\n",
    "        # Evaluate fitness using train_loader\n",
    "        fitness = fitness_function(particle, train_loader, loss_fun)\n",
    "\n",
    "        # Update personal best\n",
    "        if fitness < p_best_scores[i]:\n",
    "            p_best_positions[i].load_state_dict(particle.state_dict())\n",
    "            p_best_scores[i] = fitness\n",
    "\n",
    "        # Update global best\n",
    "        if fitness < g_best_score:\n",
    "            g_best_position.load_state_dict(particle.state_dict())\n",
    "            g_best_score = fitness\n",
    "\n",
    "        # Update velocity and position\n",
    "        for param, vel_param, p_best_param, g_best_param in zip(\n",
    "                particle.parameters(), velocities[i].parameters(),\n",
    "                p_best_positions[i].parameters(), g_best_position.parameters()):\n",
    "\n",
    "            r1, r2 = np.random.rand(), np.random.rand()\n",
    "            vel_param.data = (w * vel_param.data +\n",
    "                              c1 * r1 * (p_best_param.data - param.data) +\n",
    "                              c2 * r2 * (g_best_param.data - param.data))\n",
    "            param.data += vel_param.data\n",
    "\n",
    "    print(f'Iteration {iteration+1}/{n_iterations}, Best Fitness: {g_best_score}')"
   ],
   "metadata": {
    "collapsed": false,
    "ExecuteTime": {
     "end_time": "2024-06-26T10:44:14.979268Z",
     "start_time": "2024-06-26T10:43:21.572115Z"
    }
   },
   "id": "62a21da6a7ac0bc8",
   "execution_count": 193
  },
  {
   "cell_type": "code",
   "outputs": [],
   "source": [
    "best_model = g_best_position"
   ],
   "metadata": {
    "collapsed": false,
    "ExecuteTime": {
     "end_time": "2024-06-26T10:44:14.985811Z",
     "start_time": "2024-06-26T10:44:14.982262Z"
    }
   },
   "id": "a1603f6b46ef4545",
   "execution_count": 194
  },
  {
   "cell_type": "code",
   "outputs": [
    {
     "name": "stdout",
     "output_type": "stream",
     "text": [
      "Epoch: 1/60, loss: 0.014092563482765318, val_loss: 0.013393363773660816\n",
      "Epoch: 2/60, loss: 0.014049182950095222, val_loss: 0.014189406085516448\n",
      "Epoch: 3/60, loss: 0.014065290056953856, val_loss: 0.016164178302025666\n",
      "Epoch: 4/60, loss: 0.014068735923011149, val_loss: 0.013531105066447155\n",
      "Epoch: 5/60, loss: 0.014053023528841356, val_loss: 0.015157783636823297\n",
      "Epoch: 6/60, loss: 0.014046850019092724, val_loss: 0.01332120984949617\n",
      "Epoch: 7/60, loss: 0.014039928888839282, val_loss: 0.013447806173328148\n",
      "Epoch: 8/60, loss: 0.014065680099295432, val_loss: 0.013930513503272896\n",
      "Epoch: 9/60, loss: 0.01406270438894169, val_loss: 0.013581950278223856\n",
      "Epoch: 10/60, loss: 0.01416838416055347, val_loss: 0.01351282270827695\n",
      "Epoch: 11/60, loss: 0.014170244990146897, val_loss: 0.013325311132180303\n",
      "Epoch: 12/60, loss: 0.014080720123039622, val_loss: 0.013325056986144298\n",
      "Epoch: 13/60, loss: 0.014049312144287684, val_loss: 0.01336166180629769\n",
      "Epoch: 14/60, loss: 0.014064835022161767, val_loss: 0.013578981662209591\n",
      "Epoch: 15/60, loss: 0.01404703386766271, val_loss: 0.013431270050046884\n",
      "Epoch: 16/60, loss: 0.01405346475206734, val_loss: 0.013437742296525317\n",
      "Epoch: 17/60, loss: 0.01403439595112891, val_loss: 0.013404294362534647\n",
      "Epoch: 18/60, loss: 0.014050930720136573, val_loss: 0.013447040054218276\n",
      "Epoch: 19/60, loss: 0.014048266125152285, val_loss: 0.013463338260012477\n",
      "Epoch: 20/60, loss: 0.014042318683494343, val_loss: 0.013587825111639888\n",
      "Epoch: 21/60, loss: 0.014043814573290476, val_loss: 0.013347808580400179\n",
      "Epoch: 22/60, loss: 0.014043611344839498, val_loss: 0.013484008610248566\n",
      "Epoch: 23/60, loss: 0.014096893126856578, val_loss: 0.013334107167674634\n",
      "Epoch: 24/60, loss: 0.014077631546069313, val_loss: 0.013479618973139188\n",
      "Epoch: 25/60, loss: 0.014085747298962448, val_loss: 0.013738453621044755\n",
      "Epoch: 26/60, loss: 0.014041362803827008, val_loss: 0.01410059049806517\n",
      "Epoch: 27/60, loss: 0.014057779968506918, val_loss: 0.016421758731746155\n",
      "Epoch: 28/60, loss: 0.01413123600519775, val_loss: 0.013347446376903226\n",
      "Epoch: 29/60, loss: 0.014045210413927778, val_loss: 0.013773840568635775\n",
      "Epoch: 30/60, loss: 0.014043079961216851, val_loss: 0.013368194219251365\n",
      "Epoch: 31/60, loss: 0.014032880104607327, val_loss: 0.013767975979768064\n",
      "Epoch: 32/60, loss: 0.0140486023142892, val_loss: 0.0134349151858655\n",
      "Epoch: 33/60, loss: 0.014056522611089134, val_loss: 0.013331725932758949\n",
      "Epoch: 34/60, loss: 0.014073334660464794, val_loss: 0.014962154374781834\n",
      "Epoch: 35/60, loss: 0.014044294442479194, val_loss: 0.013815846111949371\n",
      "Epoch: 36/60, loss: 0.014044562145397904, val_loss: 0.013360914910900528\n",
      "Epoch: 37/60, loss: 0.014093673496318751, val_loss: 0.013332947746992273\n",
      "Epoch: 38/60, loss: 0.01405020276074078, val_loss: 0.013368495643827255\n",
      "Epoch: 39/60, loss: 0.014066355363099595, val_loss: 0.013416964479762575\n",
      "Epoch: 40/60, loss: 0.014102304232662564, val_loss: 0.013888977356659978\n",
      "Epoch: 41/60, loss: 0.014036476214447717, val_loss: 0.013510691761241658\n",
      "Epoch: 42/60, loss: 0.014146989671869224, val_loss: 0.013332510043097578\n",
      "Epoch: 43/60, loss: 0.014037386975983638, val_loss: 0.013407814397436121\n",
      "Epoch: 44/60, loss: 0.014065937980161876, val_loss: 0.013645819550299126\n",
      "Epoch: 45/60, loss: 0.014154835173786942, val_loss: 0.013405933328296827\n",
      "Epoch: 46/60, loss: 0.014037927604814092, val_loss: 0.013544522246102924\n",
      "Epoch: 47/60, loss: 0.014210227173177546, val_loss: 0.013593337296143822\n",
      "Epoch: 48/60, loss: 0.014032380727349959, val_loss: 0.01334979471689819\n",
      "Epoch: 49/60, loss: 0.014066815975362832, val_loss: 0.015125059127888602\n",
      "Epoch: 50/60, loss: 0.014039685442164707, val_loss: 0.013659341923852006\n",
      "Epoch: 51/60, loss: 0.01403874822034176, val_loss: 0.01337426255011688\n",
      "Epoch: 52/60, loss: 0.014046335085347462, val_loss: 0.013457968355277959\n",
      "Epoch: 53/60, loss: 0.014071937409763256, val_loss: 0.013481844692369517\n",
      "Epoch: 54/60, loss: 0.014048252019277785, val_loss: 0.013423636125441155\n",
      "Epoch: 55/60, loss: 0.014069374279234182, val_loss: 0.013381109967746812\n",
      "Epoch: 56/60, loss: 0.014071832318120541, val_loss: 0.013879045874447278\n",
      "Epoch: 57/60, loss: 0.01404418282111416, val_loss: 0.013508261348444807\n",
      "Epoch: 58/60, loss: 0.014058621520479994, val_loss: 0.013331631016310143\n",
      "Epoch: 59/60, loss: 0.014034448336715695, val_loss: 0.013371218173035784\n",
      "Epoch: 60/60, loss: 0.014048140579729938, val_loss: 0.013326628536046685\n"
     ]
    }
   ],
   "source": [
    "loss_epoch = []\n",
    "val_loss_epoch = []\n",
    "for epoch in range(EPOCHS):\n",
    "    loss_list = []\n",
    "    val_loss_list = []\n",
    "\n",
    "    # Training\n",
    "    best_model.train()\n",
    "    for X_batch, y_batch in train_loader:\n",
    "        # No optimizer used here; we already found the best weights using PSO\n",
    "        y_pred = best_model(X_batch)\n",
    "        loss = loss_fun(y_pred, y_batch)\n",
    "        loss_list.append(loss.item())\n",
    "\n",
    "    # Validation\n",
    "    best_model.eval()\n",
    "    with torch.no_grad():\n",
    "        for X_batch, y_batch in test_loader:\n",
    "            y_pred = best_model(X_batch)\n",
    "            val_loss = loss_fun(y_pred, y_batch)\n",
    "            val_loss_list.append(val_loss.item())\n",
    "\n",
    "    print(f\"Epoch: {epoch+1}/{EPOCHS}, loss: {np.nanmean(loss_list)}, val_loss: {np.nanmean(val_loss_list)}\")\n",
    "    loss_epoch.append(np.nanmean(loss_list))\n",
    "    val_loss_epoch.append(np.nanmean(val_loss_list))"
   ],
   "metadata": {
    "collapsed": false,
    "ExecuteTime": {
     "end_time": "2024-06-26T10:44:17.932710Z",
     "start_time": "2024-06-26T10:44:14.987883Z"
    }
   },
   "id": "a3ef07f8c72b9e2e",
   "execution_count": 195
  },
  {
   "cell_type": "code",
   "outputs": [
    {
     "data": {
      "text/plain": "<Figure size 640x480 with 1 Axes>",
      "image/png": "[encoded data removed]"
     },
     "metadata": {},
     "output_type": "display_data"
    }
   ],
   "source": [
    "# Loss curves\n",
    "plt.plot(loss_epoch, label=\"train\")\n",
    "plt.plot(val_loss_epoch, label=\"val\")\n",
    "plt.legend()\n",
    "plt.title(\"Loss curve\")\n",
    "plt.show()"
   ],
   "metadata": {
    "collapsed": false,
    "ExecuteTime": {
     "end_time": "2024-06-26T10:44:18.097223Z",
     "start_time": "2024-06-26T10:44:17.933709Z"
    }
   },
   "id": "8cc57e461d247c5e",
   "execution_count": 196
  },
  {
   "cell_type": "code",
   "outputs": [
    {
     "name": "stdout",
     "output_type": "stream",
     "text": [
      "R2 Score: 0.8003514564555624\n"
     ]
    }
   ],
   "source": [
    "# R2 Score\n",
    "scores = []\n",
    "model.eval()\n",
    "with torch.no_grad():\n",
    "\n",
    "    for X_batch, y_batch in test_loader:\n",
    "        y_pred = model(X_batch)\n",
    "        \n",
    "        y_pred = y_pred.numpy().reshape(-1)\n",
    "        y_batch = y_batch.numpy().reshape(-1)\n",
    "        scores.append(r2_score(y_batch, y_pred))\n",
    "    \n",
    "    r2_total = np.mean(scores)\n",
    "    print(f\"R2 Score: {r2_total}\")"
   ],
   "metadata": {
    "collapsed": false,
    "ExecuteTime": {
     "end_time": "2024-06-26T10:44:18.125798Z",
     "start_time": "2024-06-26T10:44:18.098255Z"
    }
   },
   "id": "705b0f5373168dfa",
   "execution_count": 197
  },
  {
   "cell_type": "markdown",
   "source": [
    "I've set up a PSO implementation with completely default parameters. I then optimize the weights, and then train the model as normal.\n",
    "\n",
    "Few things of note, the optimization is definitely doing something, as the R2 score is significantly higher than with the standard optimization! You can also see that the model training is practically obsolete here, as the loss curves are stagnant. This implies that we need to lower the learning rate, but also just not train it much more after optimization, at least in this scenario.\n"
   ],
   "metadata": {
    "collapsed": false
   },
   "id": "7d2d69b8fe7bf951"
  }
 ],
 "metadata": {
  "kernelspec": {
   "display_name": "Python 3",
   "language": "python",
   "name": "python3"
  },
  "language_info": {
   "codemirror_mode": {
    "name": "ipython",
    "version": 2
   },
   "file_extension": ".py",
   "mimetype": "text/x-python",
   "name": "python",
   "nbconvert_exporter": "python",
   "pygments_lexer": "ipython2",
   "version": "2.7.6"
  }
 },
 "nbformat": 4,
 "nbformat_minor": 5
}
