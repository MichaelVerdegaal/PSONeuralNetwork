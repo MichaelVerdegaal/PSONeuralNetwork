{
 "cells": [
  {
   "cell_type": "code",
   "execution_count": 166,
   "id": "initial_id",
   "metadata": {
    "collapsed": true,
    "ExecuteTime": {
     "end_time": "2024-06-25T15:49:04.807436Z",
     "start_time": "2024-06-25T15:49:04.803029Z"
    }
   },
   "outputs": [],
   "source": [
    "import numpy as np\n",
    "import pandas as pd\n",
    "from sklearn.metrics import r2_score\n",
    "from sklearn.model_selection import train_test_split\n",
    "from sklearn.preprocessing import OneHotEncoder, MinMaxScaler\n",
    "import torch.nn as nn\n",
    "import torch\n",
    "import torch.optim as optim\n",
    "import re\n",
    "from torch.utils.data import Dataset, DataLoader\n",
    "\n",
    "from config import DATA_FOLDER"
   ]
  },
  {
   "cell_type": "markdown",
   "source": [
    "# Data"
   ],
   "metadata": {
    "collapsed": false
   },
   "id": "4ea424b67e6bc71"
  },
  {
   "cell_type": "code",
   "outputs": [],
   "source": [
    "df = pd.read_csv(DATA_FOLDER / \"mobile phone price prediction.csv\")\n",
    "df = df.drop(\"Unnamed: 0\", axis=1)"
   ],
   "metadata": {
    "collapsed": false,
    "ExecuteTime": {
     "end_time": "2024-06-25T15:49:06.063796Z",
     "start_time": "2024-06-25T15:49:06.045797Z"
    }
   },
   "id": "f5c8f3c20ae09240",
   "execution_count": 167
  },
  {
   "cell_type": "code",
   "outputs": [
    {
     "data": {
      "text/plain": "(1370, 17)"
     },
     "execution_count": 168,
     "metadata": {},
     "output_type": "execute_result"
    }
   ],
   "source": [
    "df.shape"
   ],
   "metadata": {
    "collapsed": false,
    "ExecuteTime": {
     "end_time": "2024-06-25T15:49:06.165659Z",
     "start_time": "2024-06-25T15:49:06.159733Z"
    }
   },
   "id": "a08aa0627a229096",
   "execution_count": 168
  },
  {
   "cell_type": "code",
   "outputs": [
    {
     "data": {
      "text/plain": "                                   Name  Rating  Spec_score  \\\n0                 Samsung Galaxy F14 5G    4.65          68   \n1                    Samsung Galaxy A11    4.20          63   \n2                    Samsung Galaxy A13    4.30          75   \n3                    Samsung Galaxy F23    4.10          73   \n4  Samsung Galaxy A03s (4GB RAM + 64GB)    4.10          69   \n\n                       No_of_sim       Ram            Battery     Display  \\\n0  Dual Sim, 3G, 4G, 5G, VoLTE,   4 GB RAM  6000 mAh Battery   6.6 inches   \n1      Dual Sim, 3G, 4G, VoLTE,   2 GB RAM  4000 mAh Battery   6.4 inches   \n2      Dual Sim, 3G, 4G, VoLTE,   4 GB RAM  5000 mAh Battery   6.6 inches   \n3      Dual Sim, 3G, 4G, VoLTE,   4 GB RAM   6000 mAh Battery  6.4 inches   \n4      Dual Sim, 3G, 4G, VoLTE,   4 GB RAM  5000 mAh Battery   6.5 inches   \n\n                                              Camera  \\\n0    50 MP + 2 MP Dual Rear &amp; 13 MP Front Camera   \n1  13 MP + 5 MP + 2 MP Triple Rear &amp; 8 MP Fro...   \n2            50 MP Quad Rear &amp; 8 MP Front Camera   \n3           48 MP Quad Rear &amp; 13 MP Front Camera   \n4  13 MP + 2 MP + 2 MP Triple Rear &amp; 5 MP Fro...   \n\n                      External_Memory Android_version   Price  company  \\\n0    Memory Card Supported, upto 1 TB              13   9,999  Samsung   \n1  Memory Card Supported, upto 512 GB              10   9,990  Samsung   \n2    Memory Card Supported, upto 1 TB              12  11,999  Samsung   \n3    Memory Card Supported, upto 1 TB              12  11,999  Samsung   \n4    Memory Card Supported, upto 1 TB              11  11,999  Samsung   \n\n    Inbuilt_memory       fast_charging  \\\n0   128 GB inbuilt   25W Fast Charging   \n1    32 GB inbuilt   15W Fast Charging   \n2    64 GB inbuilt   25W Fast Charging   \n3    64 GB inbuilt                 NaN   \n4    64 GB inbuilt   15W Fast Charging   \n\n                               Screen_resolution             Processor  \\\n0   2408 x 1080 px Display with Water Drop Notch   Octa Core Processor   \n1          720 x 1560 px Display with Punch Hole     1.8 GHz Processor   \n2   1080 x 2408 px Display with Water Drop Notch       2 GHz Processor   \n3                                  720 x 1600 px             Octa Core   \n4    720 x 1600 px Display with Water Drop Notch             Octa Core   \n\n  Processor_name  \n0    Exynos 1330  \n1      Octa Core  \n2      Octa Core  \n3      Helio G88  \n4      Helio P35  ",
      "text/html": "<div>\n<style scoped>\n    .dataframe tbody tr th:only-of-type {\n        vertical-align: middle;\n    }\n\n    .dataframe tbody tr th {\n        vertical-align: top;\n    }\n\n    .dataframe thead th {\n        text-align: right;\n    }\n</style>\n<table border=\"1\" class=\"dataframe\">\n  <thead>\n    <tr style=\"text-align: right;\">\n      <th></th>\n      <th>Name</th>\n      <th>Rating</th>\n      <th>Spec_score</th>\n      <th>No_of_sim</th>\n      <th>Ram</th>\n      <th>Battery</th>\n      <th>Display</th>\n      <th>Camera</th>\n      <th>External_Memory</th>\n      <th>Android_version</th>\n      <th>Price</th>\n      <th>company</th>\n      <th>Inbuilt_memory</th>\n      <th>fast_charging</th>\n      <th>Screen_resolution</th>\n      <th>Processor</th>\n      <th>Processor_name</th>\n    </tr>\n  </thead>\n  <tbody>\n    <tr>\n      <th>0</th>\n      <td>Samsung Galaxy F14 5G</td>\n      <td>4.65</td>\n      <td>68</td>\n      <td>Dual Sim, 3G, 4G, 5G, VoLTE,</td>\n      <td>4 GB RAM</td>\n      <td>6000 mAh Battery</td>\n      <td>6.6 inches</td>\n      <td>50 MP + 2 MP Dual Rear &amp;amp; 13 MP Front Camera</td>\n      <td>Memory Card Supported, upto 1 TB</td>\n      <td>13</td>\n      <td>9,999</td>\n      <td>Samsung</td>\n      <td>128 GB inbuilt</td>\n      <td>25W Fast Charging</td>\n      <td>2408 x 1080 px Display with Water Drop Notch</td>\n      <td>Octa Core Processor</td>\n      <td>Exynos 1330</td>\n    </tr>\n    <tr>\n      <th>1</th>\n      <td>Samsung Galaxy A11</td>\n      <td>4.20</td>\n      <td>63</td>\n      <td>Dual Sim, 3G, 4G, VoLTE,</td>\n      <td>2 GB RAM</td>\n      <td>4000 mAh Battery</td>\n      <td>6.4 inches</td>\n      <td>13 MP + 5 MP + 2 MP Triple Rear &amp;amp; 8 MP Fro...</td>\n      <td>Memory Card Supported, upto 512 GB</td>\n      <td>10</td>\n      <td>9,990</td>\n      <td>Samsung</td>\n      <td>32 GB inbuilt</td>\n      <td>15W Fast Charging</td>\n      <td>720 x 1560 px Display with Punch Hole</td>\n      <td>1.8 GHz Processor</td>\n      <td>Octa Core</td>\n    </tr>\n    <tr>\n      <th>2</th>\n      <td>Samsung Galaxy A13</td>\n      <td>4.30</td>\n      <td>75</td>\n      <td>Dual Sim, 3G, 4G, VoLTE,</td>\n      <td>4 GB RAM</td>\n      <td>5000 mAh Battery</td>\n      <td>6.6 inches</td>\n      <td>50 MP Quad Rear &amp;amp; 8 MP Front Camera</td>\n      <td>Memory Card Supported, upto 1 TB</td>\n      <td>12</td>\n      <td>11,999</td>\n      <td>Samsung</td>\n      <td>64 GB inbuilt</td>\n      <td>25W Fast Charging</td>\n      <td>1080 x 2408 px Display with Water Drop Notch</td>\n      <td>2 GHz Processor</td>\n      <td>Octa Core</td>\n    </tr>\n    <tr>\n      <th>3</th>\n      <td>Samsung Galaxy F23</td>\n      <td>4.10</td>\n      <td>73</td>\n      <td>Dual Sim, 3G, 4G, VoLTE,</td>\n      <td>4 GB RAM</td>\n      <td>6000 mAh Battery</td>\n      <td>6.4 inches</td>\n      <td>48 MP Quad Rear &amp;amp; 13 MP Front Camera</td>\n      <td>Memory Card Supported, upto 1 TB</td>\n      <td>12</td>\n      <td>11,999</td>\n      <td>Samsung</td>\n      <td>64 GB inbuilt</td>\n      <td>NaN</td>\n      <td>720 x 1600 px</td>\n      <td>Octa Core</td>\n      <td>Helio G88</td>\n    </tr>\n    <tr>\n      <th>4</th>\n      <td>Samsung Galaxy A03s (4GB RAM + 64GB)</td>\n      <td>4.10</td>\n      <td>69</td>\n      <td>Dual Sim, 3G, 4G, VoLTE,</td>\n      <td>4 GB RAM</td>\n      <td>5000 mAh Battery</td>\n      <td>6.5 inches</td>\n      <td>13 MP + 2 MP + 2 MP Triple Rear &amp;amp; 5 MP Fro...</td>\n      <td>Memory Card Supported, upto 1 TB</td>\n      <td>11</td>\n      <td>11,999</td>\n      <td>Samsung</td>\n      <td>64 GB inbuilt</td>\n      <td>15W Fast Charging</td>\n      <td>720 x 1600 px Display with Water Drop Notch</td>\n      <td>Octa Core</td>\n      <td>Helio P35</td>\n    </tr>\n  </tbody>\n</table>\n</div>"
     },
     "execution_count": 169,
     "metadata": {},
     "output_type": "execute_result"
    }
   ],
   "source": [
    "df.head()"
   ],
   "metadata": {
    "collapsed": false,
    "ExecuteTime": {
     "end_time": "2024-06-25T15:49:06.287636Z",
     "start_time": "2024-06-25T15:49:06.272229Z"
    }
   },
   "id": "d0ff7d8d5e09ba61",
   "execution_count": 169
  },
  {
   "cell_type": "code",
   "outputs": [
    {
     "name": "stdout",
     "output_type": "stream",
     "text": [
      "<class 'pandas.core.frame.DataFrame'>\n",
      "RangeIndex: 1370 entries, 0 to 1369\n",
      "Data columns (total 17 columns):\n",
      " #   Column             Non-Null Count  Dtype  \n",
      "---  ------             --------------  -----  \n",
      " 0   Name               1370 non-null   object \n",
      " 1   Rating             1370 non-null   float64\n",
      " 2   Spec_score         1370 non-null   int64  \n",
      " 3   No_of_sim          1370 non-null   object \n",
      " 4   Ram                1370 non-null   object \n",
      " 5   Battery            1370 non-null   object \n",
      " 6   Display            1370 non-null   object \n",
      " 7   Camera             1370 non-null   object \n",
      " 8   External_Memory    1370 non-null   object \n",
      " 9   Android_version    927 non-null    object \n",
      " 10  Price              1370 non-null   object \n",
      " 11  company            1370 non-null   object \n",
      " 12  Inbuilt_memory     1351 non-null   object \n",
      " 13  fast_charging      1281 non-null   object \n",
      " 14  Screen_resolution  1368 non-null   object \n",
      " 15  Processor          1342 non-null   object \n",
      " 16  Processor_name     1370 non-null   object \n",
      "dtypes: float64(1), int64(1), object(15)\n",
      "memory usage: 182.1+ KB\n"
     ]
    }
   ],
   "source": [
    "df.info()"
   ],
   "metadata": {
    "collapsed": false,
    "ExecuteTime": {
     "end_time": "2024-06-25T15:49:06.441336Z",
     "start_time": "2024-06-25T15:49:06.431549Z"
    }
   },
   "id": "255cae21d0047c93",
   "execution_count": 170
  },
  {
   "cell_type": "markdown",
   "source": [
    "In the above we've loaded our datasets, and taken a first look at them.\n",
    "\n",
    "We can see that we have some relatively small datasets, with less than 1400 rows.\n",
    "\n",
    "We have 17 columns. Price is the target variable, and the rest are features. We can see that all of the features are categorical, including the target. On closer inspection, we can definitely convert some of those to numerical features. There also a small amount of missing values, which we should also fill in."
   ],
   "metadata": {
    "collapsed": false
   },
   "id": "827b32c927d2bb86"
  },
  {
   "cell_type": "markdown",
   "source": [
    "The given column description is as follows:\n",
    "\n",
    "- Name: This column contains the name of the mobile phone.\n",
    "- Rating: This column contains the ratings given to the phone. the minimum rating is 0. and maximum rating is 5.\n",
    "- Spec_score: This column contains the score given to the phone on the basic of its specifications. This minimum value is 0 and maximum value is 100.\n",
    "- No_of_sim: This column contains whether the phone is dual sim, has 3g, 4g, 5g, volte.\n",
    "- RAM: This column contains the information about the RAM of the phone\n",
    "- Battery: This column provides information about battery specification of the phone.\n",
    "- Display: This column contains information about the screen size of the phone.\n",
    "- Camera: This column provides information about the camera, rear and front.\n",
    "- External_Memory: This column contains information whether a device support external memory and\n",
    "how much.\n",
    "- Android_version: This column tells us about the android version of the phone.\n",
    "- Price: Price of the phone.\n",
    "- Company: The company to which the phone belongs.\n",
    "- Inbuilt_memory: This column provides information about the inbuilt memory of the phone.\n",
    "- fast_charging: It contains whether the device supports fast charging or not. if yes then how much.\n",
    "- Screen_resolution: This describes the screen resolution of the phone.\n",
    "- Processor: This column gives information about the processor of the phone.\n",
    "- Processor_name: This column describes the name of the processor."
   ],
   "metadata": {
    "collapsed": false
   },
   "id": "f7628cb9faedc2ab"
  },
  {
   "cell_type": "markdown",
   "source": [
    "# Cleaning"
   ],
   "metadata": {
    "collapsed": false
   },
   "id": "f21427450f1e381"
  },
  {
   "cell_type": "code",
   "outputs": [
    {
     "data": {
      "text/plain": "count                                   1370\nunique                                  1334\ntop       Realme Narzo N55 (6GB RAM + 128GB)\nfreq                                       3\nName: Name, dtype: object"
     },
     "execution_count": 171,
     "metadata": {},
     "output_type": "execute_result"
    }
   ],
   "source": [
    "df[\"Name\"].describe()"
   ],
   "metadata": {
    "collapsed": false,
    "ExecuteTime": {
     "end_time": "2024-06-25T15:49:06.540853Z",
     "start_time": "2024-06-25T15:49:06.529789Z"
    }
   },
   "id": "15c52adc0c5431c1",
   "execution_count": 171
  },
  {
   "cell_type": "code",
   "outputs": [],
   "source": [
    "df = df.drop(\"Name\", axis=1)"
   ],
   "metadata": {
    "collapsed": false,
    "ExecuteTime": {
     "end_time": "2024-06-25T15:49:06.712437Z",
     "start_time": "2024-06-25T15:49:06.705377Z"
    }
   },
   "id": "13564c87a7bb8035",
   "execution_count": 172
  },
  {
   "cell_type": "markdown",
   "source": [
    "For name, we can see that we have a unique value for almost every single row. I doubt the usefulness of this column on its own, especially since we have a company column already. So we drop it."
   ],
   "metadata": {
    "collapsed": false
   },
   "id": "104c3b0ac4f2d826"
  },
  {
   "cell_type": "code",
   "outputs": [],
   "source": [
    "df = df.astype({\"Rating\": \"float32\", \"Spec_score\": \"int32\"})"
   ],
   "metadata": {
    "collapsed": false,
    "ExecuteTime": {
     "end_time": "2024-06-25T15:49:06.937803Z",
     "start_time": "2024-06-25T15:49:06.930231Z"
    }
   },
   "id": "3429a5c210c7817",
   "execution_count": 173
  },
  {
   "cell_type": "markdown",
   "source": [
    "The features above don't need more work other than setting the data type correctly."
   ],
   "metadata": {
    "collapsed": false
   },
   "id": "5a01f9ab167f0626"
  },
  {
   "cell_type": "code",
   "outputs": [
    {
     "data": {
      "text/plain": "No_of_sim\nDual Sim, 3G, 4G, 5G, VoLTE,             818\nDual Sim, 3G, 4G, VoLTE,                 419\nDual Sim, 3G, 4G, 5G, VoLTE, Vo5G,        91\nSingle Sim, 3G, 4G, 5G, VoLTE,            20\nDual Sim, 3G, 4G,                         13\nSingle Sim, 3G, 4G, VoLTE,                 6\nNo Sim Supported,                          1\nSingle Sim, 3G, 4G, 5G, VoLTE, Vo5G,       1\nDual Sim, 3G, VoLTE,                       1\nName: count, dtype: int64"
     },
     "execution_count": 174,
     "metadata": {},
     "output_type": "execute_result"
    }
   ],
   "source": [
    "df[\"No_of_sim\"].value_counts()"
   ],
   "metadata": {
    "collapsed": false,
    "ExecuteTime": {
     "end_time": "2024-06-25T15:49:07.241808Z",
     "start_time": "2024-06-25T15:49:07.234380Z"
    }
   },
   "id": "69d7c47599d2df62",
   "execution_count": 174
  },
  {
   "cell_type": "code",
   "outputs": [],
   "source": [
    "# Remove trailing commas\n",
    "df['No_of_sim'] = df['No_of_sim'].str.replace(r'\\s*,\\s*$', '', regex=True)\n",
    "\n",
    "# Create new columns based on the presence of a feature\n",
    "df['sim'] = df['No_of_sim'].str.contains('Dual Sim').astype(int) + df['No_of_sim'].str.contains('Single Sim').astype(int)\n",
    "df['3g'] = df['No_of_sim'].str.contains('3G').astype(int)\n",
    "df['4g'] = df['No_of_sim'].str.contains('4G').astype(int)\n",
    "df['5g'] = df['No_of_sim'].str.contains('5G').astype(int)\n",
    "df['volte'] = df['No_of_sim'].str.contains('VoLTE').astype(int)\n",
    "df['vo5g'] = df['No_of_sim'].str.contains('Vo5G').astype(int)\n",
    "\n",
    "# Set all to 0 if 'No Sim Supported'\n",
    "df.loc[df['No_of_sim'].str.contains('No Sim Supported'), ['sim', '3g', '4g', '5g', 'volte', 'vo5g']] = 0\n",
    "\n",
    "# Drop the original column\n",
    "df = df.drop('No_of_sim', axis=1)"
   ],
   "metadata": {
    "collapsed": false,
    "ExecuteTime": {
     "end_time": "2024-06-25T15:49:07.425997Z",
     "start_time": "2024-06-25T15:49:07.386397Z"
    }
   },
   "id": "79d8c8ac35140b82",
   "execution_count": 175
  },
  {
   "cell_type": "markdown",
   "source": [
    "The feature above was more complicated. It contains sim card specs. I felt like this was more useful if we had them separated as new columns, so you can check for the specific features (e.g. 5G is pretty important to some)."
   ],
   "metadata": {
    "collapsed": false
   },
   "id": "9b944ea6a660b47d"
  },
  {
   "cell_type": "code",
   "outputs": [
    {
     "data": {
      "text/plain": "Ram\n8 GB RAM                                     528\n4 GB RAM                                     253\n12 GB RAM                                    246\n6 GB RAM                                     214\n16 GB RAM                                     41\n3 GB RAM                                      38\n2 GB RAM                                      22\n256 GB inbuilt                                 8\n128 GB inbuilt                                 7\n18 GB RAM                                      4\n512 GB inbuilt                                 3\n24 GB RAM                                      2\n1 GB RAM                                       1\nHelio G90T                                     1\n1.5 GB RAM                                     1\n6000 mAh Battery with 22.5W Fast Charging      1\nName: count, dtype: int64"
     },
     "execution_count": 176,
     "metadata": {},
     "output_type": "execute_result"
    }
   ],
   "source": [
    "df[\"Ram\"].value_counts()"
   ],
   "metadata": {
    "collapsed": false,
    "ExecuteTime": {
     "end_time": "2024-06-25T15:49:07.614242Z",
     "start_time": "2024-06-25T15:49:07.602236Z"
    }
   },
   "id": "97e68e309c1f866d",
   "execution_count": 176
  },
  {
   "cell_type": "code",
   "outputs": [],
   "source": [
    "# Split and take first value\n",
    "df[\"Ram\"] = df[\"Ram\"].str.split(\" \").str[0]"
   ],
   "metadata": {
    "collapsed": false,
    "ExecuteTime": {
     "end_time": "2024-06-25T15:49:08.087067Z",
     "start_time": "2024-06-25T15:49:08.076362Z"
    }
   },
   "id": "9deb3a952a3be5a7",
   "execution_count": 177
  },
  {
   "cell_type": "markdown",
   "source": [
    "The ram column contains many categories, but these can easily be numerical. After all, more RAM is just better, objectively."
   ],
   "metadata": {
    "collapsed": false
   },
   "id": "40aa37ca89d589c"
  },
  {
   "cell_type": "code",
   "outputs": [
    {
     "data": {
      "text/plain": "Camera\n50 MP + 2 MP Dual Rear &amp; 8 MP Front Camera                             81\nFoldable Display, Dual Display                                             69\n50 MP + 8 MP + 2 MP Triple Rear &amp; 16 MP Front Camera                   61\n64 MP + 8 MP + 2 MP Triple Rear &amp; 16 MP Front Camera                   40\n50 MP + 2 MP Dual Rear &amp; 16 MP Front Camera                            31\n                                                                           ..\n54 MP + 8 MP + 2 MP Triple Rear &amp; 16 MP Front Camera                    1\n160 MP + 50 MP + 2 MP Triple Rear &amp; 50 MP + 2 MP Dual Front Camera      1\n108 MP + 32 MP + 12 MP Triple Rear &amp; 50 MP + 2 MP Dual Front Camera     1\n50 MP + 16 MP + 8 MP Triple Rear &amp; 32 MP + 8 MP Dual Front Camera       1\n50 MP + 5 MP + 2 MP Triple Rear &amp; 32 MP Front Camera                    1\nName: count, Length: 347, dtype: int64"
     },
     "execution_count": 178,
     "metadata": {},
     "output_type": "execute_result"
    }
   ],
   "source": [
    "df[\"Camera\"].value_counts()"
   ],
   "metadata": {
    "collapsed": false,
    "ExecuteTime": {
     "end_time": "2024-06-25T15:49:08.381305Z",
     "start_time": "2024-06-25T15:49:08.374594Z"
    }
   },
   "id": "5950c1e97127870",
   "execution_count": 178
  },
  {
   "cell_type": "code",
   "outputs": [],
   "source": [
    "# Define a function to extract camera specs\n",
    "def extract_camera_specs(camera_str):\n",
    "    # Rear camera specs\n",
    "    rear_match = re.findall(r'(\\d+) MP', camera_str)\n",
    "    if rear_match:\n",
    "        rear_cameras = sorted(map(int, rear_match), reverse=True)\n",
    "    else:\n",
    "        rear_cameras = []\n",
    "    \n",
    "    # Front camera specs\n",
    "    front_match = re.search(r'(\\d+) MP Front Camera', camera_str)\n",
    "    front_camera = int(front_match.group(1)) if front_match else 0\n",
    "    \n",
    "    return rear_cameras, front_camera\n",
    "\n",
    "# Apply the function and create new columns\n",
    "df['Rear_Cameras'], df['Front_Camera'] = zip(*df['Camera'].apply(extract_camera_specs))\n",
    "\n",
    "# Fill new columns with the extracted values\n",
    "# Extracting up to X rear camera specs\n",
    "max_cameras = 3\n",
    "for i in range(max_cameras):\n",
    "    df[f'Rear_Camera_{i+1}'] = df['Rear_Cameras'].apply(lambda x: x[i] if i < len(x) else 0)\n",
    "\n",
    "# Drop the temporary column\n",
    "df.drop(columns=['Rear_Cameras'], inplace=True)\n",
    "df = df.drop(columns=['Camera'])"
   ],
   "metadata": {
    "collapsed": false,
    "ExecuteTime": {
     "end_time": "2024-06-25T15:49:08.483803Z",
     "start_time": "2024-06-25T15:49:08.456829Z"
    }
   },
   "id": "471b69f3b5d34a28",
   "execution_count": 179
  },
  {
   "cell_type": "markdown",
   "source": [
    "The camera column is a little tricky. We can see that it's separated into front and rear camera's, with often multiple cameras for the rear camera. We'll first split it into front and rear cameras. Then afterwards, for each instance we extract the megapixels. \n",
    "\n",
    "With absence, we set it to 0."
   ],
   "metadata": {
    "collapsed": false
   },
   "id": "a629c7e1f4b48099"
  },
  {
   "cell_type": "code",
   "outputs": [
    {
     "data": {
      "text/plain": "Battery\n5000 mAh Battery     693\n4500 mAh Battery     116\n6000 mAh Battery     102\n5000 mAh Battery      59\n4000 mAh Battery      36\n                    ... \n4821 mAh Battery       1\n4730 mAh Battery       1\n5700 mAh Battery       1\n3760 mAh Battery       1\n4500 mAh Battery       1\nName: count, Length: 89, dtype: int64"
     },
     "execution_count": 180,
     "metadata": {},
     "output_type": "execute_result"
    }
   ],
   "source": [
    "df[\"Battery\"].value_counts()"
   ],
   "metadata": {
    "collapsed": false,
    "ExecuteTime": {
     "end_time": "2024-06-25T15:49:08.593148Z",
     "start_time": "2024-06-25T15:49:08.584594Z"
    }
   },
   "id": "c4ee47ab2ce092b5",
   "execution_count": 180
  },
  {
   "cell_type": "code",
   "outputs": [],
   "source": [
    "# Split and take first value\n",
    "df[\"Battery\"] = df[\"Battery\"].str.split(\" \").str[0]"
   ],
   "metadata": {
    "collapsed": false,
    "ExecuteTime": {
     "end_time": "2024-06-25T15:49:08.684057Z",
     "start_time": "2024-06-25T15:49:08.677493Z"
    }
   },
   "id": "b0a6efa507c77b8",
   "execution_count": 181
  },
  {
   "cell_type": "markdown",
   "source": [
    "With the battery column we split and take the first value, to get the battery capacity in mAh."
   ],
   "metadata": {
    "collapsed": false
   },
   "id": "52219010a11072a"
  },
  {
   "cell_type": "code",
   "outputs": [
    {
     "data": {
      "text/plain": "Display\n6.7 inches     158\n6.67 inches    151\n6.78 inches    142\n6.5 inches     122\n6.6 inches      94\n              ... \n5.6 inches       1\n6.69 inches      1\n12.1 inches      1\n7.71 inches      1\n10 inches        1\nName: count, Length: 89, dtype: int64"
     },
     "execution_count": 182,
     "metadata": {},
     "output_type": "execute_result"
    }
   ],
   "source": [
    "df[\"Display\"].value_counts()"
   ],
   "metadata": {
    "collapsed": false,
    "ExecuteTime": {
     "end_time": "2024-06-25T15:49:08.777626Z",
     "start_time": "2024-06-25T15:49:08.768438Z"
    }
   },
   "id": "3588a5afba91f6c0",
   "execution_count": 182
  },
  {
   "cell_type": "code",
   "outputs": [],
   "source": [
    "# Split and take first value\n",
    "df[\"Display\"] = df[\"Display\"].str.split(\" \").str[0]"
   ],
   "metadata": {
    "collapsed": false,
    "ExecuteTime": {
     "end_time": "2024-06-25T15:49:08.854854Z",
     "start_time": "2024-06-25T15:49:08.848851Z"
    }
   },
   "id": "8dcbf5a4ee6605b6",
   "execution_count": 183
  },
  {
   "cell_type": "markdown",
   "source": [
    "With the display column we split and take the first value, to get the screen size in inches."
   ],
   "metadata": {
    "collapsed": false
   },
   "id": "2c1c14137194e829"
  },
  {
   "cell_type": "code",
   "outputs": [
    {
     "data": {
      "text/plain": "External_Memory\nMemory Card Supported, upto 1 TB                                               233\nMemory Card (Hybrid), upto 1 TB                                                161\nMemory Card Not Supported                                                      142\nAndroid v13                                                                    107\nAndroid v12                                                                    104\n                                                                              ... \n48 MP + 12 MP Dual Rear &amp; 10 MP Front Camera                                 1\n48 MP + 10.8 MP + 10.8 MP Triple Rear &amp; 9.5 MP + 8 MP Dual Front Camera      1\n50 MP + 10.8 MP + 10.8 MP Triple Rear &amp; 12 MP + 12 MP Dual Front Camera      1\nMemory Card Supported, upto 32 GB                                                1\n50 MP + 48 MP + 8 MP Triple Rear &amp; 32 MP Front Camera                        1\nName: count, Length: 85, dtype: int64"
     },
     "execution_count": 184,
     "metadata": {},
     "output_type": "execute_result"
    }
   ],
   "source": [
    "df[\"External_Memory\"].value_counts()"
   ],
   "metadata": {
    "collapsed": false,
    "ExecuteTime": {
     "end_time": "2024-06-25T15:49:08.949092Z",
     "start_time": "2024-06-25T15:49:08.939222Z"
    }
   },
   "id": "b602a717fe47ed37",
   "execution_count": 184
  },
  {
   "cell_type": "code",
   "outputs": [],
   "source": [
    "# if Memory Card Not Supported, set it to 0, else 1\n",
    "df[\"External_Memory\"] = df[\"External_Memory\"].str.contains(\"Memory Card Not Supported\").astype(int)"
   ],
   "metadata": {
    "collapsed": false,
    "ExecuteTime": {
     "end_time": "2024-06-25T15:49:09.022605Z",
     "start_time": "2024-06-25T15:49:09.017060Z"
    }
   },
   "id": "84638ed9ea9ba001",
   "execution_count": 185
  },
  {
   "cell_type": "markdown",
   "source": [
    "There are many categories in the external memory column. However, in the end it boils down to whether the answer to external memory support is yes or no. Most consumers probably don't pay attention to the max amount supported. So, we split it into a binary column."
   ],
   "metadata": {
    "collapsed": false
   },
   "id": "4f02e412b978f368"
  },
  {
   "cell_type": "code",
   "outputs": [
    {
     "data": {
      "text/plain": "Android_version\n13                   280\n12                   202\n14                   178\n11                   127\n10                    55\n15                    17\n10.0                  17\n9.0 (Pie)             17\n4.0                    8\n8.1 (Oreo)             5\n6.0 (Marshmallow)      3\n3.0                    3\n2.0                    3\n3.1                    2\n7.1.1 (Nougat)         2\n5.0                    1\n3.0 (Honeycomb)        1\n5.1 (Lollipop)         1\n2                      1\n3                      1\n9 (Pie)                1\n8.0 (Oreo)             1\n4.1                    1\nName: count, dtype: int64"
     },
     "execution_count": 186,
     "metadata": {},
     "output_type": "execute_result"
    }
   ],
   "source": [
    "df[\"Android_version\"].value_counts()"
   ],
   "metadata": {
    "collapsed": false,
    "ExecuteTime": {
     "end_time": "2024-06-25T15:49:09.155239Z",
     "start_time": "2024-06-25T15:49:09.147245Z"
    }
   },
   "id": "cb4274b0e7e40709",
   "execution_count": 186
  },
  {
   "cell_type": "code",
   "outputs": [],
   "source": [
    "df = df.drop(\"Android_version\", axis=1)"
   ],
   "metadata": {
    "collapsed": false,
    "ExecuteTime": {
     "end_time": "2024-06-25T15:49:09.240990Z",
     "start_time": "2024-06-25T15:49:09.234680Z"
    }
   },
   "id": "711a4360d6d2e369",
   "execution_count": 187
  },
  {
   "cell_type": "markdown",
   "source": [
    "The android version contains a few categories. It doesn't seem very relevant to the price though, so we'll drop it."
   ],
   "metadata": {
    "collapsed": false
   },
   "id": "22b558c941b699ad"
  },
  {
   "cell_type": "code",
   "outputs": [
    {
     "data": {
      "text/plain": "company\nVivo        186\nRealme      186\nSamsung     181\nMotorola    127\nXiaomi       90\nHonor        88\nPoco         75\nOnePlus      75\nHuawei       62\niQOO         57\nOPPO         38\nOppo         27\nTCL          26\nGoogle       23\nAsus         21\nPOCO         19\nLava         19\nNothing      15\nLenovo       14\nTecno        13\nitel         12\nLG            6\nGionee        5\nItel          3\nIQOO          1\nCoolpad       1\nName: count, dtype: int64"
     },
     "execution_count": 188,
     "metadata": {},
     "output_type": "execute_result"
    }
   ],
   "source": [
    "df[\"company\"].value_counts()"
   ],
   "metadata": {
    "collapsed": false,
    "ExecuteTime": {
     "end_time": "2024-06-25T15:49:09.360730Z",
     "start_time": "2024-06-25T15:49:09.351502Z"
    }
   },
   "id": "b5a492235576797d",
   "execution_count": 188
  },
  {
   "cell_type": "markdown",
   "source": [
    "This column seems fine, other than needing to be encoded."
   ],
   "metadata": {
    "collapsed": false
   },
   "id": "55027d1854e42c0b"
  },
  {
   "cell_type": "code",
   "outputs": [
    {
     "data": {
      "text/plain": "Inbuilt_memory\n128 GB inbuilt    644\n256 GB inbuilt    405\n64 GB inbuilt     184\n512 GB inbuilt     59\n32 GB inbuilt      48\n1 TB inbuilt        5\n16 GB inbuilt       3\nOcta Core           1\n258 GB inbuilt      1\n8 GB inbuilt        1\nName: count, dtype: int64"
     },
     "execution_count": 189,
     "metadata": {},
     "output_type": "execute_result"
    }
   ],
   "source": [
    "df[\"Inbuilt_memory\"].value_counts()"
   ],
   "metadata": {
    "collapsed": false,
    "ExecuteTime": {
     "end_time": "2024-06-25T15:49:09.416107Z",
     "start_time": "2024-06-25T15:49:09.406579Z"
    }
   },
   "id": "c95ca95b658d8866",
   "execution_count": 189
  },
  {
   "cell_type": "code",
   "outputs": [],
   "source": [
    "# Remove whitespace\n",
    "df['Inbuilt_memory'] = df['Inbuilt_memory'].str.strip()\n",
    "\n",
    "# Drop rows with 'Octa Core'\n",
    "df = df[df['Inbuilt_memory'].str.lower() != 'octa core']\n",
    "\n",
    "# Extract memory size by splitting and taking the first element\n",
    "df['Inbuilt_memory'] = df['Inbuilt_memory'].str.split().str[0]\n",
    "\n",
    "# Set columns with 1 (terabyte) to 1024\n",
    "df.loc[df['Inbuilt_memory'] == '1', 'Inbuilt_memory'] = 1024"
   ],
   "metadata": {
    "collapsed": false,
    "ExecuteTime": {
     "end_time": "2024-06-25T15:49:09.523524Z",
     "start_time": "2024-06-25T15:49:09.513522Z"
    }
   },
   "id": "14455f6082ac2470",
   "execution_count": 190
  },
  {
   "cell_type": "markdown",
   "source": [
    "The inbuilt memory column is mostly fine, but it contains a rogue processor value. We remove that, and then we can convert it to an integer."
   ],
   "metadata": {
    "collapsed": false
   },
   "id": "e429dabcc2acdc1f"
  },
  {
   "cell_type": "code",
   "outputs": [
    {
     "data": {
      "text/plain": "fast_charging\n18W Fast Charging      157\n33W Fast Charging      144\n67W Fast Charging      101\n25W Fast Charging       97\n80W Fast Charging       78\n100W Fast Charging      70\n66W Fast Charging       66\n120W Fast Charging      65\n15W Fast Charging       61\n44W Fast Charging       61\n45W Fast Charging       58\n65W Fast Charging       50\n30W Fast Charging       44\n10W Fast Charging       39\nFast Charging           39\n150W Fast Charging      24\n22.5W Fast Charging     20\n68W Fast Charging       20\n40W Fast Charging       17\n35W Fast Charging       14\n125W Fast Charging      12\n20W Fast Charging       11\n200W Fast Charging       7\n240W Fast Charging       3\n55W Fast Charging        3\n90W Fast Charging        3\n88W Fast Charging        3\n50W Fast Charging        2\n250W Fast Charging       2\n27W Fast Charging        2\n57W Fast Charging        1\n60W Fast Charging        1\n08W Fast Charging        1\n68.2W Fast Charging      1\n135W Fast Charging       1\n70W Fast Charging        1\nWater Drop Notch         1\n7.5W Fast Charging       1\nName: count, dtype: int64"
     },
     "execution_count": 191,
     "metadata": {},
     "output_type": "execute_result"
    }
   ],
   "source": [
    "df[\"fast_charging\"].value_counts()"
   ],
   "metadata": {
    "collapsed": false,
    "ExecuteTime": {
     "end_time": "2024-06-25T15:49:09.581408Z",
     "start_time": "2024-06-25T15:49:09.574619Z"
    }
   },
   "id": "c4c3a580ae0b336f",
   "execution_count": 191
  },
  {
   "cell_type": "code",
   "outputs": [],
   "source": [
    "# If fast charging has any value, set to 1, otherwise 0\n",
    "df[\"fast_charging\"] = df[\"fast_charging\"].apply(lambda x: 0 if pd.isna(x) else 1)"
   ],
   "metadata": {
    "collapsed": false,
    "ExecuteTime": {
     "end_time": "2024-06-25T15:49:09.660710Z",
     "start_time": "2024-06-25T15:49:09.653599Z"
    }
   },
   "id": "ce817e8542dfc52b",
   "execution_count": 192
  },
  {
   "cell_type": "markdown",
   "source": [
    "The fast charging column can be converted to a binary column."
   ],
   "metadata": {
    "collapsed": false
   },
   "id": "a74793664e314a43"
  },
  {
   "cell_type": "code",
   "outputs": [
    {
     "data": {
      "text/plain": "Screen_resolution\n1080 x 2400 px                                 357\n720 x 1600 px Display with Water Drop Notch    100\n1080 x 2412 px                                  77\n720 x 1600 px                                   65\n1080 x 2340 px                                  50\n                                              ... \n2340 x 1080 px                                   1\n1080 x 1920 px Display                           1\n720 x 1600 px Display with Large Notch           1\n540 x 960 px Display                             1\n720 x 1640 px Display with Water Drop Notch      1\nName: count, Length: 141, dtype: int64"
     },
     "execution_count": 193,
     "metadata": {},
     "output_type": "execute_result"
    }
   ],
   "source": [
    "df[\"Screen_resolution\"].value_counts()"
   ],
   "metadata": {
    "collapsed": false,
    "ExecuteTime": {
     "end_time": "2024-06-25T15:49:09.731709Z",
     "start_time": "2024-06-25T15:49:09.723688Z"
    }
   },
   "id": "c65a9b5e283230bb",
   "execution_count": 193
  },
  {
   "cell_type": "code",
   "outputs": [],
   "source": [
    "# Split on x letter\n",
    "df[\"screen_width\"] = df[\"Screen_resolution\"].str.split(\" x \").str[0]\n",
    "df[\"screen_height\"] = df[\"Screen_resolution\"].str.split(\" x \").str[1]\n",
    "df[\"screen_height\"] = df[\"screen_height\"].str.split(\" \").str[0]\n",
    "df = df.drop(\"Screen_resolution\", axis=1)"
   ],
   "metadata": {
    "collapsed": false,
    "ExecuteTime": {
     "end_time": "2024-06-25T15:49:09.817550Z",
     "start_time": "2024-06-25T15:49:09.799651Z"
    }
   },
   "id": "db1ca11fb8b31ad",
   "execution_count": 194
  },
  {
   "cell_type": "markdown",
   "source": [
    "The screen resolution column can be converted to two columns, one for the width and one for the height."
   ],
   "metadata": {
    "collapsed": false
   },
   "id": "8125f6c2481e7083"
  },
  {
   "cell_type": "code",
   "outputs": [
    {
     "data": {
      "text/plain": "Processor\nOcta Core              1237\nOcta Core Processor      75\nQuad Core                11\n1.6 GHz Processor         3\nDeca Core                 3\n2 GHz Processor           2\nNine-Cores                2\nNine Core                 2\nNine Cores                2\n1.8 GHz Processor         1\nDeca Core Processor       1\n1.3 GHz Processor         1\n2.3 GHz Processor         1\n128 GB inbuilt            1\nName: count, dtype: int64"
     },
     "execution_count": 195,
     "metadata": {},
     "output_type": "execute_result"
    }
   ],
   "source": [
    "df[\"Processor\"].value_counts()"
   ],
   "metadata": {
    "collapsed": false,
    "ExecuteTime": {
     "end_time": "2024-06-25T15:49:09.866507Z",
     "start_time": "2024-06-25T15:49:09.858613Z"
    }
   },
   "id": "4df77ce4dc3e23e8",
   "execution_count": 195
  },
  {
   "cell_type": "code",
   "outputs": [],
   "source": [
    "# Remove whitespace\n",
    "df['Processor'] = df['Processor'].str.strip()\n",
    "\n",
    "# Harmonize certain processor names\n",
    "df['Processor'] = df['Processor'].str.replace('Octa Core Processor', 'Octa Core')\n",
    "df['Processor'] = df['Processor'].str.replace('Nine-Cores', 'Nine Core')\n",
    "df['Processor'] = df['Processor'].str.replace('Nine Cores', 'Nine Core')\n",
    "df['Processor'] = df['Processor'].str.replace('Deca Core Processor', 'Deca Core')\n",
    "\n",
    "# Drop rows with invalid values\n",
    "df = df[df['Processor'].str.lower() != '128 gb inbuilt']\n",
    "df = df[df['Processor'].str.lower() != '1.3 ghz processor']\n",
    "df = df[df['Processor'].str.lower() != '1.6 ghz processor']\n",
    "df = df[df['Processor'].str.lower() != '1.8 ghz processor']\n",
    "df = df[df['Processor'].str.lower() != '2 ghz processor']\n",
    "df = df[df['Processor'].str.lower() != '2.3 ghz processor']\n",
    "\n",
    "# Convert values to core count (octa = 8, deci = 10, etc.)\n",
    "df['Processor'] = df['Processor'].str.split().str[0]\n",
    "df.loc[df['Processor'] == 'Quad', 'Processor'] = 4\n",
    "df.loc[df['Processor'] == 'Octa', 'Processor'] = 8\n",
    "df.loc[df['Processor'] == 'Deca', 'Processor'] = 10\n",
    "df.loc[df['Processor'] == 'Nine', 'Processor'] = 9\n",
    "\n",
    "# Rename\n",
    "df = df.rename(columns={'Processor': 'core_count'})"
   ],
   "metadata": {
    "collapsed": false,
    "ExecuteTime": {
     "end_time": "2024-06-25T15:49:09.994170Z",
     "start_time": "2024-06-25T15:49:09.959627Z"
    }
   },
   "id": "8d62065cf630c51b",
   "execution_count": 196
  },
  {
   "cell_type": "markdown",
   "source": [
    "In the processor column we have a bunch of categories, and all quite distinct. We also spot another rogue value, so we remove the row there.\n",
    "\n",
    "The first thing we can do is harmonize this column, as many names are similar.\n",
    "\n",
    "Secondarily, we have some cells which don't describe the core count, but the clock speed. We can remove these rows as we have no good way of infering the count."
   ],
   "metadata": {
    "collapsed": false
   },
   "id": "bf2e69e44563b827"
  },
  {
   "cell_type": "code",
   "outputs": [
    {
     "data": {
      "text/plain": "Processor_name\nSnapdragon 8+ Gen1    58\nSnapdragon 8 Gen2     55\nSnapdragon 8 Gen3     44\nSnapdragon 695        36\nSnapdragon 680        34\n                      ..\nDimensity 8000         1\nDimensity  1100        1\nDimensity 920          1\nSnapdragon  765G       1\nHelio A25              1\nName: count, Length: 272, dtype: int64"
     },
     "execution_count": 197,
     "metadata": {},
     "output_type": "execute_result"
    }
   ],
   "source": [
    "df[\"Processor_name\"].value_counts()"
   ],
   "metadata": {
    "collapsed": false,
    "ExecuteTime": {
     "end_time": "2024-06-25T15:49:10.084511Z",
     "start_time": "2024-06-25T15:49:10.075434Z"
    }
   },
   "id": "ac8336b15db0a433",
   "execution_count": 197
  },
  {
   "cell_type": "code",
   "outputs": [],
   "source": [
    "df = df.drop(\"Processor_name\", axis=1)"
   ],
   "metadata": {
    "collapsed": false,
    "ExecuteTime": {
     "end_time": "2024-06-25T15:49:10.162844Z",
     "start_time": "2024-06-25T15:49:10.157215Z"
    }
   },
   "id": "abda1d7d907c5561",
   "execution_count": 198
  },
  {
   "cell_type": "markdown",
   "source": [
    "The processor name doesn't seem useful when we have core count already. Any other processor specs would require an internet search anyway, which we'll not do here."
   ],
   "metadata": {
    "collapsed": false
   },
   "id": "55ff7ce4972a4aa3"
  },
  {
   "cell_type": "code",
   "outputs": [
    {
     "data": {
      "text/plain": "count       1360\nunique       449\ntop       29,990\nfreq          37\nName: Price, dtype: object"
     },
     "execution_count": 199,
     "metadata": {},
     "output_type": "execute_result"
    }
   ],
   "source": [
    "df[\"Price\"].describe()"
   ],
   "metadata": {
    "collapsed": false,
    "ExecuteTime": {
     "end_time": "2024-06-25T15:49:10.242487Z",
     "start_time": "2024-06-25T15:49:10.232367Z"
    }
   },
   "id": "6401200d4bb0470",
   "execution_count": 199
  },
  {
   "cell_type": "code",
   "outputs": [],
   "source": [
    "# Remove commas\n",
    "df['Price'] = df['Price'].str.replace(',', '')\n",
    "# to numeric\n",
    "df['Price'] = pd.to_numeric(df['Price'])"
   ],
   "metadata": {
    "collapsed": false,
    "ExecuteTime": {
     "end_time": "2024-06-25T15:49:10.281120Z",
     "start_time": "2024-06-25T15:49:10.274718Z"
    }
   },
   "id": "e83c1a618b5fd116",
   "execution_count": 200
  },
  {
   "cell_type": "markdown",
   "source": [
    "The price column is mostly fine, but it is in text format, seen by the commas. We quickly convert this to a numeric value."
   ],
   "metadata": {
    "collapsed": false
   },
   "id": "2f95c832b3958ac"
  },
  {
   "cell_type": "code",
   "outputs": [
    {
     "data": {
      "text/plain": "Inbuilt_memory    18\ncore_count        27\nscreen_height      1\ndtype: int64"
     },
     "execution_count": 201,
     "metadata": {},
     "output_type": "execute_result"
    }
   ],
   "source": [
    "# check for missing values\n",
    "missing = df.isnull().sum()\n",
    "missing = missing[missing > 0]\n",
    "missing"
   ],
   "metadata": {
    "collapsed": false,
    "ExecuteTime": {
     "end_time": "2024-06-25T15:49:10.362661Z",
     "start_time": "2024-06-25T15:49:10.353917Z"
    }
   },
   "id": "1c86fe484fb048ba",
   "execution_count": 201
  },
  {
   "cell_type": "code",
   "outputs": [],
   "source": [
    "# Fill in cells\n",
    "df[\"Inbuilt_memory\"] = df[\"Inbuilt_memory\"].fillna(0)\n",
    "\n",
    "# Drop rows\n",
    "df = df.dropna()"
   ],
   "metadata": {
    "collapsed": false,
    "ExecuteTime": {
     "end_time": "2024-06-25T15:49:10.438429Z",
     "start_time": "2024-06-25T15:49:10.428704Z"
    }
   },
   "id": "c13055ff7605a117",
   "execution_count": 202
  },
  {
   "cell_type": "markdown",
   "source": [
    "We now have 3 columns with missing values.\n",
    "\n",
    "In case of inbuilt memory, we can assume that this phone only supports external memory, so we'll fill the values with 0.\n",
    "\n",
    "For the others, we'll remove the rows."
   ],
   "metadata": {
    "collapsed": false
   },
   "id": "bad96a2622c4f32b"
  },
  {
   "cell_type": "code",
   "outputs": [],
   "source": [
    "# Set all column names to lower case\n",
    "df.columns = df.columns.str.lower()"
   ],
   "metadata": {
    "collapsed": false,
    "ExecuteTime": {
     "end_time": "2024-06-25T15:49:10.555118Z",
     "start_time": "2024-06-25T15:49:10.550528Z"
    }
   },
   "id": "c7a11c2e5248bcff",
   "execution_count": 203
  },
  {
   "cell_type": "code",
   "outputs": [
    {
     "name": "stdout",
     "output_type": "stream",
     "text": [
      "<class 'pandas.core.frame.DataFrame'>\n",
      "Index: 1332 entries, 0 to 1369\n",
      "Data columns (total 23 columns):\n",
      " #   Column           Non-Null Count  Dtype  \n",
      "---  ------           --------------  -----  \n",
      " 0   rating           1332 non-null   float32\n",
      " 1   spec_score       1332 non-null   int32  \n",
      " 2   ram              1332 non-null   object \n",
      " 3   battery          1332 non-null   object \n",
      " 4   display          1332 non-null   object \n",
      " 5   external_memory  1332 non-null   int32  \n",
      " 6   price            1332 non-null   int64  \n",
      " 7   company          1332 non-null   object \n",
      " 8   inbuilt_memory   1332 non-null   object \n",
      " 9   fast_charging    1332 non-null   int64  \n",
      " 10  core_count       1332 non-null   object \n",
      " 11  sim              1332 non-null   int32  \n",
      " 12  3g               1332 non-null   int32  \n",
      " 13  4g               1332 non-null   int32  \n",
      " 14  5g               1332 non-null   int32  \n",
      " 15  volte            1332 non-null   int32  \n",
      " 16  vo5g             1332 non-null   int32  \n",
      " 17  front_camera     1332 non-null   int64  \n",
      " 18  rear_camera_1    1332 non-null   int64  \n",
      " 19  rear_camera_2    1332 non-null   int64  \n",
      " 20  rear_camera_3    1332 non-null   int64  \n",
      " 21  screen_width     1332 non-null   object \n",
      " 22  screen_height    1332 non-null   object \n",
      "dtypes: float32(1), int32(8), int64(6), object(8)\n",
      "memory usage: 202.9+ KB\n"
     ]
    }
   ],
   "source": [
    "df.info()"
   ],
   "metadata": {
    "collapsed": false,
    "ExecuteTime": {
     "end_time": "2024-06-25T15:49:10.634956Z",
     "start_time": "2024-06-25T15:49:10.621896Z"
    }
   },
   "id": "f1d8aa4575f3477a",
   "execution_count": 204
  },
  {
   "cell_type": "markdown",
   "source": [],
   "metadata": {
    "collapsed": false
   },
   "id": "b925a6402ef5d89"
  },
  {
   "cell_type": "code",
   "outputs": [],
   "source": [
    "encoder = OneHotEncoder()\n",
    "\n",
    "# Lower values\n",
    "df[\"company\"] = df[\"company\"].str.lower()\n",
    "\n",
    "# Encode company column\n",
    "encoder_df = pd.DataFrame(encoder.fit_transform(df[['company']]).toarray())\n",
    "encoder_df.columns = encoder.get_feature_names_out(['company'])\n",
    "df = df.join(encoder_df)\n",
    "df = df.drop(\"company\", axis=1)"
   ],
   "metadata": {
    "collapsed": false,
    "ExecuteTime": {
     "end_time": "2024-06-25T15:49:10.720108Z",
     "start_time": "2024-06-25T15:49:10.704103Z"
    }
   },
   "id": "3f0d6bb0ee8134ee",
   "execution_count": 205
  },
  {
   "cell_type": "markdown",
   "source": [
    "We only have 1 categorical column left at this point, the company that made the phone. We perform one hot encoding, as we have no specific order to the values."
   ],
   "metadata": {
    "collapsed": false
   },
   "id": "adfc2cdfca8ea6c6"
  },
  {
   "cell_type": "code",
   "outputs": [
    {
     "name": "stderr",
     "output_type": "stream",
     "text": [
      "C:\\Users\\Michael\\AppData\\Local\\Temp\\ipykernel_6164\\908880838.py:3: FutureWarning: errors='ignore' is deprecated and will raise in a future version. Use to_numeric without passing `errors` and catch exceptions explicitly instead\n",
      "  df[col] = pd.to_numeric(df[col], errors='ignore')\n"
     ]
    }
   ],
   "source": [
    "# Convert object columns to numeric\n",
    "for col in df.select_dtypes(include='object').columns:\n",
    "    df[col] = pd.to_numeric(df[col], errors='ignore')\n",
    "    \n",
    "# Set to 32 bit float\n",
    "df = df.astype(\"float32\")"
   ],
   "metadata": {
    "collapsed": false,
    "ExecuteTime": {
     "end_time": "2024-06-25T15:49:10.808064Z",
     "start_time": "2024-06-25T15:49:10.790150Z"
    }
   },
   "id": "a1b1077b9e3c89d4",
   "execution_count": 206
  },
  {
   "cell_type": "markdown",
   "source": [
    "We do some more dtype and name cleaning on the columns, and then we move on to encoding."
   ],
   "metadata": {
    "collapsed": false
   },
   "id": "8178c92eaec81765"
  },
  {
   "cell_type": "code",
   "outputs": [
    {
     "data": {
      "text/plain": "   rating  spec_score       ram   battery   display  external_memory  \\\n0    0.90    0.464286  0.005871  0.476744  0.276316              0.0   \n1    0.35    0.553571  0.005871  0.476744  0.250000              0.0   \n2    0.35    0.482143  0.005871  0.360465  0.263158              0.0   \n\n      price  inbuilt_memory  fast_charging  core_count  ...  company_nothing  \\\n0  0.014656          0.1250            1.0    0.666667  ...              0.0   \n1  0.024269          0.0625            0.0    0.666667  ...              0.0   \n2  0.024269          0.0625            1.0    0.666667  ...              0.0   \n\n   company_oneplus  company_oppo  company_poco  company_realme  \\\n0              0.0           0.0           0.0             0.0   \n1              0.0           0.0           0.0             0.0   \n2              0.0           0.0           0.0             0.0   \n\n   company_samsung  company_tcl  company_tecno  company_vivo  company_xiaomi  \n0              1.0          0.0            0.0           0.0             0.0  \n1              1.0          0.0            0.0           0.0             0.0  \n2              1.0          0.0            0.0           0.0             0.0  \n\n[3 rows x 44 columns]",
      "text/html": "<div>\n<style scoped>\n    .dataframe tbody tr th:only-of-type {\n        vertical-align: middle;\n    }\n\n    .dataframe tbody tr th {\n        vertical-align: top;\n    }\n\n    .dataframe thead th {\n        text-align: right;\n    }\n</style>\n<table border=\"1\" class=\"dataframe\">\n  <thead>\n    <tr style=\"text-align: right;\">\n      <th></th>\n      <th>rating</th>\n      <th>spec_score</th>\n      <th>ram</th>\n      <th>battery</th>\n      <th>display</th>\n      <th>external_memory</th>\n      <th>price</th>\n      <th>inbuilt_memory</th>\n      <th>fast_charging</th>\n      <th>core_count</th>\n      <th>...</th>\n      <th>company_nothing</th>\n      <th>company_oneplus</th>\n      <th>company_oppo</th>\n      <th>company_poco</th>\n      <th>company_realme</th>\n      <th>company_samsung</th>\n      <th>company_tcl</th>\n      <th>company_tecno</th>\n      <th>company_vivo</th>\n      <th>company_xiaomi</th>\n    </tr>\n  </thead>\n  <tbody>\n    <tr>\n      <th>0</th>\n      <td>0.90</td>\n      <td>0.464286</td>\n      <td>0.005871</td>\n      <td>0.476744</td>\n      <td>0.276316</td>\n      <td>0.0</td>\n      <td>0.014656</td>\n      <td>0.1250</td>\n      <td>1.0</td>\n      <td>0.666667</td>\n      <td>...</td>\n      <td>0.0</td>\n      <td>0.0</td>\n      <td>0.0</td>\n      <td>0.0</td>\n      <td>0.0</td>\n      <td>1.0</td>\n      <td>0.0</td>\n      <td>0.0</td>\n      <td>0.0</td>\n      <td>0.0</td>\n    </tr>\n    <tr>\n      <th>1</th>\n      <td>0.35</td>\n      <td>0.553571</td>\n      <td>0.005871</td>\n      <td>0.476744</td>\n      <td>0.250000</td>\n      <td>0.0</td>\n      <td>0.024269</td>\n      <td>0.0625</td>\n      <td>0.0</td>\n      <td>0.666667</td>\n      <td>...</td>\n      <td>0.0</td>\n      <td>0.0</td>\n      <td>0.0</td>\n      <td>0.0</td>\n      <td>0.0</td>\n      <td>1.0</td>\n      <td>0.0</td>\n      <td>0.0</td>\n      <td>0.0</td>\n      <td>0.0</td>\n    </tr>\n    <tr>\n      <th>2</th>\n      <td>0.35</td>\n      <td>0.482143</td>\n      <td>0.005871</td>\n      <td>0.360465</td>\n      <td>0.263158</td>\n      <td>0.0</td>\n      <td>0.024269</td>\n      <td>0.0625</td>\n      <td>1.0</td>\n      <td>0.666667</td>\n      <td>...</td>\n      <td>0.0</td>\n      <td>0.0</td>\n      <td>0.0</td>\n      <td>0.0</td>\n      <td>0.0</td>\n      <td>1.0</td>\n      <td>0.0</td>\n      <td>0.0</td>\n      <td>0.0</td>\n      <td>0.0</td>\n    </tr>\n  </tbody>\n</table>\n<p>3 rows × 44 columns</p>\n</div>"
     },
     "execution_count": 207,
     "metadata": {},
     "output_type": "execute_result"
    }
   ],
   "source": [
    "scaler = MinMaxScaler()\n",
    "\n",
    "df = pd.DataFrame(scaler.fit_transform(df), columns=df.columns)\n",
    "df.head(3)"
   ],
   "metadata": {
    "collapsed": false,
    "ExecuteTime": {
     "end_time": "2024-06-25T15:49:11.010133Z",
     "start_time": "2024-06-25T15:49:10.958795Z"
    }
   },
   "id": "25b1e2539e439d6d",
   "execution_count": 207
  },
  {
   "cell_type": "markdown",
   "source": [
    "Lastly we normalize the data, as some of our values are quite large, which can cause issues during training."
   ],
   "metadata": {
    "collapsed": false
   },
   "id": "5a481c243832e984"
  },
  {
   "cell_type": "code",
   "outputs": [],
   "source": [
    "# reset index\n",
    "df = df.reset_index(drop=True)"
   ],
   "metadata": {
    "collapsed": false,
    "ExecuteTime": {
     "end_time": "2024-06-25T15:49:11.109796Z",
     "start_time": "2024-06-25T15:49:11.104578Z"
    }
   },
   "id": "f852ceab0b0b96d2",
   "execution_count": 208
  },
  {
   "cell_type": "code",
   "outputs": [],
   "source": [
    "# fill nan with 0\n",
    "df = df.fillna(0)"
   ],
   "metadata": {
    "collapsed": false,
    "ExecuteTime": {
     "end_time": "2024-06-25T15:49:11.195056Z",
     "start_time": "2024-06-25T15:49:11.190503Z"
    }
   },
   "id": "74c90dc741e77f6e",
   "execution_count": 209
  },
  {
   "cell_type": "code",
   "outputs": [
    {
     "name": "stdout",
     "output_type": "stream",
     "text": [
      "<class 'pandas.core.frame.DataFrame'>\n",
      "RangeIndex: 1332 entries, 0 to 1331\n",
      "Data columns (total 44 columns):\n",
      " #   Column            Non-Null Count  Dtype  \n",
      "---  ------            --------------  -----  \n",
      " 0   rating            1332 non-null   float32\n",
      " 1   spec_score        1332 non-null   float32\n",
      " 2   ram               1332 non-null   float32\n",
      " 3   battery           1332 non-null   float32\n",
      " 4   display           1332 non-null   float32\n",
      " 5   external_memory   1332 non-null   float32\n",
      " 6   price             1332 non-null   float32\n",
      " 7   inbuilt_memory    1332 non-null   float32\n",
      " 8   fast_charging     1332 non-null   float32\n",
      " 9   core_count        1332 non-null   float32\n",
      " 10  sim               1332 non-null   float32\n",
      " 11  3g                1332 non-null   float32\n",
      " 12  4g                1332 non-null   float32\n",
      " 13  5g                1332 non-null   float32\n",
      " 14  volte             1332 non-null   float32\n",
      " 15  vo5g              1332 non-null   float32\n",
      " 16  front_camera      1332 non-null   float32\n",
      " 17  rear_camera_1     1332 non-null   float32\n",
      " 18  rear_camera_2     1332 non-null   float32\n",
      " 19  rear_camera_3     1332 non-null   float32\n",
      " 20  screen_width      1332 non-null   float32\n",
      " 21  screen_height     1332 non-null   float32\n",
      " 22  company_asus      1332 non-null   float32\n",
      " 23  company_coolpad   1332 non-null   float32\n",
      " 24  company_gionee    1332 non-null   float32\n",
      " 25  company_google    1332 non-null   float32\n",
      " 26  company_honor     1332 non-null   float32\n",
      " 27  company_huawei    1332 non-null   float32\n",
      " 28  company_iqoo      1332 non-null   float32\n",
      " 29  company_itel      1332 non-null   float32\n",
      " 30  company_lava      1332 non-null   float32\n",
      " 31  company_lenovo    1332 non-null   float32\n",
      " 32  company_lg        1332 non-null   float32\n",
      " 33  company_motorola  1332 non-null   float32\n",
      " 34  company_nothing   1332 non-null   float32\n",
      " 35  company_oneplus   1332 non-null   float32\n",
      " 36  company_oppo      1332 non-null   float32\n",
      " 37  company_poco      1332 non-null   float32\n",
      " 38  company_realme    1332 non-null   float32\n",
      " 39  company_samsung   1332 non-null   float32\n",
      " 40  company_tcl       1332 non-null   float32\n",
      " 41  company_tecno     1332 non-null   float32\n",
      " 42  company_vivo      1332 non-null   float32\n",
      " 43  company_xiaomi    1332 non-null   float32\n",
      "dtypes: float32(44)\n",
      "memory usage: 229.1 KB\n"
     ]
    }
   ],
   "source": [
    "df.info()"
   ],
   "metadata": {
    "collapsed": false,
    "ExecuteTime": {
     "end_time": "2024-06-25T15:49:11.274030Z",
     "start_time": "2024-06-25T15:49:11.262673Z"
    }
   },
   "id": "2ef1351a6df7c673",
   "execution_count": 210
  },
  {
   "cell_type": "markdown",
   "source": [
    "Our dataset is now cleaned."
   ],
   "metadata": {
    "collapsed": false
   },
   "id": "d560d5b87607986"
  },
  {
   "cell_type": "markdown",
   "source": [
    "# Model"
   ],
   "metadata": {
    "collapsed": false
   },
   "id": "6141ca49d5562ea3"
  },
  {
   "cell_type": "markdown",
   "source": [
    "## Preparation"
   ],
   "metadata": {
    "collapsed": false
   },
   "id": "5699180f55138c24"
  },
  {
   "cell_type": "code",
   "outputs": [],
   "source": [
    "EPOCHS = 100\n",
    "BATCH_SIZE = 12"
   ],
   "metadata": {
    "collapsed": false,
    "ExecuteTime": {
     "end_time": "2024-06-25T15:49:11.353784Z",
     "start_time": "2024-06-25T15:49:11.349784Z"
    }
   },
   "id": "6c983f2d3dc59d08",
   "execution_count": 211
  },
  {
   "cell_type": "markdown",
   "source": [
    "We have now cleaned our dataset quite a bit. Next is splitting it into features and target. "
   ],
   "metadata": {
    "collapsed": false
   },
   "id": "75121f423299cac9"
  },
  {
   "cell_type": "code",
   "outputs": [],
   "source": [
    "train, test = train_test_split(df, test_size=0.2, random_state=42)"
   ],
   "metadata": {
    "collapsed": false,
    "ExecuteTime": {
     "end_time": "2024-06-25T15:49:11.504121Z",
     "start_time": "2024-06-25T15:49:11.496789Z"
    }
   },
   "id": "a10f613e89bf2d81",
   "execution_count": 212
  },
  {
   "cell_type": "code",
   "outputs": [],
   "source": [
    "y_train = train[\"price\"]\n",
    "y_test = test[\"price\"]\n",
    "X_train = train.drop(\"price\", axis=1)\n",
    "X_test = test.drop(\"price\", axis=1)"
   ],
   "metadata": {
    "collapsed": false,
    "ExecuteTime": {
     "end_time": "2024-06-25T15:49:11.569803Z",
     "start_time": "2024-06-25T15:49:11.563107Z"
    }
   },
   "id": "6953b20606dfbde4",
   "execution_count": 213
  },
  {
   "cell_type": "code",
   "outputs": [],
   "source": [
    "# convert to torch dataset\n",
    "class PhoneDataset(Dataset):\n",
    "    def __init__(self, X: pd.Series, y: pd.Series):\n",
    "        self.X = torch.from_numpy(X.to_numpy()).float()\n",
    "        self.y = torch.from_numpy(y.to_numpy()).float().unsqueeze(1)\n",
    "        \n",
    "    def __len__(self):\n",
    "        return len(self.X)\n",
    "    \n",
    "    def __getitem__(self, idx):\n",
    "        return self.X[idx], self.y[idx]\n"
   ],
   "metadata": {
    "collapsed": false,
    "ExecuteTime": {
     "end_time": "2024-06-25T15:49:11.660903Z",
     "start_time": "2024-06-25T15:49:11.655684Z"
    }
   },
   "id": "614ae47889102e9c",
   "execution_count": 214
  },
  {
   "cell_type": "code",
   "outputs": [],
   "source": [
    "train_dataset = PhoneDataset(X_train, y_train)\n",
    "test_dataset = PhoneDataset(X_test, y_test)"
   ],
   "metadata": {
    "collapsed": false,
    "ExecuteTime": {
     "end_time": "2024-06-25T15:49:11.710530Z",
     "start_time": "2024-06-25T15:49:11.704449Z"
    }
   },
   "id": "acfc0773950bd7bd",
   "execution_count": 215
  },
  {
   "cell_type": "code",
   "outputs": [],
   "source": [
    "train_loader = DataLoader(train_dataset, batch_size=BATCH_SIZE, shuffle=True)\n",
    "test_loader = DataLoader(test_dataset, batch_size=BATCH_SIZE, shuffle=True)"
   ],
   "metadata": {
    "collapsed": false,
    "ExecuteTime": {
     "end_time": "2024-06-25T15:49:11.791251Z",
     "start_time": "2024-06-25T15:49:11.784548Z"
    }
   },
   "id": "e63279821a3803e2",
   "execution_count": 216
  },
  {
   "cell_type": "markdown",
   "source": [
    "We now have all of our variables, and we'll be ready to train our model."
   ],
   "metadata": {
    "collapsed": false
   },
   "id": "e5345bb2f93aa058"
  },
  {
   "cell_type": "markdown",
   "source": [
    "## Model"
   ],
   "metadata": {
    "collapsed": false
   },
   "id": "2029dfc30e307848"
  },
  {
   "cell_type": "code",
   "outputs": [],
   "source": [
    "class MyModel(nn.Module):\n",
    "    def __init__(self, input_size):\n",
    "        super().__init__()\n",
    "        self.fc1 = nn.Linear(input_size, 128)\n",
    "        self.fc2 = nn.Linear(128, 64)\n",
    "        self.fc3 = nn.Linear(64, 1)\n",
    "        \n",
    "    def forward(self, x):\n",
    "        x = torch.relu(self.fc1(x))\n",
    "        x = torch.relu(self.fc2(x))\n",
    "        x = self.fc3(x)\n",
    "        return x"
   ],
   "metadata": {
    "collapsed": false,
    "ExecuteTime": {
     "end_time": "2024-06-25T15:49:11.835124Z",
     "start_time": "2024-06-25T15:49:11.830122Z"
    }
   },
   "id": "422599993bc7030c",
   "execution_count": 217
  },
  {
   "cell_type": "markdown",
   "source": [
    "Above is a simple deep regression model. It consists of 4 fully connected layers, with ReLU activation functions."
   ],
   "metadata": {
    "collapsed": false
   },
   "id": "f02ce17f9efd7fd0"
  },
  {
   "cell_type": "code",
   "outputs": [],
   "source": [
    "input_dim = X_train.shape[1]\n",
    "model = MyModel(input_dim)\n",
    "\n",
    "loss_fun =  nn.MSELoss()\n",
    "optimizer = optim.Adam(model.parameters(), lr=0.0001)"
   ],
   "metadata": {
    "collapsed": false,
    "ExecuteTime": {
     "end_time": "2024-06-25T15:49:11.898121Z",
     "start_time": "2024-06-25T15:49:11.890117Z"
    }
   },
   "id": "5d61708bc9191024",
   "execution_count": 218
  },
  {
   "cell_type": "markdown",
   "source": [
    "## Training"
   ],
   "metadata": {
    "collapsed": false
   },
   "id": "2f34477a19d553e9"
  },
  {
   "cell_type": "code",
   "outputs": [
    {
     "name": "stdout",
     "output_type": "stream",
     "text": [
      "[0.5999999046325684, 0.410714328289032, 0.005870841443538666, 0.3604651689529419, 0.2631579041481018, 0.0, 0.0625, 0.0, 0.6666666865348816, 1.0, 1.0, 1.0, 0.0, 1.0, 0.0, 0.0833333358168602, 0.06499999761581421, 0.078125, 0.03999999910593033, 0.5656566023826599, 0.0, 0.0, 0.0, 0.0, 0.0, 0.0, 0.0, 0.0, 0.0, 0.0, 0.0, 0.0, 0.0, 0.0, 0.0, 0.0, 0.0, 1.0, 0.0, 0.0, 0.0, 0.0, 0.0]\n",
      "[0.004326090216636658]\n"
     ]
    }
   ],
   "source": [
    "for i, (X_batch, y_batch) in enumerate(train_loader):\n",
    "    if i > 0:\n",
    "        break\n",
    "    print(X_batch[0].tolist())\n",
    "    print(y_batch[0].tolist())"
   ],
   "metadata": {
    "collapsed": false,
    "ExecuteTime": {
     "end_time": "2024-06-25T15:49:11.927510Z",
     "start_time": "2024-06-25T15:49:11.921304Z"
    }
   },
   "id": "2db78aba2bdf46a3",
   "execution_count": 219
  },
  {
   "cell_type": "code",
   "outputs": [
    {
     "name": "stdout",
     "output_type": "stream",
     "text": [
      "Epoch: 0, loss: 0.01966866189770903, val_loss: 0.01647582752427653\n",
      "Epoch: 1, loss: 0.01613654484946197, val_loss: 0.013734639318578917\n",
      "Epoch: 2, loss: 0.01381878402042255, val_loss: 0.011604286381043494\n",
      "Epoch: 3, loss: 0.011943147304530643, val_loss: 0.009863330835840949\n",
      "Epoch: 4, loss: 0.010493851440770322, val_loss: 0.008365264982390016\n",
      "Epoch: 5, loss: 0.009270692987137296, val_loss: 0.0070775121541531835\n",
      "Epoch: 6, loss: 0.00826428403745646, val_loss: 0.006141077185495068\n",
      "Epoch: 7, loss: 0.00750993653279049, val_loss: 0.00563087815206255\n",
      "Epoch: 8, loss: 0.006996406306345225, val_loss: 0.005102368021059943\n",
      "Epoch: 9, loss: 0.006651764309159323, val_loss: 0.005231864264477854\n",
      "Epoch: 10, loss: 0.006236929506628534, val_loss: 0.0046671506057938805\n",
      "Epoch: 11, loss: 0.006038375283209502, val_loss: 0.004459383912667956\n",
      "Epoch: 12, loss: 0.005684523691823496, val_loss: 0.004172809148693214\n",
      "Epoch: 13, loss: 0.00554405303810608, val_loss: 0.0040972207966463075\n",
      "Epoch: 14, loss: 0.005367630177041453, val_loss: 0.0038520146626979113\n",
      "Epoch: 15, loss: 0.00517010822855564, val_loss: 0.0038478625292950514\n",
      "Epoch: 16, loss: 0.0049381006621556835, val_loss: 0.0037512500446451745\n",
      "Epoch: 17, loss: 0.0048038745567129315, val_loss: 0.00367656128693615\n",
      "Epoch: 18, loss: 0.004727569119311513, val_loss: 0.0035800561005168634\n",
      "Epoch: 19, loss: 0.004613518522623298, val_loss: 0.0033942517753609495\n",
      "Epoch: 20, loss: 0.004494729571520571, val_loss: 0.003347424203125031\n",
      "Epoch: 21, loss: 0.004434757514103326, val_loss: 0.0033011700269644675\n",
      "Epoch: 22, loss: 0.004281423564443072, val_loss: 0.003340639244846028\n",
      "Epoch: 23, loss: 0.004109535667145353, val_loss: 0.003360692730537899\n",
      "Epoch: 24, loss: 0.00401817304683912, val_loss: 0.0032705689208460567\n",
      "Epoch: 25, loss: 0.003945425235838996, val_loss: 0.003961584070171027\n",
      "Epoch: 26, loss: 0.003973390292108132, val_loss: 0.0033188868445627713\n",
      "Epoch: 27, loss: 0.003823386538601114, val_loss: 0.0030940963871493614\n",
      "Epoch: 28, loss: 0.0037651205379149637, val_loss: 0.00324745245186774\n",
      "Epoch: 29, loss: 0.003705375347472204, val_loss: 0.0032136915226304986\n",
      "Epoch: 30, loss: 0.0035535343249035434, val_loss: 0.003013252946244472\n",
      "Epoch: 31, loss: 0.0035154748082767877, val_loss: 0.0030021941208321114\n",
      "Epoch: 32, loss: 0.003580198461370375, val_loss: 0.0039200967926855965\n",
      "Epoch: 33, loss: 0.003489254683771516, val_loss: 0.0030077766050058212\n",
      "Epoch: 34, loss: 0.0033977549919450467, val_loss: 0.0029211981859787\n",
      "Epoch: 35, loss: 0.0033046139971211847, val_loss: 0.002899475563975537\n",
      "Epoch: 36, loss: 0.0033691643895529043, val_loss: 0.003286638355348259\n",
      "Epoch: 37, loss: 0.0032862038750546786, val_loss: 0.003256152836990583\n",
      "Epoch: 38, loss: 0.0032121068297681302, val_loss: 0.0028737142989563795\n",
      "Epoch: 39, loss: 0.0031779910883476454, val_loss: 0.0030304849876657777\n",
      "Epoch: 40, loss: 0.003212517684618576, val_loss: 0.0029380776180440316\n",
      "Epoch: 41, loss: 0.003216341098317918, val_loss: 0.00294784753350541\n",
      "Epoch: 42, loss: 0.003089070440141819, val_loss: 0.002817509822425959\n",
      "Epoch: 43, loss: 0.0030958284895338663, val_loss: 0.0028291105472422\n",
      "Epoch: 44, loss: 0.0030112758421422807, val_loss: 0.0028700183889747636\n",
      "Epoch: 45, loss: 0.0030268788575770313, val_loss: 0.002773609881684103\n",
      "Epoch: 46, loss: 0.0029731939060828032, val_loss: 0.0028745610489631476\n",
      "Epoch: 47, loss: 0.0029358749377300566, val_loss: 0.0028376485038872647\n",
      "Epoch: 48, loss: 0.0029100999052981648, val_loss: 0.0030253504671196897\n",
      "Epoch: 49, loss: 0.0029332217713948757, val_loss: 0.002970722954436813\n",
      "Epoch: 50, loss: 0.002823341148970858, val_loss: 0.002792314664870703\n",
      "Epoch: 51, loss: 0.0028618517854339916, val_loss: 0.0029022593061318216\n",
      "Epoch: 52, loss: 0.0028232959091919734, val_loss: 0.0029097147154338336\n",
      "Epoch: 53, loss: 0.002822901313572473, val_loss: 0.0028809381335082908\n",
      "Epoch: 54, loss: 0.00273875048020436, val_loss: 0.002845190027627446\n",
      "Epoch: 55, loss: 0.002718358103112642, val_loss: 0.0027253684833261145\n",
      "Epoch: 56, loss: 0.0027049388193650945, val_loss: 0.0027336104236462193\n",
      "Epoch: 57, loss: 0.0026600220459094795, val_loss: 0.00278789389109158\n",
      "Epoch: 58, loss: 0.0026837546887527627, val_loss: 0.0027714093828209393\n",
      "Epoch: 59, loss: 0.0026115427399315775, val_loss: 0.0027614956944371047\n",
      "Epoch: 60, loss: 0.0026674534557478797, val_loss: 0.0028793388906785326\n",
      "Epoch: 61, loss: 0.002572969914632431, val_loss: 0.002833628113401811\n",
      "Epoch: 62, loss: 0.0025569468498258755, val_loss: 0.0026568159114306227\n",
      "Epoch: 63, loss: 0.0025313960782676055, val_loss: 0.003193920088486503\n",
      "Epoch: 64, loss: 0.0024931096598398714, val_loss: 0.003438479408783757\n",
      "Epoch: 65, loss: 0.0024778232056244663, val_loss: 0.0026695090801576557\n",
      "Epoch: 66, loss: 0.0025216985336606905, val_loss: 0.0026805683282082496\n",
      "Epoch: 67, loss: 0.0024496845484402534, val_loss: 0.0029669088088785825\n",
      "Epoch: 68, loss: 0.0024973340272011362, val_loss: 0.002910422394052148\n",
      "Epoch: 69, loss: 0.0024172651880352727, val_loss: 0.003381293535273036\n",
      "Epoch: 70, loss: 0.0024917446046785106, val_loss: 0.0027452597543900915\n",
      "Epoch: 71, loss: 0.0023674302792642266, val_loss: 0.0029136500240344067\n",
      "Epoch: 72, loss: 0.002349791254192915, val_loss: 0.0027115203354143255\n",
      "Epoch: 73, loss: 0.002314497897888042, val_loss: 0.0025999627060904777\n",
      "Epoch: 74, loss: 0.002277416402403412, val_loss: 0.002743461973453953\n",
      "Epoch: 75, loss: 0.002378329111124504, val_loss: 0.00269175618228948\n",
      "Epoch: 76, loss: 0.0022694318708335833, val_loss: 0.0030698580591453483\n",
      "Epoch: 77, loss: 0.002243147530851969, val_loss: 0.0026854564000487976\n",
      "Epoch: 78, loss: 0.0021962269272765124, val_loss: 0.0026979220818485255\n",
      "Epoch: 79, loss: 0.002191147006874161, val_loss: 0.0027332198932645438\n",
      "Epoch: 80, loss: 0.002181928934466638, val_loss: 0.002736881299389769\n",
      "Epoch: 81, loss: 0.0021833104877392604, val_loss: 0.002815454229003871\n",
      "Epoch: 82, loss: 0.0020848484997627106, val_loss: 0.0032068300997311976\n",
      "Epoch: 83, loss: 0.0021774422461062334, val_loss: 0.0028066136595874054\n",
      "Epoch: 84, loss: 0.002153908014702977, val_loss: 0.002612869042660231\n",
      "Epoch: 85, loss: 0.0021143543783815975, val_loss: 0.0026398522667991724\n",
      "Epoch: 86, loss: 0.002057952842161091, val_loss: 0.0026494479983660353\n",
      "Epoch: 87, loss: 0.0020671840387611034, val_loss: 0.002798794310681684\n",
      "Epoch: 88, loss: 0.0020408880474370268, val_loss: 0.003368293618499909\n",
      "Epoch: 89, loss: 0.0020385731470750207, val_loss: 0.0026650165293730147\n",
      "Epoch: 90, loss: 0.0020647892349771107, val_loss: 0.0026837169628023453\n",
      "Epoch: 91, loss: 0.002039943379284605, val_loss: 0.002620049925810789\n",
      "Epoch: 92, loss: 0.002030055125778949, val_loss: 0.002823812160742186\n",
      "Epoch: 93, loss: 0.0019723632476904714, val_loss: 0.002597472926541029\n",
      "Epoch: 94, loss: 0.001968104385586424, val_loss: 0.002980597853741568\n",
      "Epoch: 95, loss: 0.0018998516221227272, val_loss: 0.0026415064361493064\n",
      "Epoch: 96, loss: 0.001999270373509328, val_loss: 0.0026427428899256956\n",
      "Epoch: 97, loss: 0.0019191084789331962, val_loss: 0.002837742071436799\n",
      "Epoch: 98, loss: 0.0018617908671116352, val_loss: 0.002738200178693818\n",
      "Epoch: 99, loss: 0.001828108273585212, val_loss: 0.002838184099148392\n"
     ]
    }
   ],
   "source": [
    "for epoch in range(EPOCHS):\n",
    "    loss_list = []\n",
    "    val_loss_list = []\n",
    "\n",
    "    # training\n",
    "    model.train()\n",
    "    for X_batch, y_batch in train_loader:\n",
    "        optimizer.zero_grad()\n",
    "        y_pred = model(X_batch)\n",
    "        \n",
    "        loss = loss_fun(y_pred, y_batch)\n",
    "        loss_list.append(loss.item())\n",
    "        \n",
    "        loss.backward()\n",
    "        optimizer.step()\n",
    "\n",
    "    # testing\n",
    "    model.eval()\n",
    "    with torch.no_grad():\n",
    "        for X_batch, y_batch in test_loader:\n",
    "            y_pred = model(X_batch)\n",
    "            val_loss = loss_fun(y_pred, y_batch)\n",
    "            val_loss_list.append(val_loss.item())\n",
    "        \n",
    "    print(f\"Epoch: {epoch}, loss: {np.nanmean(loss_list)}, val_loss: {np.nanmean(val_loss_list)}\")\n",
    "        "
   ],
   "metadata": {
    "collapsed": false,
    "ExecuteTime": {
     "end_time": "2024-06-25T15:49:38.496480Z",
     "start_time": "2024-06-25T15:49:11.985799Z"
    }
   },
   "id": "4608a4c3ad8390f2",
   "execution_count": 220
  },
  {
   "cell_type": "code",
   "outputs": [
    {
     "name": "stdout",
     "output_type": "stream",
     "text": [
      "R2 Score: 0.6558884200842484\n"
     ]
    }
   ],
   "source": [
    "# R2 Score\n",
    "scores = []\n",
    "model.eval()\n",
    "with torch.no_grad():\n",
    "\n",
    "    for X_batch, y_batch in test_loader:\n",
    "        y_pred = model(X_batch)\n",
    "        \n",
    "        y_pred = y_pred.numpy().reshape(-1)\n",
    "        y_batch = y_batch.numpy().reshape(-1)\n",
    "        scores.append(r2_score(y_batch, y_pred))\n",
    "    \n",
    "    r2_total = np.mean(scores)\n",
    "    print(f\"R2 Score: {r2_total}\")"
   ],
   "metadata": {
    "collapsed": false,
    "ExecuteTime": {
     "end_time": "2024-06-25T15:59:25.891884Z",
     "start_time": "2024-06-25T15:59:25.863078Z"
    }
   },
   "id": "20ad00fed7f92f77",
   "execution_count": 225
  }
 ],
 "metadata": {
  "kernelspec": {
   "display_name": "Python 3",
   "language": "python",
   "name": "python3"
  },
  "language_info": {
   "codemirror_mode": {
    "name": "ipython",
    "version": 2
   },
   "file_extension": ".py",
   "mimetype": "text/x-python",
   "name": "python",
   "nbconvert_exporter": "python",
   "pygments_lexer": "ipython2",
   "version": "2.7.6"
  }
 },
 "nbformat": 4,
 "nbformat_minor": 5
}
